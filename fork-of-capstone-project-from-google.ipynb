{
 "cells": [
  {
   "cell_type": "markdown",
   "id": "77870107",
   "metadata": {
    "papermill": {
     "duration": 0.025645,
     "end_time": "2022-06-20T06:11:43.383460",
     "exception": false,
     "start_time": "2022-06-20T06:11:43.357815",
     "status": "completed"
    },
    "tags": []
   },
   "source": [
    "# Google data analytics Capstone Project: How does a bike-share navigate speedy success?\n",
    "\n",
    "* Author: **[Ladislau André](http://https://ladislau2020.github.io/2021/CV/index.html)**\n",
    "* dataset: [Cyclistic Dataset](http://)\n",
    "* Date: *04-06-2022*\n",
    "\n"
   ]
  },
  {
   "cell_type": "code",
   "execution_count": 1,
   "id": "52995293",
   "metadata": {
    "execution": {
     "iopub.execute_input": "2022-06-20T06:11:43.431344Z",
     "iopub.status.busy": "2022-06-20T06:11:43.430179Z",
     "iopub.status.idle": "2022-06-20T06:11:43.442507Z",
     "shell.execute_reply": "2022-06-20T06:11:43.441457Z"
    },
    "papermill": {
     "duration": 0.03841,
     "end_time": "2022-06-20T06:11:43.444961",
     "exception": false,
     "start_time": "2022-06-20T06:11:43.406551",
     "status": "completed"
    },
    "tags": []
   },
   "outputs": [],
   "source": [
    "from IPython.display import Image\n",
    "import os"
   ]
  },
  {
   "cell_type": "code",
   "execution_count": 2,
   "id": "99b1b9d7",
   "metadata": {
    "execution": {
     "iopub.execute_input": "2022-06-20T06:11:43.491068Z",
     "iopub.status.busy": "2022-06-20T06:11:43.490423Z",
     "iopub.status.idle": "2022-06-20T06:11:43.505967Z",
     "shell.execute_reply": "2022-06-20T06:11:43.504963Z"
    },
    "papermill": {
     "duration": 0.041529,
     "end_time": "2022-06-20T06:11:43.508538",
     "exception": false,
     "start_time": "2022-06-20T06:11:43.467009",
     "status": "completed"
    },
    "tags": []
   },
   "outputs": [
    {
     "data": {
      "image/png": "[encoded data removed]",
      "text/plain": [
       "<IPython.core.display.Image object>"
      ]
     },
     "execution_count": 2,
     "metadata": {},
     "output_type": "execute_result"
    }
   ],
   "source": [
    "Image(\"../input/documentos/bike share ft.png\")"
   ]
  },
  {
   "cell_type": "markdown",
   "id": "71bafa2a",
   "metadata": {
    "papermill": {
     "duration": 0.022112,
     "end_time": "2022-06-20T06:11:43.552437",
     "exception": false,
     "start_time": "2022-06-20T06:11:43.530325",
     "status": "completed"
    },
    "tags": []
   },
   "source": [
    "# Introduction\n"
   ]
  },
  {
   "cell_type": "markdown",
   "id": "7c469873",
   "metadata": {
    "papermill": {
     "duration": 0.021049,
     "end_time": "2022-06-20T06:11:43.595629",
     "exception": false,
     "start_time": "2022-06-20T06:11:43.574580",
     "status": "completed"
    },
    "tags": []
   },
   "source": [
    "Welcome to the Cyclistic bike-share analysis case study! In this case study, we will perform many real-world tasks of a junior\n",
    "data analyst. we will work for a fictional company, Cyclistic, and meet different characters and team members. In order to\n",
    "answer the key business questions, we will follow the steps of the data analysis process: **ask, prepare, process, analyze,\n",
    "share,** and **act**.\n"
   ]
  },
  {
   "cell_type": "markdown",
   "id": "16e43608",
   "metadata": {
    "papermill": {
     "duration": 0.02227,
     "end_time": "2022-06-20T06:11:43.640451",
     "exception": false,
     "start_time": "2022-06-20T06:11:43.618181",
     "status": "completed"
    },
    "tags": []
   },
   "source": [
    "## Scenario"
   ]
  },
  {
   "cell_type": "markdown",
   "id": "15f9336c",
   "metadata": {
    "papermill": {
     "duration": 0.021042,
     "end_time": "2022-06-20T06:11:43.683033",
     "exception": false,
     "start_time": "2022-06-20T06:11:43.661991",
     "status": "completed"
    },
    "tags": []
   },
   "source": [
    "A junior data analyst working in the marketing analyst team at Cyclistic, a bike-share company in Chicago. The director\n",
    "of marketing believes the company’s future success depends on maximizing the number of annual memberships. Therefore,\n",
    "the team wants to understand how casual riders and annual members use Cyclistic bikes differently. From these insights,\n",
    "the team will design a new marketing strategy to convert casual riders into annual members. But first, Cyclistic executives\n",
    "must approve your recommendations, so they must be backed up with compelling data insights and professional data\n",
    "visualizations."
   ]
  },
  {
   "cell_type": "markdown",
   "id": "9f6324bc",
   "metadata": {
    "papermill": {
     "duration": 0.02101,
     "end_time": "2022-06-20T06:11:43.726265",
     "exception": false,
     "start_time": "2022-06-20T06:11:43.705255",
     "status": "completed"
    },
    "tags": []
   },
   "source": [
    "## Characters and teams"
   ]
  },
  {
   "cell_type": "markdown",
   "id": "324bed26",
   "metadata": {
    "papermill": {
     "duration": 0.02125,
     "end_time": "2022-06-20T06:11:43.770429",
     "exception": false,
     "start_time": "2022-06-20T06:11:43.749179",
     "status": "completed"
    },
    "tags": []
   },
   "source": [
    "* **Cyclistic**: A bike-share program that features more than 5,800 bicycles and 600 docking stations. Cyclistic sets itself apart by also offering reclining bikes, hand tricycles, and cargo bikes, making bike-share more inclusive to people with disabilities and riders who can’t use a standard two-wheeled bike. The majority of riders opt for traditional bikes; about 8% of riders use the assistive options. Cyclistic users are more likely to ride for leisure, but about 30% use them to commute to work each day.\n",
    "\n",
    "* **Lily Moreno**: The director of marketing and your manager. Moreno is responsible for the development of campaigns and initiatives to promote the bike-share program. These may include email, social media, and other channels.\n",
    "\n",
    "* **Cyclistic marketing analytics team**: A team of data analysts who are responsible for collecting, analyzing, and reporting data that helps guide Cyclistic marketing strategy. You joined this team six months ago and have been busy learning about Cyclistic’s mission and business goals — as well as how you, as a junior data analyst, can help Cyclistic achieve them.\n",
    "* **Cyclistic executive team**: The notoriously detail-oriented executive team will decide whether to approve the recommended marketing program.\n"
   ]
  },
  {
   "cell_type": "markdown",
   "id": "c51ca9c1",
   "metadata": {
    "papermill": {
     "duration": 0.02087,
     "end_time": "2022-06-20T06:11:43.812428",
     "exception": false,
     "start_time": "2022-06-20T06:11:43.791558",
     "status": "completed"
    },
    "tags": []
   },
   "source": [
    "## About the company"
   ]
  },
  {
   "cell_type": "markdown",
   "id": "1baa4c44",
   "metadata": {
    "papermill": {
     "duration": 0.02129,
     "end_time": "2022-06-20T06:11:43.856614",
     "exception": false,
     "start_time": "2022-06-20T06:11:43.835324",
     "status": "completed"
    },
    "tags": []
   },
   "source": [
    "In 2016, Cyclistic launched a successful bike-share offering. Since then, the program has grown to a fleet of 5,824 bicycles that\n",
    "are geotracked and locked into a network of 692 stations across Chicago. The bikes can be unlocked from one station and\n",
    "returned to any other station in the system anytime."
   ]
  },
  {
   "cell_type": "markdown",
   "id": "9f803d5e",
   "metadata": {
    "papermill": {
     "duration": 0.021417,
     "end_time": "2022-06-20T06:11:43.899840",
     "exception": false,
     "start_time": "2022-06-20T06:11:43.878423",
     "status": "completed"
    },
    "tags": []
   },
   "source": [
    "Until now, Cyclistic’s marketing strategy relied on building general awareness and appealing to broad consumer segments.\n",
    "One approach that helped make these things possible was the flexibility of its pricing plans: single-ride passes, full-day passes,\n",
    "and annual memberships. Customers who purchase single-ride or full-day passes are referred to as casual riders. Customers\n",
    "who purchase annual memberships are Cyclistic members."
   ]
  },
  {
   "cell_type": "markdown",
   "id": "caca99ce",
   "metadata": {
    "papermill": {
     "duration": 0.021061,
     "end_time": "2022-06-20T06:11:43.942837",
     "exception": false,
     "start_time": "2022-06-20T06:11:43.921776",
     "status": "completed"
    },
    "tags": []
   },
   "source": [
    "Cyclistic’s finance analysts have concluded that annual members are much more profitable than casual riders. Although the\n",
    "pricing flexibility helps Cyclistic attract more customers, Moreno believes that maximizing the number of annual members will\n",
    "be key to future growth. Rather than creating a marketing campaign that targets all-new customers, Moreno believes there is a\n",
    "very good chance to convert casual riders into members. She notes that casual riders are already aware of the Cyclistic\n",
    "program and have chosen Cyclistic for their mobility needs."
   ]
  },
  {
   "cell_type": "markdown",
   "id": "8cf617b5",
   "metadata": {
    "papermill": {
     "duration": 0.021675,
     "end_time": "2022-06-20T06:11:43.986137",
     "exception": false,
     "start_time": "2022-06-20T06:11:43.964462",
     "status": "completed"
    },
    "tags": []
   },
   "source": [
    "Moreno has set a clear goal: Design marketing strategies aimed at converting casual riders into annual members. In order to\n",
    "do that, however, the marketing analyst team needs to better understand how annual members and casual riders differ, why\n",
    "casual riders would buy a membership, and how digital media could affect their marketing tactics. Moreno and her team are\n",
    "interested in analyzing the Cyclistic historical bike trip data to identify trends."
   ]
  },
  {
   "cell_type": "markdown",
   "id": "ccfe3be4",
   "metadata": {
    "papermill": {
     "duration": 0.026939,
     "end_time": "2022-06-20T06:11:44.038450",
     "exception": false,
     "start_time": "2022-06-20T06:11:44.011511",
     "status": "completed"
    },
    "tags": []
   },
   "source": [
    "# Ask "
   ]
  },
  {
   "cell_type": "markdown",
   "id": "4aacde75",
   "metadata": {
    "papermill": {
     "duration": 0.029262,
     "end_time": "2022-06-20T06:11:44.095052",
     "exception": false,
     "start_time": "2022-06-20T06:11:44.065790",
     "status": "completed"
    },
    "tags": []
   },
   "source": [
    "## Three questions will guide the future marketing program"
   ]
  },
  {
   "cell_type": "markdown",
   "id": "c362b89a",
   "metadata": {
    "papermill": {
     "duration": 0.021134,
     "end_time": "2022-06-20T06:11:44.138413",
     "exception": false,
     "start_time": "2022-06-20T06:11:44.117279",
     "status": "completed"
    },
    "tags": []
   },
   "source": [
    "1.  How do annual members and casual riders use Cyclistic bikes differently?\n",
    "2. Why would casual riders buy Cyclistic annual memberships?\n",
    "3. How can Cyclistic use digital media to influence casual riders to become members"
   ]
  },
  {
   "cell_type": "markdown",
   "id": "3aa73c99",
   "metadata": {
    "papermill": {
     "duration": 0.022239,
     "end_time": "2022-06-20T06:11:44.182369",
     "exception": false,
     "start_time": "2022-06-20T06:11:44.160130",
     "status": "completed"
    },
    "tags": []
   },
   "source": [
    "**Although we have three questions to be answered, the analysis we will perform focuses only in the first question**"
   ]
  },
  {
   "cell_type": "markdown",
   "id": "af08b32b",
   "metadata": {
    "papermill": {
     "duration": 0.020962,
     "end_time": "2022-06-20T06:11:44.225094",
     "exception": false,
     "start_time": "2022-06-20T06:11:44.204132",
     "status": "completed"
    },
    "tags": []
   },
   "source": [
    "**Now we are going to start our analysis using the pyhton language to perform it**"
   ]
  },
  {
   "cell_type": "markdown",
   "id": "beafaf2e",
   "metadata": {
    "papermill": {
     "duration": 0.021015,
     "end_time": "2022-06-20T06:11:44.267572",
     "exception": false,
     "start_time": "2022-06-20T06:11:44.246557",
     "status": "completed"
    },
    "tags": []
   },
   "source": [
    "### Loading the libraries\n",
    "We will be importing the pandas and other libraries to perform our case study."
   ]
  },
  {
   "cell_type": "markdown",
   "id": "4172cd74",
   "metadata": {
    "papermill": {
     "duration": 0.021466,
     "end_time": "2022-06-20T06:11:44.310281",
     "exception": false,
     "start_time": "2022-06-20T06:11:44.288815",
     "status": "completed"
    },
    "tags": []
   },
   "source": []
  },
  {
   "cell_type": "code",
   "execution_count": 3,
   "id": "db38632a",
   "metadata": {
    "execution": {
     "iopub.execute_input": "2022-06-20T06:11:44.354634Z",
     "iopub.status.busy": "2022-06-20T06:11:44.354237Z",
     "iopub.status.idle": "2022-06-20T06:11:45.457594Z",
     "shell.execute_reply": "2022-06-20T06:11:45.456530Z"
    },
    "papermill": {
     "duration": 1.128727,
     "end_time": "2022-06-20T06:11:45.460350",
     "exception": false,
     "start_time": "2022-06-20T06:11:44.331623",
     "status": "completed"
    },
    "tags": []
   },
   "outputs": [],
   "source": [
    "import pandas as pd \n",
    "import matplotlib.pyplot as plt\n",
    "import numpy as np\n",
    "import seaborn as sn"
   ]
  },
  {
   "cell_type": "markdown",
   "id": "0f29db14",
   "metadata": {
    "papermill": {
     "duration": 0.022057,
     "end_time": "2022-06-20T06:11:45.504139",
     "exception": false,
     "start_time": "2022-06-20T06:11:45.482082",
     "status": "completed"
    },
    "tags": []
   },
   "source": []
  },
  {
   "cell_type": "markdown",
   "id": "e2af2a5f",
   "metadata": {
    "papermill": {
     "duration": 0.021596,
     "end_time": "2022-06-20T06:11:45.547540",
     "exception": false,
     "start_time": "2022-06-20T06:11:45.525944",
     "status": "completed"
    },
    "tags": []
   },
   "source": [
    "# Loading the Dataset\n",
    "\n",
    "As earlier said we are going to be using the cyclist dataset for the last 12 months for this project."
   ]
  },
  {
   "cell_type": "code",
   "execution_count": 4,
   "id": "585e5b91",
   "metadata": {
    "execution": {
     "iopub.execute_input": "2022-06-20T06:11:45.594779Z",
     "iopub.status.busy": "2022-06-20T06:11:45.594371Z",
     "iopub.status.idle": "2022-06-20T06:12:07.124652Z",
     "shell.execute_reply": "2022-06-20T06:12:07.123915Z"
    },
    "papermill": {
     "duration": 21.5568,
     "end_time": "2022-06-20T06:12:07.126903",
     "exception": false,
     "start_time": "2022-06-20T06:11:45.570103",
     "status": "completed"
    },
    "tags": []
   },
   "outputs": [],
   "source": [
    "\n",
    "month1 = pd.read_csv(\"../input/cyclistic-bike-share/202004-divvy-tripdata.csv\")\n",
    "month2 = pd.read_csv(\"../input/cyclistic-bike-share/202005-divvy-tripdata.csv\")\n",
    "month3 = pd.read_csv(\"../input/cyclistic-bike-share/202006-divvy-tripdata.csv\")\n",
    "month4 = pd.read_csv(\"../input/cyclistic-bike-share/202007-divvy-tripdata.csv\")\n",
    "month5 = pd.read_csv(\"../input/cyclistic-bike-share/202008-divvy-tripdata.csv\")\n",
    "month6 = pd.read_csv(\"../input/cyclistic-bike-share/202009-divvy-tripdata.csv\")\n",
    "month7 = pd.read_csv(\"../input/cyclistic-bike-share/202010-divvy-tripdata.csv\")\n",
    "month8 = pd.read_csv(\"../input/cyclistic-bike-share/202011-divvy-tripdata.csv\")\n",
    "month9 = pd.read_csv(\"../input/cyclistic-bike-share/202012-divvy-tripdata.csv\")\n",
    "month10 = pd.read_csv(\"../input/cyclistic-bike-share/202101-divvy-tripdata.csv\")\n",
    "month11 = pd.read_csv(\"../input/cyclistic-bike-share/202102-divvy-tripdata.csv\")\n",
    "month12 = pd.read_csv(\"../input/cyclistic-bike-share/202103-divvy-tripdata.csv\")\n",
    "\n",
    "# after loading the dataset we are going to bind them using the concat function\n",
    "\n",
    "tripdata = pd.concat([month1, month2, month3, month4, month5, month6, month7, month8, month9, month10, month11, month12])\n"
   ]
  },
  {
   "cell_type": "markdown",
   "id": "9b686a21",
   "metadata": {
    "papermill": {
     "duration": 0.022589,
     "end_time": "2022-06-20T06:12:07.170909",
     "exception": false,
     "start_time": "2022-06-20T06:12:07.148320",
     "status": "completed"
    },
    "tags": []
   },
   "source": [
    "### Inspecting the dataset and gain insights about it\n"
   ]
  },
  {
   "cell_type": "markdown",
   "id": "093abf99",
   "metadata": {
    "papermill": {
     "duration": 0.021919,
     "end_time": "2022-06-20T06:12:07.214368",
     "exception": false,
     "start_time": "2022-06-20T06:12:07.192449",
     "status": "completed"
    },
    "tags": []
   },
   "source": []
  },
  {
   "cell_type": "markdown",
   "id": "cc8d8118",
   "metadata": {
    "papermill": {
     "duration": 0.021114,
     "end_time": "2022-06-20T06:12:07.257671",
     "exception": false,
     "start_time": "2022-06-20T06:12:07.236557",
     "status": "completed"
    },
    "tags": []
   },
   "source": [
    "We have merged the whole data and we could notice that it has [3489748 rows x 13 columns] "
   ]
  },
  {
   "cell_type": "code",
   "execution_count": 5,
   "id": "a7475990",
   "metadata": {
    "execution": {
     "iopub.execute_input": "2022-06-20T06:12:07.303861Z",
     "iopub.status.busy": "2022-06-20T06:12:07.302868Z",
     "iopub.status.idle": "2022-06-20T06:12:07.327037Z",
     "shell.execute_reply": "2022-06-20T06:12:07.325971Z"
    },
    "papermill": {
     "duration": 0.049827,
     "end_time": "2022-06-20T06:12:07.329153",
     "exception": false,
     "start_time": "2022-06-20T06:12:07.279326",
     "status": "completed"
    },
    "tags": []
   },
   "outputs": [
    {
     "data": {
      "text/html": [
       "<div>\n",
       "<style scoped>\n",
       "    .dataframe tbody tr th:only-of-type {\n",
       "        vertical-align: middle;\n",
       "    }\n",
       "\n",
       "    .dataframe tbody tr th {\n",
       "        vertical-align: top;\n",
       "    }\n",
       "\n",
       "    .dataframe thead th {\n",
       "        text-align: right;\n",
       "    }\n",
       "</style>\n",
       "<table border=\"1\" class=\"dataframe\">\n",
       "  <thead>\n",
       "    <tr style=\"text-align: right;\">\n",
       "      <th></th>\n",
       "      <th>ride_id</th>\n",
       "      <th>rideable_type</th>\n",
       "      <th>started_at</th>\n",
       "      <th>ended_at</th>\n",
       "      <th>start_station_name</th>\n",
       "      <th>start_station_id</th>\n",
       "      <th>end_station_name</th>\n",
       "      <th>end_station_id</th>\n",
       "      <th>start_lat</th>\n",
       "      <th>start_lng</th>\n",
       "      <th>end_lat</th>\n",
       "      <th>end_lng</th>\n",
       "      <th>member_casual</th>\n",
       "    </tr>\n",
       "  </thead>\n",
       "  <tbody>\n",
       "    <tr>\n",
       "      <th>0</th>\n",
       "      <td>A847FADBBC638E45</td>\n",
       "      <td>docked_bike</td>\n",
       "      <td>2020-04-26 17:45:14</td>\n",
       "      <td>2020-04-26 18:12:03</td>\n",
       "      <td>Eckhart Park</td>\n",
       "      <td>86</td>\n",
       "      <td>Lincoln Ave &amp; Diversey Pkwy</td>\n",
       "      <td>152.0</td>\n",
       "      <td>41.8964</td>\n",
       "      <td>-87.6610</td>\n",
       "      <td>41.9322</td>\n",
       "      <td>-87.6586</td>\n",
       "      <td>member</td>\n",
       "    </tr>\n",
       "    <tr>\n",
       "      <th>1</th>\n",
       "      <td>5405B80E996FF60D</td>\n",
       "      <td>docked_bike</td>\n",
       "      <td>2020-04-17 17:08:54</td>\n",
       "      <td>2020-04-17 17:17:03</td>\n",
       "      <td>Drake Ave &amp; Fullerton Ave</td>\n",
       "      <td>503</td>\n",
       "      <td>Kosciuszko Park</td>\n",
       "      <td>499.0</td>\n",
       "      <td>41.9244</td>\n",
       "      <td>-87.7154</td>\n",
       "      <td>41.9306</td>\n",
       "      <td>-87.7238</td>\n",
       "      <td>member</td>\n",
       "    </tr>\n",
       "    <tr>\n",
       "      <th>2</th>\n",
       "      <td>5DD24A79A4E006F4</td>\n",
       "      <td>docked_bike</td>\n",
       "      <td>2020-04-01 17:54:13</td>\n",
       "      <td>2020-04-01 18:08:36</td>\n",
       "      <td>McClurg Ct &amp; Erie St</td>\n",
       "      <td>142</td>\n",
       "      <td>Indiana Ave &amp; Roosevelt Rd</td>\n",
       "      <td>255.0</td>\n",
       "      <td>41.8945</td>\n",
       "      <td>-87.6179</td>\n",
       "      <td>41.8679</td>\n",
       "      <td>-87.6230</td>\n",
       "      <td>member</td>\n",
       "    </tr>\n",
       "    <tr>\n",
       "      <th>3</th>\n",
       "      <td>2A59BBDF5CDBA725</td>\n",
       "      <td>docked_bike</td>\n",
       "      <td>2020-04-07 12:50:19</td>\n",
       "      <td>2020-04-07 13:02:31</td>\n",
       "      <td>California Ave &amp; Division St</td>\n",
       "      <td>216</td>\n",
       "      <td>Wood St &amp; Augusta Blvd</td>\n",
       "      <td>657.0</td>\n",
       "      <td>41.9030</td>\n",
       "      <td>-87.6975</td>\n",
       "      <td>41.8992</td>\n",
       "      <td>-87.6722</td>\n",
       "      <td>member</td>\n",
       "    </tr>\n",
       "    <tr>\n",
       "      <th>4</th>\n",
       "      <td>27AD306C119C6158</td>\n",
       "      <td>docked_bike</td>\n",
       "      <td>2020-04-18 10:22:59</td>\n",
       "      <td>2020-04-18 11:15:54</td>\n",
       "      <td>Rush St &amp; Hubbard St</td>\n",
       "      <td>125</td>\n",
       "      <td>Sheridan Rd &amp; Lawrence Ave</td>\n",
       "      <td>323.0</td>\n",
       "      <td>41.8902</td>\n",
       "      <td>-87.6262</td>\n",
       "      <td>41.9695</td>\n",
       "      <td>-87.6547</td>\n",
       "      <td>casual</td>\n",
       "    </tr>\n",
       "  </tbody>\n",
       "</table>\n",
       "</div>"
      ],
      "text/plain": [
       "            ride_id rideable_type           started_at             ended_at  \\\n",
       "0  A847FADBBC638E45   docked_bike  2020-04-26 17:45:14  2020-04-26 18:12:03   \n",
       "1  5405B80E996FF60D   docked_bike  2020-04-17 17:08:54  2020-04-17 17:17:03   \n",
       "2  5DD24A79A4E006F4   docked_bike  2020-04-01 17:54:13  2020-04-01 18:08:36   \n",
       "3  2A59BBDF5CDBA725   docked_bike  2020-04-07 12:50:19  2020-04-07 13:02:31   \n",
       "4  27AD306C119C6158   docked_bike  2020-04-18 10:22:59  2020-04-18 11:15:54   \n",
       "\n",
       "             start_station_name start_station_id             end_station_name  \\\n",
       "0                  Eckhart Park               86  Lincoln Ave & Diversey Pkwy   \n",
       "1     Drake Ave & Fullerton Ave              503              Kosciuszko Park   \n",
       "2          McClurg Ct & Erie St              142   Indiana Ave & Roosevelt Rd   \n",
       "3  California Ave & Division St              216       Wood St & Augusta Blvd   \n",
       "4          Rush St & Hubbard St              125   Sheridan Rd & Lawrence Ave   \n",
       "\n",
       "  end_station_id  start_lat  start_lng  end_lat  end_lng member_casual  \n",
       "0          152.0    41.8964   -87.6610  41.9322 -87.6586        member  \n",
       "1          499.0    41.9244   -87.7154  41.9306 -87.7238        member  \n",
       "2          255.0    41.8945   -87.6179  41.8679 -87.6230        member  \n",
       "3          657.0    41.9030   -87.6975  41.8992 -87.6722        member  \n",
       "4          323.0    41.8902   -87.6262  41.9695 -87.6547        casual  "
      ]
     },
     "execution_count": 5,
     "metadata": {},
     "output_type": "execute_result"
    }
   ],
   "source": [
    "#Watching the first five rows of the data for inspecting purposes\n",
    "\n",
    "tripdata.head()"
   ]
  },
  {
   "cell_type": "code",
   "execution_count": 6,
   "id": "a5684b99",
   "metadata": {
    "execution": {
     "iopub.execute_input": "2022-06-20T06:12:07.374077Z",
     "iopub.status.busy": "2022-06-20T06:12:07.373715Z",
     "iopub.status.idle": "2022-06-20T06:12:09.414628Z",
     "shell.execute_reply": "2022-06-20T06:12:09.413643Z"
    },
    "papermill": {
     "duration": 2.065991,
     "end_time": "2022-06-20T06:12:09.416708",
     "exception": false,
     "start_time": "2022-06-20T06:12:07.350717",
     "status": "completed"
    },
    "tags": []
   },
   "outputs": [
    {
     "data": {
      "text/html": [
       "<div>\n",
       "<style scoped>\n",
       "    .dataframe tbody tr th:only-of-type {\n",
       "        vertical-align: middle;\n",
       "    }\n",
       "\n",
       "    .dataframe tbody tr th {\n",
       "        vertical-align: top;\n",
       "    }\n",
       "\n",
       "    .dataframe thead th {\n",
       "        text-align: right;\n",
       "    }\n",
       "</style>\n",
       "<table border=\"1\" class=\"dataframe\">\n",
       "  <thead>\n",
       "    <tr style=\"text-align: right;\">\n",
       "      <th></th>\n",
       "      <th>start_lat</th>\n",
       "      <th>start_lng</th>\n",
       "      <th>end_lat</th>\n",
       "      <th>end_lng</th>\n",
       "    </tr>\n",
       "  </thead>\n",
       "  <tbody>\n",
       "    <tr>\n",
       "      <th>count</th>\n",
       "      <td>3.489748e+06</td>\n",
       "      <td>3.489748e+06</td>\n",
       "      <td>3.485010e+06</td>\n",
       "      <td>3.485010e+06</td>\n",
       "    </tr>\n",
       "    <tr>\n",
       "      <th>mean</th>\n",
       "      <td>4.190417e+01</td>\n",
       "      <td>-8.764494e+01</td>\n",
       "      <td>4.190444e+01</td>\n",
       "      <td>-8.764522e+01</td>\n",
       "    </tr>\n",
       "    <tr>\n",
       "      <th>std</th>\n",
       "      <td>4.364222e-02</td>\n",
       "      <td>2.575969e-02</td>\n",
       "      <td>4.373705e-02</td>\n",
       "      <td>2.589123e-02</td>\n",
       "    </tr>\n",
       "    <tr>\n",
       "      <th>min</th>\n",
       "      <td>4.164000e+01</td>\n",
       "      <td>-8.787000e+01</td>\n",
       "      <td>4.154000e+01</td>\n",
       "      <td>-8.807000e+01</td>\n",
       "    </tr>\n",
       "    <tr>\n",
       "      <th>25%</th>\n",
       "      <td>4.188224e+01</td>\n",
       "      <td>-8.765888e+01</td>\n",
       "      <td>4.188266e+01</td>\n",
       "      <td>-8.765917e+01</td>\n",
       "    </tr>\n",
       "    <tr>\n",
       "      <th>50%</th>\n",
       "      <td>4.190000e+01</td>\n",
       "      <td>-8.764170e+01</td>\n",
       "      <td>4.190068e+01</td>\n",
       "      <td>-8.764275e+01</td>\n",
       "    </tr>\n",
       "    <tr>\n",
       "      <th>75%</th>\n",
       "      <td>4.193000e+01</td>\n",
       "      <td>-8.762773e+01</td>\n",
       "      <td>4.193120e+01</td>\n",
       "      <td>-8.762775e+01</td>\n",
       "    </tr>\n",
       "    <tr>\n",
       "      <th>max</th>\n",
       "      <td>4.208000e+01</td>\n",
       "      <td>-8.752000e+01</td>\n",
       "      <td>4.216000e+01</td>\n",
       "      <td>-8.744000e+01</td>\n",
       "    </tr>\n",
       "  </tbody>\n",
       "</table>\n",
       "</div>"
      ],
      "text/plain": [
       "          start_lat     start_lng       end_lat       end_lng\n",
       "count  3.489748e+06  3.489748e+06  3.485010e+06  3.485010e+06\n",
       "mean   4.190417e+01 -8.764494e+01  4.190444e+01 -8.764522e+01\n",
       "std    4.364222e-02  2.575969e-02  4.373705e-02  2.589123e-02\n",
       "min    4.164000e+01 -8.787000e+01  4.154000e+01 -8.807000e+01\n",
       "25%    4.188224e+01 -8.765888e+01  4.188266e+01 -8.765917e+01\n",
       "50%    4.190000e+01 -8.764170e+01  4.190068e+01 -8.764275e+01\n",
       "75%    4.193000e+01 -8.762773e+01  4.193120e+01 -8.762775e+01\n",
       "max    4.208000e+01 -8.752000e+01  4.216000e+01 -8.744000e+01"
      ]
     },
     "execution_count": 6,
     "metadata": {},
     "output_type": "execute_result"
    }
   ],
   "source": [
    "#The main informations about my dataset as max, min and others\n",
    "\n",
    "tripdata.describe()"
   ]
  },
  {
   "cell_type": "code",
   "execution_count": 7,
   "id": "8e5512fb",
   "metadata": {
    "execution": {
     "iopub.execute_input": "2022-06-20T06:12:09.462946Z",
     "iopub.status.busy": "2022-06-20T06:12:09.462564Z",
     "iopub.status.idle": "2022-06-20T06:12:09.480237Z",
     "shell.execute_reply": "2022-06-20T06:12:09.478974Z"
    },
    "papermill": {
     "duration": 0.043807,
     "end_time": "2022-06-20T06:12:09.482432",
     "exception": false,
     "start_time": "2022-06-20T06:12:09.438625",
     "status": "completed"
    },
    "tags": []
   },
   "outputs": [
    {
     "data": {
      "text/html": [
       "<div>\n",
       "<style scoped>\n",
       "    .dataframe tbody tr th:only-of-type {\n",
       "        vertical-align: middle;\n",
       "    }\n",
       "\n",
       "    .dataframe tbody tr th {\n",
       "        vertical-align: top;\n",
       "    }\n",
       "\n",
       "    .dataframe thead th {\n",
       "        text-align: right;\n",
       "    }\n",
       "</style>\n",
       "<table border=\"1\" class=\"dataframe\">\n",
       "  <thead>\n",
       "    <tr style=\"text-align: right;\">\n",
       "      <th></th>\n",
       "      <th>ride_id</th>\n",
       "      <th>rideable_type</th>\n",
       "      <th>started_at</th>\n",
       "      <th>ended_at</th>\n",
       "      <th>start_station_name</th>\n",
       "      <th>start_station_id</th>\n",
       "      <th>end_station_name</th>\n",
       "      <th>end_station_id</th>\n",
       "      <th>start_lat</th>\n",
       "      <th>start_lng</th>\n",
       "      <th>end_lat</th>\n",
       "      <th>end_lng</th>\n",
       "      <th>member_casual</th>\n",
       "    </tr>\n",
       "  </thead>\n",
       "  <tbody>\n",
       "    <tr>\n",
       "      <th>228491</th>\n",
       "      <td>9397BDD14798A1BA</td>\n",
       "      <td>docked_bike</td>\n",
       "      <td>2021-03-20 14:58:56</td>\n",
       "      <td>2021-03-20 17:22:47</td>\n",
       "      <td>Michigan Ave &amp; Oak St</td>\n",
       "      <td>13042</td>\n",
       "      <td>New St &amp; Illinois St</td>\n",
       "      <td>TA1306000013</td>\n",
       "      <td>41.900960</td>\n",
       "      <td>-87.623777</td>\n",
       "      <td>41.890847</td>\n",
       "      <td>-87.618617</td>\n",
       "      <td>casual</td>\n",
       "    </tr>\n",
       "    <tr>\n",
       "      <th>228492</th>\n",
       "      <td>BBBEB8D51AAD40DA</td>\n",
       "      <td>classic_bike</td>\n",
       "      <td>2021-03-02 11:35:10</td>\n",
       "      <td>2021-03-02 11:43:37</td>\n",
       "      <td>Kingsbury St &amp; Kinzie St</td>\n",
       "      <td>KA1503000043</td>\n",
       "      <td>New St &amp; Illinois St</td>\n",
       "      <td>TA1306000013</td>\n",
       "      <td>41.889177</td>\n",
       "      <td>-87.638506</td>\n",
       "      <td>41.890847</td>\n",
       "      <td>-87.618617</td>\n",
       "      <td>member</td>\n",
       "    </tr>\n",
       "    <tr>\n",
       "      <th>228493</th>\n",
       "      <td>637FF754DA0BD9E1</td>\n",
       "      <td>classic_bike</td>\n",
       "      <td>2021-03-09 11:07:36</td>\n",
       "      <td>2021-03-09 11:49:11</td>\n",
       "      <td>Michigan Ave &amp; Oak St</td>\n",
       "      <td>13042</td>\n",
       "      <td>Clark St &amp; Berwyn Ave</td>\n",
       "      <td>KA1504000146</td>\n",
       "      <td>41.900960</td>\n",
       "      <td>-87.623777</td>\n",
       "      <td>41.977997</td>\n",
       "      <td>-87.668047</td>\n",
       "      <td>member</td>\n",
       "    </tr>\n",
       "    <tr>\n",
       "      <th>228494</th>\n",
       "      <td>F8F43A0B978A7A35</td>\n",
       "      <td>classic_bike</td>\n",
       "      <td>2021-03-01 18:11:57</td>\n",
       "      <td>2021-03-01 18:18:37</td>\n",
       "      <td>Kingsbury St &amp; Kinzie St</td>\n",
       "      <td>KA1503000043</td>\n",
       "      <td>New St &amp; Illinois St</td>\n",
       "      <td>TA1306000013</td>\n",
       "      <td>41.889177</td>\n",
       "      <td>-87.638506</td>\n",
       "      <td>41.890847</td>\n",
       "      <td>-87.618617</td>\n",
       "      <td>member</td>\n",
       "    </tr>\n",
       "    <tr>\n",
       "      <th>228495</th>\n",
       "      <td>3AE64EA5BF43CF72</td>\n",
       "      <td>electric_bike</td>\n",
       "      <td>2021-03-26 17:58:14</td>\n",
       "      <td>2021-03-26 18:06:43</td>\n",
       "      <td>NaN</td>\n",
       "      <td>NaN</td>\n",
       "      <td>New St &amp; Illinois St</td>\n",
       "      <td>TA1306000013</td>\n",
       "      <td>41.880000</td>\n",
       "      <td>-87.630000</td>\n",
       "      <td>41.890818</td>\n",
       "      <td>-87.619540</td>\n",
       "      <td>member</td>\n",
       "    </tr>\n",
       "  </tbody>\n",
       "</table>\n",
       "</div>"
      ],
      "text/plain": [
       "                 ride_id  rideable_type           started_at  \\\n",
       "228491  9397BDD14798A1BA    docked_bike  2021-03-20 14:58:56   \n",
       "228492  BBBEB8D51AAD40DA   classic_bike  2021-03-02 11:35:10   \n",
       "228493  637FF754DA0BD9E1   classic_bike  2021-03-09 11:07:36   \n",
       "228494  F8F43A0B978A7A35   classic_bike  2021-03-01 18:11:57   \n",
       "228495  3AE64EA5BF43CF72  electric_bike  2021-03-26 17:58:14   \n",
       "\n",
       "                   ended_at        start_station_name start_station_id  \\\n",
       "228491  2021-03-20 17:22:47     Michigan Ave & Oak St            13042   \n",
       "228492  2021-03-02 11:43:37  Kingsbury St & Kinzie St     KA1503000043   \n",
       "228493  2021-03-09 11:49:11     Michigan Ave & Oak St            13042   \n",
       "228494  2021-03-01 18:18:37  Kingsbury St & Kinzie St     KA1503000043   \n",
       "228495  2021-03-26 18:06:43                       NaN              NaN   \n",
       "\n",
       "             end_station_name end_station_id  start_lat  start_lng    end_lat  \\\n",
       "228491   New St & Illinois St   TA1306000013  41.900960 -87.623777  41.890847   \n",
       "228492   New St & Illinois St   TA1306000013  41.889177 -87.638506  41.890847   \n",
       "228493  Clark St & Berwyn Ave   KA1504000146  41.900960 -87.623777  41.977997   \n",
       "228494   New St & Illinois St   TA1306000013  41.889177 -87.638506  41.890847   \n",
       "228495   New St & Illinois St   TA1306000013  41.880000 -87.630000  41.890818   \n",
       "\n",
       "          end_lng member_casual  \n",
       "228491 -87.618617        casual  \n",
       "228492 -87.618617        member  \n",
       "228493 -87.668047        member  \n",
       "228494 -87.618617        member  \n",
       "228495 -87.619540        member  "
      ]
     },
     "execution_count": 7,
     "metadata": {},
     "output_type": "execute_result"
    }
   ],
   "source": [
    "# This function shows random rows informations or observations\n",
    "\n",
    "tripdata.tail()"
   ]
  },
  {
   "cell_type": "code",
   "execution_count": 8,
   "id": "70aaeb77",
   "metadata": {
    "execution": {
     "iopub.execute_input": "2022-06-20T06:12:09.531552Z",
     "iopub.status.busy": "2022-06-20T06:12:09.531109Z",
     "iopub.status.idle": "2022-06-20T06:12:09.546699Z",
     "shell.execute_reply": "2022-06-20T06:12:09.545799Z"
    },
    "papermill": {
     "duration": 0.043764,
     "end_time": "2022-06-20T06:12:09.550250",
     "exception": false,
     "start_time": "2022-06-20T06:12:09.506486",
     "status": "completed"
    },
    "tags": []
   },
   "outputs": [
    {
     "name": "stdout",
     "output_type": "stream",
     "text": [
      "<class 'pandas.core.frame.DataFrame'>\n",
      "Int64Index: 3489748 entries, 0 to 228495\n",
      "Data columns (total 13 columns):\n",
      " #   Column              Dtype  \n",
      "---  ------              -----  \n",
      " 0   ride_id             object \n",
      " 1   rideable_type       object \n",
      " 2   started_at          object \n",
      " 3   ended_at            object \n",
      " 4   start_station_name  object \n",
      " 5   start_station_id    object \n",
      " 6   end_station_name    object \n",
      " 7   end_station_id      object \n",
      " 8   start_lat           float64\n",
      " 9   start_lng           float64\n",
      " 10  end_lat             float64\n",
      " 11  end_lng             float64\n",
      " 12  member_casual       object \n",
      "dtypes: float64(4), object(9)\n",
      "memory usage: 372.7+ MB\n"
     ]
    }
   ],
   "source": [
    "# More information about the data, this functions displays the type of the variables or columns\n",
    "# it also shows the count of the data format\n",
    "\n",
    "tripdata.info()"
   ]
  },
  {
   "cell_type": "markdown",
   "id": "56840605",
   "metadata": {
    "papermill": {
     "duration": 0.021936,
     "end_time": "2022-06-20T06:12:09.594875",
     "exception": false,
     "start_time": "2022-06-20T06:12:09.572939",
     "status": "completed"
    },
    "tags": []
   },
   "source": [
    "**Now that we have a quick overview of what our dataframe looks like, we will clean the data and prepare for analysis**"
   ]
  },
  {
   "cell_type": "markdown",
   "id": "e23fdede",
   "metadata": {
    "papermill": {
     "duration": 0.022627,
     "end_time": "2022-06-20T06:12:09.640566",
     "exception": false,
     "start_time": "2022-06-20T06:12:09.617939",
     "status": "completed"
    },
    "tags": []
   },
   "source": [
    "# Data Cleaning Process\n",
    "**Remove duplicated rows using the ride_id variable**\n",
    "\n"
   ]
  },
  {
   "cell_type": "code",
   "execution_count": 9,
   "id": "5fefbfc3",
   "metadata": {
    "execution": {
     "iopub.execute_input": "2022-06-20T06:12:09.689285Z",
     "iopub.status.busy": "2022-06-20T06:12:09.688413Z",
     "iopub.status.idle": "2022-06-20T06:12:12.142555Z",
     "shell.execute_reply": "2022-06-20T06:12:12.141325Z"
    },
    "papermill": {
     "duration": 2.481691,
     "end_time": "2022-06-20T06:12:12.144965",
     "exception": false,
     "start_time": "2022-06-20T06:12:09.663274",
     "status": "completed"
    },
    "tags": []
   },
   "outputs": [
    {
     "data": {
      "text/plain": [
       "209"
      ]
     },
     "execution_count": 9,
     "metadata": {},
     "output_type": "execute_result"
    }
   ],
   "source": [
    "# Using the duplicated() function combined with the sum() to have the total number of duplicated values\n",
    "\n",
    "tripdata[\"ride_id\"].duplicated().sum()\n",
    " "
   ]
  },
  {
   "cell_type": "code",
   "execution_count": 10,
   "id": "1702bced",
   "metadata": {
    "execution": {
     "iopub.execute_input": "2022-06-20T06:12:12.193993Z",
     "iopub.status.busy": "2022-06-20T06:12:12.192732Z",
     "iopub.status.idle": "2022-06-20T06:12:15.297749Z",
     "shell.execute_reply": "2022-06-20T06:12:15.296797Z"
    },
    "papermill": {
     "duration": 3.131903,
     "end_time": "2022-06-20T06:12:15.300050",
     "exception": false,
     "start_time": "2022-06-20T06:12:12.168147",
     "status": "completed"
    },
    "tags": []
   },
   "outputs": [
    {
     "data": {
      "text/html": [
       "<div>\n",
       "<style scoped>\n",
       "    .dataframe tbody tr th:only-of-type {\n",
       "        vertical-align: middle;\n",
       "    }\n",
       "\n",
       "    .dataframe tbody tr th {\n",
       "        vertical-align: top;\n",
       "    }\n",
       "\n",
       "    .dataframe thead th {\n",
       "        text-align: right;\n",
       "    }\n",
       "</style>\n",
       "<table border=\"1\" class=\"dataframe\">\n",
       "  <thead>\n",
       "    <tr style=\"text-align: right;\">\n",
       "      <th></th>\n",
       "      <th>ride_id</th>\n",
       "      <th>rideable_type</th>\n",
       "      <th>started_at</th>\n",
       "      <th>ended_at</th>\n",
       "      <th>start_station_name</th>\n",
       "      <th>start_station_id</th>\n",
       "      <th>end_station_name</th>\n",
       "      <th>end_station_id</th>\n",
       "      <th>start_lat</th>\n",
       "      <th>start_lng</th>\n",
       "      <th>end_lat</th>\n",
       "      <th>end_lng</th>\n",
       "      <th>member_casual</th>\n",
       "    </tr>\n",
       "  </thead>\n",
       "  <tbody>\n",
       "    <tr>\n",
       "      <th>0</th>\n",
       "      <td>A847FADBBC638E45</td>\n",
       "      <td>docked_bike</td>\n",
       "      <td>2020-04-26 17:45:14</td>\n",
       "      <td>2020-04-26 18:12:03</td>\n",
       "      <td>Eckhart Park</td>\n",
       "      <td>86</td>\n",
       "      <td>Lincoln Ave &amp; Diversey Pkwy</td>\n",
       "      <td>152.0</td>\n",
       "      <td>41.896400</td>\n",
       "      <td>-87.661000</td>\n",
       "      <td>41.932200</td>\n",
       "      <td>-87.658600</td>\n",
       "      <td>member</td>\n",
       "    </tr>\n",
       "    <tr>\n",
       "      <th>1</th>\n",
       "      <td>5405B80E996FF60D</td>\n",
       "      <td>docked_bike</td>\n",
       "      <td>2020-04-17 17:08:54</td>\n",
       "      <td>2020-04-17 17:17:03</td>\n",
       "      <td>Drake Ave &amp; Fullerton Ave</td>\n",
       "      <td>503</td>\n",
       "      <td>Kosciuszko Park</td>\n",
       "      <td>499.0</td>\n",
       "      <td>41.924400</td>\n",
       "      <td>-87.715400</td>\n",
       "      <td>41.930600</td>\n",
       "      <td>-87.723800</td>\n",
       "      <td>member</td>\n",
       "    </tr>\n",
       "    <tr>\n",
       "      <th>2</th>\n",
       "      <td>5DD24A79A4E006F4</td>\n",
       "      <td>docked_bike</td>\n",
       "      <td>2020-04-01 17:54:13</td>\n",
       "      <td>2020-04-01 18:08:36</td>\n",
       "      <td>McClurg Ct &amp; Erie St</td>\n",
       "      <td>142</td>\n",
       "      <td>Indiana Ave &amp; Roosevelt Rd</td>\n",
       "      <td>255.0</td>\n",
       "      <td>41.894500</td>\n",
       "      <td>-87.617900</td>\n",
       "      <td>41.867900</td>\n",
       "      <td>-87.623000</td>\n",
       "      <td>member</td>\n",
       "    </tr>\n",
       "    <tr>\n",
       "      <th>3</th>\n",
       "      <td>2A59BBDF5CDBA725</td>\n",
       "      <td>docked_bike</td>\n",
       "      <td>2020-04-07 12:50:19</td>\n",
       "      <td>2020-04-07 13:02:31</td>\n",
       "      <td>California Ave &amp; Division St</td>\n",
       "      <td>216</td>\n",
       "      <td>Wood St &amp; Augusta Blvd</td>\n",
       "      <td>657.0</td>\n",
       "      <td>41.903000</td>\n",
       "      <td>-87.697500</td>\n",
       "      <td>41.899200</td>\n",
       "      <td>-87.672200</td>\n",
       "      <td>member</td>\n",
       "    </tr>\n",
       "    <tr>\n",
       "      <th>4</th>\n",
       "      <td>27AD306C119C6158</td>\n",
       "      <td>docked_bike</td>\n",
       "      <td>2020-04-18 10:22:59</td>\n",
       "      <td>2020-04-18 11:15:54</td>\n",
       "      <td>Rush St &amp; Hubbard St</td>\n",
       "      <td>125</td>\n",
       "      <td>Sheridan Rd &amp; Lawrence Ave</td>\n",
       "      <td>323.0</td>\n",
       "      <td>41.890200</td>\n",
       "      <td>-87.626200</td>\n",
       "      <td>41.969500</td>\n",
       "      <td>-87.654700</td>\n",
       "      <td>casual</td>\n",
       "    </tr>\n",
       "    <tr>\n",
       "      <th>...</th>\n",
       "      <td>...</td>\n",
       "      <td>...</td>\n",
       "      <td>...</td>\n",
       "      <td>...</td>\n",
       "      <td>...</td>\n",
       "      <td>...</td>\n",
       "      <td>...</td>\n",
       "      <td>...</td>\n",
       "      <td>...</td>\n",
       "      <td>...</td>\n",
       "      <td>...</td>\n",
       "      <td>...</td>\n",
       "      <td>...</td>\n",
       "    </tr>\n",
       "    <tr>\n",
       "      <th>228491</th>\n",
       "      <td>9397BDD14798A1BA</td>\n",
       "      <td>docked_bike</td>\n",
       "      <td>2021-03-20 14:58:56</td>\n",
       "      <td>2021-03-20 17:22:47</td>\n",
       "      <td>Michigan Ave &amp; Oak St</td>\n",
       "      <td>13042</td>\n",
       "      <td>New St &amp; Illinois St</td>\n",
       "      <td>TA1306000013</td>\n",
       "      <td>41.900960</td>\n",
       "      <td>-87.623777</td>\n",
       "      <td>41.890847</td>\n",
       "      <td>-87.618617</td>\n",
       "      <td>casual</td>\n",
       "    </tr>\n",
       "    <tr>\n",
       "      <th>228492</th>\n",
       "      <td>BBBEB8D51AAD40DA</td>\n",
       "      <td>classic_bike</td>\n",
       "      <td>2021-03-02 11:35:10</td>\n",
       "      <td>2021-03-02 11:43:37</td>\n",
       "      <td>Kingsbury St &amp; Kinzie St</td>\n",
       "      <td>KA1503000043</td>\n",
       "      <td>New St &amp; Illinois St</td>\n",
       "      <td>TA1306000013</td>\n",
       "      <td>41.889177</td>\n",
       "      <td>-87.638506</td>\n",
       "      <td>41.890847</td>\n",
       "      <td>-87.618617</td>\n",
       "      <td>member</td>\n",
       "    </tr>\n",
       "    <tr>\n",
       "      <th>228493</th>\n",
       "      <td>637FF754DA0BD9E1</td>\n",
       "      <td>classic_bike</td>\n",
       "      <td>2021-03-09 11:07:36</td>\n",
       "      <td>2021-03-09 11:49:11</td>\n",
       "      <td>Michigan Ave &amp; Oak St</td>\n",
       "      <td>13042</td>\n",
       "      <td>Clark St &amp; Berwyn Ave</td>\n",
       "      <td>KA1504000146</td>\n",
       "      <td>41.900960</td>\n",
       "      <td>-87.623777</td>\n",
       "      <td>41.977997</td>\n",
       "      <td>-87.668047</td>\n",
       "      <td>member</td>\n",
       "    </tr>\n",
       "    <tr>\n",
       "      <th>228494</th>\n",
       "      <td>F8F43A0B978A7A35</td>\n",
       "      <td>classic_bike</td>\n",
       "      <td>2021-03-01 18:11:57</td>\n",
       "      <td>2021-03-01 18:18:37</td>\n",
       "      <td>Kingsbury St &amp; Kinzie St</td>\n",
       "      <td>KA1503000043</td>\n",
       "      <td>New St &amp; Illinois St</td>\n",
       "      <td>TA1306000013</td>\n",
       "      <td>41.889177</td>\n",
       "      <td>-87.638506</td>\n",
       "      <td>41.890847</td>\n",
       "      <td>-87.618617</td>\n",
       "      <td>member</td>\n",
       "    </tr>\n",
       "    <tr>\n",
       "      <th>228495</th>\n",
       "      <td>3AE64EA5BF43CF72</td>\n",
       "      <td>electric_bike</td>\n",
       "      <td>2021-03-26 17:58:14</td>\n",
       "      <td>2021-03-26 18:06:43</td>\n",
       "      <td>NaN</td>\n",
       "      <td>NaN</td>\n",
       "      <td>New St &amp; Illinois St</td>\n",
       "      <td>TA1306000013</td>\n",
       "      <td>41.880000</td>\n",
       "      <td>-87.630000</td>\n",
       "      <td>41.890818</td>\n",
       "      <td>-87.619540</td>\n",
       "      <td>member</td>\n",
       "    </tr>\n",
       "  </tbody>\n",
       "</table>\n",
       "<p>3489539 rows × 13 columns</p>\n",
       "</div>"
      ],
      "text/plain": [
       "                 ride_id  rideable_type           started_at  \\\n",
       "0       A847FADBBC638E45    docked_bike  2020-04-26 17:45:14   \n",
       "1       5405B80E996FF60D    docked_bike  2020-04-17 17:08:54   \n",
       "2       5DD24A79A4E006F4    docked_bike  2020-04-01 17:54:13   \n",
       "3       2A59BBDF5CDBA725    docked_bike  2020-04-07 12:50:19   \n",
       "4       27AD306C119C6158    docked_bike  2020-04-18 10:22:59   \n",
       "...                  ...            ...                  ...   \n",
       "228491  9397BDD14798A1BA    docked_bike  2021-03-20 14:58:56   \n",
       "228492  BBBEB8D51AAD40DA   classic_bike  2021-03-02 11:35:10   \n",
       "228493  637FF754DA0BD9E1   classic_bike  2021-03-09 11:07:36   \n",
       "228494  F8F43A0B978A7A35   classic_bike  2021-03-01 18:11:57   \n",
       "228495  3AE64EA5BF43CF72  electric_bike  2021-03-26 17:58:14   \n",
       "\n",
       "                   ended_at            start_station_name start_station_id  \\\n",
       "0       2020-04-26 18:12:03                  Eckhart Park               86   \n",
       "1       2020-04-17 17:17:03     Drake Ave & Fullerton Ave              503   \n",
       "2       2020-04-01 18:08:36          McClurg Ct & Erie St              142   \n",
       "3       2020-04-07 13:02:31  California Ave & Division St              216   \n",
       "4       2020-04-18 11:15:54          Rush St & Hubbard St              125   \n",
       "...                     ...                           ...              ...   \n",
       "228491  2021-03-20 17:22:47         Michigan Ave & Oak St            13042   \n",
       "228492  2021-03-02 11:43:37      Kingsbury St & Kinzie St     KA1503000043   \n",
       "228493  2021-03-09 11:49:11         Michigan Ave & Oak St            13042   \n",
       "228494  2021-03-01 18:18:37      Kingsbury St & Kinzie St     KA1503000043   \n",
       "228495  2021-03-26 18:06:43                           NaN              NaN   \n",
       "\n",
       "                   end_station_name end_station_id  start_lat  start_lng  \\\n",
       "0       Lincoln Ave & Diversey Pkwy          152.0  41.896400 -87.661000   \n",
       "1                   Kosciuszko Park          499.0  41.924400 -87.715400   \n",
       "2        Indiana Ave & Roosevelt Rd          255.0  41.894500 -87.617900   \n",
       "3            Wood St & Augusta Blvd          657.0  41.903000 -87.697500   \n",
       "4        Sheridan Rd & Lawrence Ave          323.0  41.890200 -87.626200   \n",
       "...                             ...            ...        ...        ...   \n",
       "228491         New St & Illinois St   TA1306000013  41.900960 -87.623777   \n",
       "228492         New St & Illinois St   TA1306000013  41.889177 -87.638506   \n",
       "228493        Clark St & Berwyn Ave   KA1504000146  41.900960 -87.623777   \n",
       "228494         New St & Illinois St   TA1306000013  41.889177 -87.638506   \n",
       "228495         New St & Illinois St   TA1306000013  41.880000 -87.630000   \n",
       "\n",
       "          end_lat    end_lng member_casual  \n",
       "0       41.932200 -87.658600        member  \n",
       "1       41.930600 -87.723800        member  \n",
       "2       41.867900 -87.623000        member  \n",
       "3       41.899200 -87.672200        member  \n",
       "4       41.969500 -87.654700        casual  \n",
       "...           ...        ...           ...  \n",
       "228491  41.890847 -87.618617        casual  \n",
       "228492  41.890847 -87.618617        member  \n",
       "228493  41.977997 -87.668047        member  \n",
       "228494  41.890847 -87.618617        member  \n",
       "228495  41.890818 -87.619540        member  \n",
       "\n",
       "[3489539 rows x 13 columns]"
      ]
     },
     "execution_count": 10,
     "metadata": {},
     "output_type": "execute_result"
    }
   ],
   "source": [
    "# assigning the filtered data to a new variable with the duplicates removed \n",
    "\n",
    "tripdataV1 = tripdata.drop_duplicates(subset=[\"ride_id\"])\n",
    "\n",
    "tripdataV1\n",
    "\n",
    "# It´s good to know that we have made the difference between the tripdata and the tripdata_filtered to have sure we removed the exact number of duplicated rows and yeah it was 209."
   ]
  },
  {
   "cell_type": "code",
   "execution_count": 11,
   "id": "a0420772",
   "metadata": {
    "execution": {
     "iopub.execute_input": "2022-06-20T06:12:15.347265Z",
     "iopub.status.busy": "2022-06-20T06:12:15.346857Z",
     "iopub.status.idle": "2022-06-20T06:12:16.670660Z",
     "shell.execute_reply": "2022-06-20T06:12:16.669766Z"
    },
    "papermill": {
     "duration": 1.34958,
     "end_time": "2022-06-20T06:12:16.672625",
     "exception": false,
     "start_time": "2022-06-20T06:12:15.323045",
     "status": "completed"
    },
    "tags": []
   },
   "outputs": [
    {
     "data": {
      "text/plain": [
       "ride_id                    0\n",
       "rideable_type              0\n",
       "started_at                 0\n",
       "ended_at                   0\n",
       "start_station_name    122175\n",
       "start_station_id      122801\n",
       "end_station_name      143241\n",
       "end_station_id        143702\n",
       "start_lat                  0\n",
       "start_lng                  0\n",
       "end_lat                 4737\n",
       "end_lng                 4737\n",
       "member_casual              0\n",
       "dtype: int64"
      ]
     },
     "execution_count": 11,
     "metadata": {},
     "output_type": "execute_result"
    }
   ],
   "source": [
    "#Checking the null values and counting with the sum() function\n",
    "\n",
    "tripdataV1.isna().sum()\n"
   ]
  },
  {
   "cell_type": "markdown",
   "id": "81af5b6b",
   "metadata": {
    "papermill": {
     "duration": 0.023475,
     "end_time": "2022-06-20T06:12:16.719044",
     "exception": false,
     "start_time": "2022-06-20T06:12:16.695569",
     "status": "completed"
    },
    "tags": []
   },
   "source": [
    "Now we could see there are lot of null values such as:\n",
    "1. start_station_name has 122175\n",
    "2. start_station_id has 122801\n",
    "3. end_station_name has 143241\n",
    "4. end_station_id has 143702\n",
    "5. end_lat has 4737\n",
    "6. end_lng has 4737\n"
   ]
  },
  {
   "cell_type": "code",
   "execution_count": 12,
   "id": "12502706",
   "metadata": {
    "execution": {
     "iopub.execute_input": "2022-06-20T06:12:16.767242Z",
     "iopub.status.busy": "2022-06-20T06:12:16.766674Z",
     "iopub.status.idle": "2022-06-20T06:12:16.918203Z",
     "shell.execute_reply": "2022-06-20T06:12:16.917516Z"
    },
    "papermill": {
     "duration": 0.178109,
     "end_time": "2022-06-20T06:12:16.920046",
     "exception": false,
     "start_time": "2022-06-20T06:12:16.741937",
     "status": "completed"
    },
    "tags": []
   },
   "outputs": [
    {
     "data": {
      "text/plain": [
       "0"
      ]
     },
     "execution_count": 12,
     "metadata": {},
     "output_type": "execute_result"
    }
   ],
   "source": [
    "# As we can see in my unique values i don't have nulls values\n",
    "\n",
    "tripdataV1[\"ride_id\"].isna().sum()\n"
   ]
  },
  {
   "cell_type": "markdown",
   "id": "16837fec",
   "metadata": {
    "papermill": {
     "duration": 0.023523,
     "end_time": "2022-06-20T06:12:16.967364",
     "exception": false,
     "start_time": "2022-06-20T06:12:16.943841",
     "status": "completed"
    },
    "tags": []
   },
   "source": [
    "## **Converting types**\n"
   ]
  },
  {
   "cell_type": "code",
   "execution_count": 13,
   "id": "3e695ce5",
   "metadata": {
    "execution": {
     "iopub.execute_input": "2022-06-20T06:12:17.021987Z",
     "iopub.status.busy": "2022-06-20T06:12:17.020991Z",
     "iopub.status.idle": "2022-06-20T06:12:17.028757Z",
     "shell.execute_reply": "2022-06-20T06:12:17.027634Z"
    },
    "papermill": {
     "duration": 0.040283,
     "end_time": "2022-06-20T06:12:17.031099",
     "exception": false,
     "start_time": "2022-06-20T06:12:16.990816",
     "status": "completed"
    },
    "tags": []
   },
   "outputs": [
    {
     "data": {
      "text/plain": [
       "3489539"
      ]
     },
     "execution_count": 13,
     "metadata": {},
     "output_type": "execute_result"
    }
   ],
   "source": [
    "# Checking again the number of rows\n",
    "\n",
    "len(tripdataV1)\n"
   ]
  },
  {
   "cell_type": "code",
   "execution_count": 14,
   "id": "68bce5ca",
   "metadata": {
    "execution": {
     "iopub.execute_input": "2022-06-20T06:12:17.097443Z",
     "iopub.status.busy": "2022-06-20T06:12:17.096914Z",
     "iopub.status.idle": "2022-06-20T06:12:17.295199Z",
     "shell.execute_reply": "2022-06-20T06:12:17.294205Z"
    },
    "papermill": {
     "duration": 0.231356,
     "end_time": "2022-06-20T06:12:17.297603",
     "exception": false,
     "start_time": "2022-06-20T06:12:17.066247",
     "status": "completed"
    },
    "tags": []
   },
   "outputs": [
    {
     "data": {
      "text/plain": [
       "2"
      ]
     },
     "execution_count": 14,
     "metadata": {},
     "output_type": "execute_result"
    }
   ],
   "source": [
    "# Checking outliers\n",
    "\n",
    "tripdataV1[\"member_casual\"].nunique()\n"
   ]
  },
  {
   "cell_type": "code",
   "execution_count": 15,
   "id": "a75272f5",
   "metadata": {
    "execution": {
     "iopub.execute_input": "2022-06-20T06:12:17.350106Z",
     "iopub.status.busy": "2022-06-20T06:12:17.349730Z",
     "iopub.status.idle": "2022-06-20T06:12:17.558525Z",
     "shell.execute_reply": "2022-06-20T06:12:17.557581Z"
    },
    "papermill": {
     "duration": 0.239069,
     "end_time": "2022-06-20T06:12:17.560755",
     "exception": false,
     "start_time": "2022-06-20T06:12:17.321686",
     "status": "completed"
    },
    "tags": []
   },
   "outputs": [
    {
     "data": {
      "text/plain": [
       "3"
      ]
     },
     "execution_count": 15,
     "metadata": {},
     "output_type": "execute_result"
    }
   ],
   "source": [
    "# Checking outliers\n",
    "\n",
    "tripdataV1[\"rideable_type\"].nunique()\n"
   ]
  },
  {
   "cell_type": "code",
   "execution_count": 16,
   "id": "7cb93500",
   "metadata": {
    "execution": {
     "iopub.execute_input": "2022-06-20T06:12:17.610375Z",
     "iopub.status.busy": "2022-06-20T06:12:17.609614Z",
     "iopub.status.idle": "2022-06-20T06:12:21.575869Z",
     "shell.execute_reply": "2022-06-20T06:12:21.574805Z"
    },
    "papermill": {
     "duration": 3.99386,
     "end_time": "2022-06-20T06:12:21.578071",
     "exception": false,
     "start_time": "2022-06-20T06:12:17.584211",
     "status": "completed"
    },
    "tags": []
   },
   "outputs": [
    {
     "data": {
      "text/plain": [
       "count                 3489539\n",
       "unique                3040064\n",
       "top       2020-07-12 13:16:59\n",
       "freq                       12\n",
       "Name: started_at, dtype: object"
      ]
     },
     "execution_count": 16,
     "metadata": {},
     "output_type": "execute_result"
    }
   ],
   "source": [
    "# Watching a brief description about the column so we can be sure of the type\n",
    "\n",
    "tripdataV1[\"started_at\"].describe()\n",
    "\n"
   ]
  },
  {
   "cell_type": "markdown",
   "id": "9e373940",
   "metadata": {
    "papermill": {
     "duration": 0.023792,
     "end_time": "2022-06-20T06:12:21.625458",
     "exception": false,
     "start_time": "2022-06-20T06:12:21.601666",
     "status": "completed"
    },
    "tags": []
   },
   "source": [
    "**As seem above the started_at is in an object data type**\n",
    "**The ended_at column has the same format and we want them to be datetime**"
   ]
  },
  {
   "cell_type": "code",
   "execution_count": 17,
   "id": "fbdea55f",
   "metadata": {
    "execution": {
     "iopub.execute_input": "2022-06-20T06:12:21.674767Z",
     "iopub.status.busy": "2022-06-20T06:12:21.674384Z",
     "iopub.status.idle": "2022-06-20T06:12:22.762783Z",
     "shell.execute_reply": "2022-06-20T06:12:22.761385Z"
    },
    "papermill": {
     "duration": 1.115474,
     "end_time": "2022-06-20T06:12:22.765531",
     "exception": false,
     "start_time": "2022-06-20T06:12:21.650057",
     "status": "completed"
    },
    "tags": []
   },
   "outputs": [
    {
     "name": "stderr",
     "output_type": "stream",
     "text": [
      "/opt/conda/lib/python3.7/site-packages/ipykernel_launcher.py:4: SettingWithCopyWarning: \n",
      "A value is trying to be set on a copy of a slice from a DataFrame.\n",
      "Try using .loc[row_indexer,col_indexer] = value instead\n",
      "\n",
      "See the caveats in the documentation: https://pandas.pydata.org/pandas-docs/stable/user_guide/indexing.html#returning-a-view-versus-a-copy\n",
      "  after removing the cwd from sys.path.\n"
     ]
    }
   ],
   "source": [
    "# Converting to a datetime format the column that was in an object format\n",
    "\n",
    "\n",
    "tripdataV1[\"started_at\"] = pd.to_datetime(tripdataV1[\"started_at\"])\n"
   ]
  },
  {
   "cell_type": "code",
   "execution_count": 18,
   "id": "d7db06ef",
   "metadata": {
    "execution": {
     "iopub.execute_input": "2022-06-20T06:12:22.820039Z",
     "iopub.status.busy": "2022-06-20T06:12:22.819270Z",
     "iopub.status.idle": "2022-06-20T06:12:22.826733Z",
     "shell.execute_reply": "2022-06-20T06:12:22.825834Z"
    },
    "papermill": {
     "duration": 0.035621,
     "end_time": "2022-06-20T06:12:22.828643",
     "exception": false,
     "start_time": "2022-06-20T06:12:22.793022",
     "status": "completed"
    },
    "tags": []
   },
   "outputs": [
    {
     "data": {
      "text/plain": [
       "0        2020-04-26 17:45:14\n",
       "1        2020-04-17 17:08:54\n",
       "2        2020-04-01 17:54:13\n",
       "3        2020-04-07 12:50:19\n",
       "4        2020-04-18 10:22:59\n",
       "                 ...        \n",
       "228491   2021-03-20 14:58:56\n",
       "228492   2021-03-02 11:35:10\n",
       "228493   2021-03-09 11:07:36\n",
       "228494   2021-03-01 18:11:57\n",
       "228495   2021-03-26 17:58:14\n",
       "Name: started_at, Length: 3489539, dtype: datetime64[ns]"
      ]
     },
     "execution_count": 18,
     "metadata": {},
     "output_type": "execute_result"
    }
   ],
   "source": [
    "# Checking if the started_at column already has a datatime type format\n",
    "\n",
    "tripdataV1[\"started_at\"]\n"
   ]
  },
  {
   "cell_type": "code",
   "execution_count": 19,
   "id": "17ba0cab",
   "metadata": {
    "execution": {
     "iopub.execute_input": "2022-06-20T06:12:22.879143Z",
     "iopub.status.busy": "2022-06-20T06:12:22.878512Z",
     "iopub.status.idle": "2022-06-20T06:12:24.030858Z",
     "shell.execute_reply": "2022-06-20T06:12:24.029896Z"
    },
    "papermill": {
     "duration": 1.179954,
     "end_time": "2022-06-20T06:12:24.033048",
     "exception": false,
     "start_time": "2022-06-20T06:12:22.853094",
     "status": "completed"
    },
    "tags": []
   },
   "outputs": [
    {
     "name": "stderr",
     "output_type": "stream",
     "text": [
      "/opt/conda/lib/python3.7/site-packages/ipykernel_launcher.py:3: SettingWithCopyWarning: \n",
      "A value is trying to be set on a copy of a slice from a DataFrame.\n",
      "Try using .loc[row_indexer,col_indexer] = value instead\n",
      "\n",
      "See the caveats in the documentation: https://pandas.pydata.org/pandas-docs/stable/user_guide/indexing.html#returning-a-view-versus-a-copy\n",
      "  This is separate from the ipykernel package so we can avoid doing imports until\n"
     ]
    }
   ],
   "source": [
    "# Converting the ended_at column to datetime format\n",
    "\n",
    "tripdataV1[\"ended_at\"] = pd.to_datetime(tripdataV1[\"ended_at\"])\n",
    "\n"
   ]
  },
  {
   "cell_type": "code",
   "execution_count": 20,
   "id": "5df43f54",
   "metadata": {
    "execution": {
     "iopub.execute_input": "2022-06-20T06:12:24.084458Z",
     "iopub.status.busy": "2022-06-20T06:12:24.083858Z",
     "iopub.status.idle": "2022-06-20T06:12:24.091755Z",
     "shell.execute_reply": "2022-06-20T06:12:24.090681Z"
    },
    "papermill": {
     "duration": 0.036264,
     "end_time": "2022-06-20T06:12:24.093848",
     "exception": false,
     "start_time": "2022-06-20T06:12:24.057584",
     "status": "completed"
    },
    "tags": []
   },
   "outputs": [
    {
     "data": {
      "text/plain": [
       "0        2020-04-26 18:12:03\n",
       "1        2020-04-17 17:17:03\n",
       "2        2020-04-01 18:08:36\n",
       "3        2020-04-07 13:02:31\n",
       "4        2020-04-18 11:15:54\n",
       "                 ...        \n",
       "228491   2021-03-20 17:22:47\n",
       "228492   2021-03-02 11:43:37\n",
       "228493   2021-03-09 11:49:11\n",
       "228494   2021-03-01 18:18:37\n",
       "228495   2021-03-26 18:06:43\n",
       "Name: ended_at, Length: 3489539, dtype: datetime64[ns]"
      ]
     },
     "execution_count": 20,
     "metadata": {},
     "output_type": "execute_result"
    }
   ],
   "source": [
    "# Checking if the changed was made\n",
    "\n",
    "tripdataV1[\"ended_at\"]\n"
   ]
  },
  {
   "cell_type": "code",
   "execution_count": 21,
   "id": "130eef6e",
   "metadata": {
    "execution": {
     "iopub.execute_input": "2022-06-20T06:12:24.143342Z",
     "iopub.status.busy": "2022-06-20T06:12:24.142945Z",
     "iopub.status.idle": "2022-06-20T06:12:24.154832Z",
     "shell.execute_reply": "2022-06-20T06:12:24.153583Z"
    },
    "papermill": {
     "duration": 0.03951,
     "end_time": "2022-06-20T06:12:24.157239",
     "exception": false,
     "start_time": "2022-06-20T06:12:24.117729",
     "status": "completed"
    },
    "tags": []
   },
   "outputs": [
    {
     "name": "stdout",
     "output_type": "stream",
     "text": [
      "<class 'pandas.core.frame.DataFrame'>\n",
      "Int64Index: 3489539 entries, 0 to 228495\n",
      "Data columns (total 13 columns):\n",
      " #   Column              Dtype         \n",
      "---  ------              -----         \n",
      " 0   ride_id             object        \n",
      " 1   rideable_type       object        \n",
      " 2   started_at          datetime64[ns]\n",
      " 3   ended_at            datetime64[ns]\n",
      " 4   start_station_name  object        \n",
      " 5   start_station_id    object        \n",
      " 6   end_station_name    object        \n",
      " 7   end_station_id      object        \n",
      " 8   start_lat           float64       \n",
      " 9   start_lng           float64       \n",
      " 10  end_lat             float64       \n",
      " 11  end_lng             float64       \n",
      " 12  member_casual       object        \n",
      "dtypes: datetime64[ns](2), float64(4), object(7)\n",
      "memory usage: 372.7+ MB\n"
     ]
    }
   ],
   "source": [
    "tripdataV1.info()\n",
    "\n",
    "# Checking the data types format and we have two date times as intended"
   ]
  },
  {
   "cell_type": "code",
   "execution_count": null,
   "id": "b90c3b00",
   "metadata": {
    "papermill": {
     "duration": 0.025137,
     "end_time": "2022-06-20T06:12:24.207441",
     "exception": false,
     "start_time": "2022-06-20T06:12:24.182304",
     "status": "completed"
    },
    "tags": []
   },
   "outputs": [],
   "source": []
  },
  {
   "cell_type": "markdown",
   "id": "7e9ebfc8",
   "metadata": {
    "papermill": {
     "duration": 0.024845,
     "end_time": "2022-06-20T06:12:24.257636",
     "exception": false,
     "start_time": "2022-06-20T06:12:24.232791",
     "status": "completed"
    },
    "tags": []
   },
   "source": [
    "# Manipulating the data"
   ]
  },
  {
   "cell_type": "markdown",
   "id": "7b551c45",
   "metadata": {
    "papermill": {
     "duration": 0.025305,
     "end_time": "2022-06-20T06:12:24.308056",
     "exception": false,
     "start_time": "2022-06-20T06:12:24.282751",
     "status": "completed"
    },
    "tags": []
   },
   "source": [
    "* **Add new columns**"
   ]
  },
  {
   "cell_type": "code",
   "execution_count": 22,
   "id": "0ce39b6e",
   "metadata": {
    "execution": {
     "iopub.execute_input": "2022-06-20T06:12:24.362029Z",
     "iopub.status.busy": "2022-06-20T06:12:24.361538Z",
     "iopub.status.idle": "2022-06-20T06:12:24.726340Z",
     "shell.execute_reply": "2022-06-20T06:12:24.725305Z"
    },
    "papermill": {
     "duration": 0.393724,
     "end_time": "2022-06-20T06:12:24.728693",
     "exception": false,
     "start_time": "2022-06-20T06:12:24.334969",
     "status": "completed"
    },
    "tags": []
   },
   "outputs": [
    {
     "data": {
      "text/plain": [
       "0         6\n",
       "1         4\n",
       "2         2\n",
       "3         1\n",
       "4         5\n",
       "         ..\n",
       "228491    5\n",
       "228492    1\n",
       "228493    1\n",
       "228494    0\n",
       "228495    4\n",
       "Name: started_at, Length: 3489539, dtype: int64"
      ]
     },
     "execution_count": 22,
     "metadata": {},
     "output_type": "execute_result"
    }
   ],
   "source": [
    "# Using the dt.dayofweek to find the day of the week for each date\n",
    "\n",
    "tripdataV1[\"started_at\"].dt.dayofweek"
   ]
  },
  {
   "cell_type": "code",
   "execution_count": 23,
   "id": "8618fe1b",
   "metadata": {
    "execution": {
     "iopub.execute_input": "2022-06-20T06:12:24.779384Z",
     "iopub.status.busy": "2022-06-20T06:12:24.778984Z",
     "iopub.status.idle": "2022-06-20T06:12:25.825146Z",
     "shell.execute_reply": "2022-06-20T06:12:25.824074Z"
    },
    "papermill": {
     "duration": 1.074684,
     "end_time": "2022-06-20T06:12:25.827446",
     "exception": false,
     "start_time": "2022-06-20T06:12:24.752762",
     "status": "completed"
    },
    "tags": []
   },
   "outputs": [
    {
     "data": {
      "text/plain": [
       "0            Sunday\n",
       "1            Friday\n",
       "2         Wednesday\n",
       "3           Tuesday\n",
       "4          Saturday\n",
       "            ...    \n",
       "228491     Saturday\n",
       "228492      Tuesday\n",
       "228493      Tuesday\n",
       "228494       Monday\n",
       "228495       Friday\n",
       "Name: started_at, Length: 3489539, dtype: object"
      ]
     },
     "execution_count": 23,
     "metadata": {},
     "output_type": "execute_result"
    }
   ],
   "source": [
    "# Using the dt.day_name() to get the name of the day to each date\n",
    "\n",
    "tripdataV1[\"started_at\"].dt.day_name()\n"
   ]
  },
  {
   "cell_type": "code",
   "execution_count": 24,
   "id": "52847ae0",
   "metadata": {
    "execution": {
     "iopub.execute_input": "2022-06-20T06:12:25.881952Z",
     "iopub.status.busy": "2022-06-20T06:12:25.881190Z",
     "iopub.status.idle": "2022-06-20T06:12:26.215474Z",
     "shell.execute_reply": "2022-06-20T06:12:26.214206Z"
    },
    "papermill": {
     "duration": 0.364837,
     "end_time": "2022-06-20T06:12:26.218574",
     "exception": false,
     "start_time": "2022-06-20T06:12:25.853737",
     "status": "completed"
    },
    "tags": []
   },
   "outputs": [
    {
     "data": {
      "text/plain": [
       "0         4\n",
       "1         4\n",
       "2         4\n",
       "3         4\n",
       "4         4\n",
       "         ..\n",
       "228491    3\n",
       "228492    3\n",
       "228493    3\n",
       "228494    3\n",
       "228495    3\n",
       "Name: started_at, Length: 3489539, dtype: int64"
      ]
     },
     "execution_count": 24,
     "metadata": {},
     "output_type": "execute_result"
    }
   ],
   "source": [
    "# df['month_of_date'] = df['date_given'].dt.month\n",
    "\n",
    "tripdataV1[\"started_at\"].dt.month\n"
   ]
  },
  {
   "cell_type": "code",
   "execution_count": 25,
   "id": "39669e7d",
   "metadata": {
    "execution": {
     "iopub.execute_input": "2022-06-20T06:12:26.273295Z",
     "iopub.status.busy": "2022-06-20T06:12:26.272842Z",
     "iopub.status.idle": "2022-06-20T06:12:27.272080Z",
     "shell.execute_reply": "2022-06-20T06:12:27.271096Z"
    },
    "papermill": {
     "duration": 1.02815,
     "end_time": "2022-06-20T06:12:27.274359",
     "exception": false,
     "start_time": "2022-06-20T06:12:26.246209",
     "status": "completed"
    },
    "tags": []
   },
   "outputs": [
    {
     "data": {
      "text/plain": [
       "0         April\n",
       "1         April\n",
       "2         April\n",
       "3         April\n",
       "4         April\n",
       "          ...  \n",
       "228491    March\n",
       "228492    March\n",
       "228493    March\n",
       "228494    March\n",
       "228495    March\n",
       "Name: started_at, Length: 3489539, dtype: object"
      ]
     },
     "execution_count": 25,
     "metadata": {},
     "output_type": "execute_result"
    }
   ],
   "source": [
    "# Using the dt.month_name to see the months of each date\n",
    "# later we will assign it into a new column\n",
    "\n",
    "tripdataV1[\"started_at\"].dt.month_name()\n"
   ]
  },
  {
   "cell_type": "code",
   "execution_count": 26,
   "id": "39888322",
   "metadata": {
    "execution": {
     "iopub.execute_input": "2022-06-20T06:12:27.324673Z",
     "iopub.status.busy": "2022-06-20T06:12:27.324296Z",
     "iopub.status.idle": "2022-06-20T06:12:27.648444Z",
     "shell.execute_reply": "2022-06-20T06:12:27.647534Z"
    },
    "papermill": {
     "duration": 0.351512,
     "end_time": "2022-06-20T06:12:27.650460",
     "exception": false,
     "start_time": "2022-06-20T06:12:27.298948",
     "status": "completed"
    },
    "tags": []
   },
   "outputs": [
    {
     "data": {
      "text/plain": [
       "0         2020\n",
       "1         2020\n",
       "2         2020\n",
       "3         2020\n",
       "4         2020\n",
       "          ... \n",
       "228491    2021\n",
       "228492    2021\n",
       "228493    2021\n",
       "228494    2021\n",
       "228495    2021\n",
       "Name: started_at, Length: 3489539, dtype: int64"
      ]
     },
     "execution_count": 26,
     "metadata": {},
     "output_type": "execute_result"
    }
   ],
   "source": [
    "# Now taking the year this \"dt.\" is kind a library to manipulate date\n",
    "\n",
    "tripdataV1[\"started_at\"].dt.year"
   ]
  },
  {
   "cell_type": "code",
   "execution_count": 27,
   "id": "cebc04eb",
   "metadata": {
    "execution": {
     "iopub.execute_input": "2022-06-20T06:12:27.700620Z",
     "iopub.status.busy": "2022-06-20T06:12:27.700197Z",
     "iopub.status.idle": "2022-06-20T06:12:28.040592Z",
     "shell.execute_reply": "2022-06-20T06:12:28.039391Z"
    },
    "papermill": {
     "duration": 0.369052,
     "end_time": "2022-06-20T06:12:28.044065",
     "exception": false,
     "start_time": "2022-06-20T06:12:27.675013",
     "status": "completed"
    },
    "tags": []
   },
   "outputs": [
    {
     "data": {
      "text/plain": [
       "0         26\n",
       "1         17\n",
       "2          1\n",
       "3          7\n",
       "4         18\n",
       "          ..\n",
       "228491    20\n",
       "228492     2\n",
       "228493     9\n",
       "228494     1\n",
       "228495    26\n",
       "Name: started_at, Length: 3489539, dtype: int64"
      ]
     },
     "execution_count": 27,
     "metadata": {},
     "output_type": "execute_result"
    }
   ],
   "source": [
    "# Extracting the specific day\n",
    "\n",
    "tripdataV1[\"started_at\"].dt.day"
   ]
  },
  {
   "cell_type": "markdown",
   "id": "eed2158b",
   "metadata": {
    "papermill": {
     "duration": 0.035711,
     "end_time": "2022-06-20T06:12:28.114904",
     "exception": false,
     "start_time": "2022-06-20T06:12:28.079193",
     "status": "completed"
    },
    "tags": []
   },
   "source": [
    "**After wacthing the new values we need to create new columns we are going to create and insert the new columns**"
   ]
  },
  {
   "cell_type": "code",
   "execution_count": 28,
   "id": "775c8569",
   "metadata": {
    "execution": {
     "iopub.execute_input": "2022-06-20T06:12:28.173379Z",
     "iopub.status.busy": "2022-06-20T06:12:28.172939Z",
     "iopub.status.idle": "2022-06-20T06:12:30.258124Z",
     "shell.execute_reply": "2022-06-20T06:12:30.256857Z"
    },
    "papermill": {
     "duration": 2.117994,
     "end_time": "2022-06-20T06:12:30.260730",
     "exception": false,
     "start_time": "2022-06-20T06:12:28.142736",
     "status": "completed"
    },
    "tags": []
   },
   "outputs": [
    {
     "name": "stderr",
     "output_type": "stream",
     "text": [
      "/opt/conda/lib/python3.7/site-packages/ipykernel_launcher.py:3: SettingWithCopyWarning: \n",
      "A value is trying to be set on a copy of a slice from a DataFrame.\n",
      "Try using .loc[row_indexer,col_indexer] = value instead\n",
      "\n",
      "See the caveats in the documentation: https://pandas.pydata.org/pandas-docs/stable/user_guide/indexing.html#returning-a-view-versus-a-copy\n",
      "  This is separate from the ipykernel package so we can avoid doing imports until\n",
      "/opt/conda/lib/python3.7/site-packages/ipykernel_launcher.py:5: SettingWithCopyWarning: \n",
      "A value is trying to be set on a copy of a slice from a DataFrame.\n",
      "Try using .loc[row_indexer,col_indexer] = value instead\n",
      "\n",
      "See the caveats in the documentation: https://pandas.pydata.org/pandas-docs/stable/user_guide/indexing.html#returning-a-view-versus-a-copy\n",
      "  \"\"\"\n",
      "/opt/conda/lib/python3.7/site-packages/ipykernel_launcher.py:6: SettingWithCopyWarning: \n",
      "A value is trying to be set on a copy of a slice from a DataFrame.\n",
      "Try using .loc[row_indexer,col_indexer] = value instead\n",
      "\n",
      "See the caveats in the documentation: https://pandas.pydata.org/pandas-docs/stable/user_guide/indexing.html#returning-a-view-versus-a-copy\n",
      "  \n",
      "/opt/conda/lib/python3.7/site-packages/ipykernel_launcher.py:7: SettingWithCopyWarning: \n",
      "A value is trying to be set on a copy of a slice from a DataFrame.\n",
      "Try using .loc[row_indexer,col_indexer] = value instead\n",
      "\n",
      "See the caveats in the documentation: https://pandas.pydata.org/pandas-docs/stable/user_guide/indexing.html#returning-a-view-versus-a-copy\n",
      "  import sys\n"
     ]
    },
    {
     "data": {
      "text/html": [
       "<div>\n",
       "<style scoped>\n",
       "    .dataframe tbody tr th:only-of-type {\n",
       "        vertical-align: middle;\n",
       "    }\n",
       "\n",
       "    .dataframe tbody tr th {\n",
       "        vertical-align: top;\n",
       "    }\n",
       "\n",
       "    .dataframe thead th {\n",
       "        text-align: right;\n",
       "    }\n",
       "</style>\n",
       "<table border=\"1\" class=\"dataframe\">\n",
       "  <thead>\n",
       "    <tr style=\"text-align: right;\">\n",
       "      <th></th>\n",
       "      <th>ride_id</th>\n",
       "      <th>rideable_type</th>\n",
       "      <th>started_at</th>\n",
       "      <th>ended_at</th>\n",
       "      <th>start_station_name</th>\n",
       "      <th>start_station_id</th>\n",
       "      <th>end_station_name</th>\n",
       "      <th>end_station_id</th>\n",
       "      <th>start_lat</th>\n",
       "      <th>start_lng</th>\n",
       "      <th>end_lat</th>\n",
       "      <th>end_lng</th>\n",
       "      <th>member_casual</th>\n",
       "      <th>weekday</th>\n",
       "      <th>day</th>\n",
       "      <th>month</th>\n",
       "      <th>year</th>\n",
       "    </tr>\n",
       "  </thead>\n",
       "  <tbody>\n",
       "    <tr>\n",
       "      <th>0</th>\n",
       "      <td>A847FADBBC638E45</td>\n",
       "      <td>docked_bike</td>\n",
       "      <td>2020-04-26 17:45:14</td>\n",
       "      <td>2020-04-26 18:12:03</td>\n",
       "      <td>Eckhart Park</td>\n",
       "      <td>86</td>\n",
       "      <td>Lincoln Ave &amp; Diversey Pkwy</td>\n",
       "      <td>152.0</td>\n",
       "      <td>41.896400</td>\n",
       "      <td>-87.661000</td>\n",
       "      <td>41.932200</td>\n",
       "      <td>-87.658600</td>\n",
       "      <td>member</td>\n",
       "      <td>Sunday</td>\n",
       "      <td>26</td>\n",
       "      <td>4</td>\n",
       "      <td>2020</td>\n",
       "    </tr>\n",
       "    <tr>\n",
       "      <th>1</th>\n",
       "      <td>5405B80E996FF60D</td>\n",
       "      <td>docked_bike</td>\n",
       "      <td>2020-04-17 17:08:54</td>\n",
       "      <td>2020-04-17 17:17:03</td>\n",
       "      <td>Drake Ave &amp; Fullerton Ave</td>\n",
       "      <td>503</td>\n",
       "      <td>Kosciuszko Park</td>\n",
       "      <td>499.0</td>\n",
       "      <td>41.924400</td>\n",
       "      <td>-87.715400</td>\n",
       "      <td>41.930600</td>\n",
       "      <td>-87.723800</td>\n",
       "      <td>member</td>\n",
       "      <td>Friday</td>\n",
       "      <td>17</td>\n",
       "      <td>4</td>\n",
       "      <td>2020</td>\n",
       "    </tr>\n",
       "    <tr>\n",
       "      <th>2</th>\n",
       "      <td>5DD24A79A4E006F4</td>\n",
       "      <td>docked_bike</td>\n",
       "      <td>2020-04-01 17:54:13</td>\n",
       "      <td>2020-04-01 18:08:36</td>\n",
       "      <td>McClurg Ct &amp; Erie St</td>\n",
       "      <td>142</td>\n",
       "      <td>Indiana Ave &amp; Roosevelt Rd</td>\n",
       "      <td>255.0</td>\n",
       "      <td>41.894500</td>\n",
       "      <td>-87.617900</td>\n",
       "      <td>41.867900</td>\n",
       "      <td>-87.623000</td>\n",
       "      <td>member</td>\n",
       "      <td>Wednesday</td>\n",
       "      <td>1</td>\n",
       "      <td>4</td>\n",
       "      <td>2020</td>\n",
       "    </tr>\n",
       "    <tr>\n",
       "      <th>3</th>\n",
       "      <td>2A59BBDF5CDBA725</td>\n",
       "      <td>docked_bike</td>\n",
       "      <td>2020-04-07 12:50:19</td>\n",
       "      <td>2020-04-07 13:02:31</td>\n",
       "      <td>California Ave &amp; Division St</td>\n",
       "      <td>216</td>\n",
       "      <td>Wood St &amp; Augusta Blvd</td>\n",
       "      <td>657.0</td>\n",
       "      <td>41.903000</td>\n",
       "      <td>-87.697500</td>\n",
       "      <td>41.899200</td>\n",
       "      <td>-87.672200</td>\n",
       "      <td>member</td>\n",
       "      <td>Tuesday</td>\n",
       "      <td>7</td>\n",
       "      <td>4</td>\n",
       "      <td>2020</td>\n",
       "    </tr>\n",
       "    <tr>\n",
       "      <th>4</th>\n",
       "      <td>27AD306C119C6158</td>\n",
       "      <td>docked_bike</td>\n",
       "      <td>2020-04-18 10:22:59</td>\n",
       "      <td>2020-04-18 11:15:54</td>\n",
       "      <td>Rush St &amp; Hubbard St</td>\n",
       "      <td>125</td>\n",
       "      <td>Sheridan Rd &amp; Lawrence Ave</td>\n",
       "      <td>323.0</td>\n",
       "      <td>41.890200</td>\n",
       "      <td>-87.626200</td>\n",
       "      <td>41.969500</td>\n",
       "      <td>-87.654700</td>\n",
       "      <td>casual</td>\n",
       "      <td>Saturday</td>\n",
       "      <td>18</td>\n",
       "      <td>4</td>\n",
       "      <td>2020</td>\n",
       "    </tr>\n",
       "    <tr>\n",
       "      <th>...</th>\n",
       "      <td>...</td>\n",
       "      <td>...</td>\n",
       "      <td>...</td>\n",
       "      <td>...</td>\n",
       "      <td>...</td>\n",
       "      <td>...</td>\n",
       "      <td>...</td>\n",
       "      <td>...</td>\n",
       "      <td>...</td>\n",
       "      <td>...</td>\n",
       "      <td>...</td>\n",
       "      <td>...</td>\n",
       "      <td>...</td>\n",
       "      <td>...</td>\n",
       "      <td>...</td>\n",
       "      <td>...</td>\n",
       "      <td>...</td>\n",
       "    </tr>\n",
       "    <tr>\n",
       "      <th>228491</th>\n",
       "      <td>9397BDD14798A1BA</td>\n",
       "      <td>docked_bike</td>\n",
       "      <td>2021-03-20 14:58:56</td>\n",
       "      <td>2021-03-20 17:22:47</td>\n",
       "      <td>Michigan Ave &amp; Oak St</td>\n",
       "      <td>13042</td>\n",
       "      <td>New St &amp; Illinois St</td>\n",
       "      <td>TA1306000013</td>\n",
       "      <td>41.900960</td>\n",
       "      <td>-87.623777</td>\n",
       "      <td>41.890847</td>\n",
       "      <td>-87.618617</td>\n",
       "      <td>casual</td>\n",
       "      <td>Saturday</td>\n",
       "      <td>20</td>\n",
       "      <td>3</td>\n",
       "      <td>2021</td>\n",
       "    </tr>\n",
       "    <tr>\n",
       "      <th>228492</th>\n",
       "      <td>BBBEB8D51AAD40DA</td>\n",
       "      <td>classic_bike</td>\n",
       "      <td>2021-03-02 11:35:10</td>\n",
       "      <td>2021-03-02 11:43:37</td>\n",
       "      <td>Kingsbury St &amp; Kinzie St</td>\n",
       "      <td>KA1503000043</td>\n",
       "      <td>New St &amp; Illinois St</td>\n",
       "      <td>TA1306000013</td>\n",
       "      <td>41.889177</td>\n",
       "      <td>-87.638506</td>\n",
       "      <td>41.890847</td>\n",
       "      <td>-87.618617</td>\n",
       "      <td>member</td>\n",
       "      <td>Tuesday</td>\n",
       "      <td>2</td>\n",
       "      <td>3</td>\n",
       "      <td>2021</td>\n",
       "    </tr>\n",
       "    <tr>\n",
       "      <th>228493</th>\n",
       "      <td>637FF754DA0BD9E1</td>\n",
       "      <td>classic_bike</td>\n",
       "      <td>2021-03-09 11:07:36</td>\n",
       "      <td>2021-03-09 11:49:11</td>\n",
       "      <td>Michigan Ave &amp; Oak St</td>\n",
       "      <td>13042</td>\n",
       "      <td>Clark St &amp; Berwyn Ave</td>\n",
       "      <td>KA1504000146</td>\n",
       "      <td>41.900960</td>\n",
       "      <td>-87.623777</td>\n",
       "      <td>41.977997</td>\n",
       "      <td>-87.668047</td>\n",
       "      <td>member</td>\n",
       "      <td>Tuesday</td>\n",
       "      <td>9</td>\n",
       "      <td>3</td>\n",
       "      <td>2021</td>\n",
       "    </tr>\n",
       "    <tr>\n",
       "      <th>228494</th>\n",
       "      <td>F8F43A0B978A7A35</td>\n",
       "      <td>classic_bike</td>\n",
       "      <td>2021-03-01 18:11:57</td>\n",
       "      <td>2021-03-01 18:18:37</td>\n",
       "      <td>Kingsbury St &amp; Kinzie St</td>\n",
       "      <td>KA1503000043</td>\n",
       "      <td>New St &amp; Illinois St</td>\n",
       "      <td>TA1306000013</td>\n",
       "      <td>41.889177</td>\n",
       "      <td>-87.638506</td>\n",
       "      <td>41.890847</td>\n",
       "      <td>-87.618617</td>\n",
       "      <td>member</td>\n",
       "      <td>Monday</td>\n",
       "      <td>1</td>\n",
       "      <td>3</td>\n",
       "      <td>2021</td>\n",
       "    </tr>\n",
       "    <tr>\n",
       "      <th>228495</th>\n",
       "      <td>3AE64EA5BF43CF72</td>\n",
       "      <td>electric_bike</td>\n",
       "      <td>2021-03-26 17:58:14</td>\n",
       "      <td>2021-03-26 18:06:43</td>\n",
       "      <td>NaN</td>\n",
       "      <td>NaN</td>\n",
       "      <td>New St &amp; Illinois St</td>\n",
       "      <td>TA1306000013</td>\n",
       "      <td>41.880000</td>\n",
       "      <td>-87.630000</td>\n",
       "      <td>41.890818</td>\n",
       "      <td>-87.619540</td>\n",
       "      <td>member</td>\n",
       "      <td>Friday</td>\n",
       "      <td>26</td>\n",
       "      <td>3</td>\n",
       "      <td>2021</td>\n",
       "    </tr>\n",
       "  </tbody>\n",
       "</table>\n",
       "<p>3489539 rows × 17 columns</p>\n",
       "</div>"
      ],
      "text/plain": [
       "                 ride_id  rideable_type          started_at  \\\n",
       "0       A847FADBBC638E45    docked_bike 2020-04-26 17:45:14   \n",
       "1       5405B80E996FF60D    docked_bike 2020-04-17 17:08:54   \n",
       "2       5DD24A79A4E006F4    docked_bike 2020-04-01 17:54:13   \n",
       "3       2A59BBDF5CDBA725    docked_bike 2020-04-07 12:50:19   \n",
       "4       27AD306C119C6158    docked_bike 2020-04-18 10:22:59   \n",
       "...                  ...            ...                 ...   \n",
       "228491  9397BDD14798A1BA    docked_bike 2021-03-20 14:58:56   \n",
       "228492  BBBEB8D51AAD40DA   classic_bike 2021-03-02 11:35:10   \n",
       "228493  637FF754DA0BD9E1   classic_bike 2021-03-09 11:07:36   \n",
       "228494  F8F43A0B978A7A35   classic_bike 2021-03-01 18:11:57   \n",
       "228495  3AE64EA5BF43CF72  electric_bike 2021-03-26 17:58:14   \n",
       "\n",
       "                  ended_at            start_station_name start_station_id  \\\n",
       "0      2020-04-26 18:12:03                  Eckhart Park               86   \n",
       "1      2020-04-17 17:17:03     Drake Ave & Fullerton Ave              503   \n",
       "2      2020-04-01 18:08:36          McClurg Ct & Erie St              142   \n",
       "3      2020-04-07 13:02:31  California Ave & Division St              216   \n",
       "4      2020-04-18 11:15:54          Rush St & Hubbard St              125   \n",
       "...                    ...                           ...              ...   \n",
       "228491 2021-03-20 17:22:47         Michigan Ave & Oak St            13042   \n",
       "228492 2021-03-02 11:43:37      Kingsbury St & Kinzie St     KA1503000043   \n",
       "228493 2021-03-09 11:49:11         Michigan Ave & Oak St            13042   \n",
       "228494 2021-03-01 18:18:37      Kingsbury St & Kinzie St     KA1503000043   \n",
       "228495 2021-03-26 18:06:43                           NaN              NaN   \n",
       "\n",
       "                   end_station_name end_station_id  start_lat  start_lng  \\\n",
       "0       Lincoln Ave & Diversey Pkwy          152.0  41.896400 -87.661000   \n",
       "1                   Kosciuszko Park          499.0  41.924400 -87.715400   \n",
       "2        Indiana Ave & Roosevelt Rd          255.0  41.894500 -87.617900   \n",
       "3            Wood St & Augusta Blvd          657.0  41.903000 -87.697500   \n",
       "4        Sheridan Rd & Lawrence Ave          323.0  41.890200 -87.626200   \n",
       "...                             ...            ...        ...        ...   \n",
       "228491         New St & Illinois St   TA1306000013  41.900960 -87.623777   \n",
       "228492         New St & Illinois St   TA1306000013  41.889177 -87.638506   \n",
       "228493        Clark St & Berwyn Ave   KA1504000146  41.900960 -87.623777   \n",
       "228494         New St & Illinois St   TA1306000013  41.889177 -87.638506   \n",
       "228495         New St & Illinois St   TA1306000013  41.880000 -87.630000   \n",
       "\n",
       "          end_lat    end_lng member_casual    weekday  day  month  year  \n",
       "0       41.932200 -87.658600        member     Sunday   26      4  2020  \n",
       "1       41.930600 -87.723800        member     Friday   17      4  2020  \n",
       "2       41.867900 -87.623000        member  Wednesday    1      4  2020  \n",
       "3       41.899200 -87.672200        member    Tuesday    7      4  2020  \n",
       "4       41.969500 -87.654700        casual   Saturday   18      4  2020  \n",
       "...           ...        ...           ...        ...  ...    ...   ...  \n",
       "228491  41.890847 -87.618617        casual   Saturday   20      3  2021  \n",
       "228492  41.890847 -87.618617        member    Tuesday    2      3  2021  \n",
       "228493  41.977997 -87.668047        member    Tuesday    9      3  2021  \n",
       "228494  41.890847 -87.618617        member     Monday    1      3  2021  \n",
       "228495  41.890818 -87.619540        member     Friday   26      3  2021  \n",
       "\n",
       "[3489539 rows x 17 columns]"
      ]
     },
     "execution_count": 28,
     "metadata": {},
     "output_type": "execute_result"
    }
   ],
   "source": [
    "# Adding the new columns \n",
    "\n",
    "tripdataV1[\"weekday\"] = tripdataV1[\"started_at\"].dt.day_name()\n",
    "\n",
    "tripdataV1[\"day\"] = tripdataV1[\"started_at\"].dt.day\n",
    "tripdataV1[\"month\"] = tripdataV1[\"started_at\"].dt.month\n",
    "tripdataV1[\"year\"] = tripdataV1[\"started_at\"].dt.year\n",
    "\n",
    "\n",
    "tripdataV1"
   ]
  },
  {
   "cell_type": "markdown",
   "id": "e2803be9",
   "metadata": {
    "papermill": {
     "duration": 0.026173,
     "end_time": "2022-06-20T06:12:30.314099",
     "exception": false,
     "start_time": "2022-06-20T06:12:30.287926",
     "status": "completed"
    },
    "tags": []
   },
   "source": [
    "**We have added the new four columns**\n",
    "**The weekday, day, month and year**\n",
    "**This columns will help us make a deep analysis between the casual and members**"
   ]
  },
  {
   "cell_type": "code",
   "execution_count": 29,
   "id": "c9df0599",
   "metadata": {
    "execution": {
     "iopub.execute_input": "2022-06-20T06:12:30.369067Z",
     "iopub.status.busy": "2022-06-20T06:12:30.368115Z",
     "iopub.status.idle": "2022-06-20T06:12:30.507558Z",
     "shell.execute_reply": "2022-06-20T06:12:30.505961Z"
    },
    "papermill": {
     "duration": 0.170573,
     "end_time": "2022-06-20T06:12:30.510366",
     "exception": false,
     "start_time": "2022-06-20T06:12:30.339793",
     "status": "completed"
    },
    "tags": []
   },
   "outputs": [
    {
     "name": "stderr",
     "output_type": "stream",
     "text": [
      "/opt/conda/lib/python3.7/site-packages/ipykernel_launcher.py:3: SettingWithCopyWarning: \n",
      "A value is trying to be set on a copy of a slice from a DataFrame.\n",
      "Try using .loc[row_indexer,col_indexer] = value instead\n",
      "\n",
      "See the caveats in the documentation: https://pandas.pydata.org/pandas-docs/stable/user_guide/indexing.html#returning-a-view-versus-a-copy\n",
      "  This is separate from the ipykernel package so we can avoid doing imports until\n"
     ]
    },
    {
     "data": {
      "text/plain": [
       "0          26.816667\n",
       "1           8.150000\n",
       "2          14.383333\n",
       "3          12.200000\n",
       "4          52.916667\n",
       "             ...    \n",
       "228491    143.850000\n",
       "228492      8.450000\n",
       "228493     41.583333\n",
       "228494      6.666667\n",
       "228495      8.483333\n",
       "Name: ride_length_s, Length: 3489539, dtype: float64"
      ]
     },
     "execution_count": 29,
     "metadata": {},
     "output_type": "execute_result"
    }
   ],
   "source": [
    "# calculating the ride lenght in seconds\n",
    "\n",
    "tripdataV1[\"ride_length_s\"] = (tripdataV1[\"ended_at\"] - tripdataV1[\"started_at\"]).dt.seconds/60 \n",
    "\n",
    "tripdataV1[\"ride_length_s\"]\n"
   ]
  },
  {
   "cell_type": "code",
   "execution_count": 30,
   "id": "22164309",
   "metadata": {
    "execution": {
     "iopub.execute_input": "2022-06-20T06:12:30.563121Z",
     "iopub.status.busy": "2022-06-20T06:12:30.562651Z",
     "iopub.status.idle": "2022-06-20T06:12:35.118879Z",
     "shell.execute_reply": "2022-06-20T06:12:35.117649Z"
    },
    "papermill": {
     "duration": 4.584442,
     "end_time": "2022-06-20T06:12:35.120978",
     "exception": false,
     "start_time": "2022-06-20T06:12:30.536536",
     "status": "completed"
    },
    "tags": []
   },
   "outputs": [
    {
     "name": "stderr",
     "output_type": "stream",
     "text": [
      "/opt/conda/lib/python3.7/site-packages/ipykernel_launcher.py:5: SettingWithCopyWarning: \n",
      "A value is trying to be set on a copy of a slice from a DataFrame.\n",
      "Try using .loc[row_indexer,col_indexer] = value instead\n",
      "\n",
      "See the caveats in the documentation: https://pandas.pydata.org/pandas-docs/stable/user_guide/indexing.html#returning-a-view-versus-a-copy\n",
      "  \"\"\"\n"
     ]
    },
    {
     "data": {
      "text/plain": [
       "0         2020 - 4 (April)\n",
       "1         2020 - 4 (April)\n",
       "2         2020 - 4 (April)\n",
       "3         2020 - 4 (April)\n",
       "4         2020 - 4 (April)\n",
       "                ...       \n",
       "228491    2021 - 3 (March)\n",
       "228492    2021 - 3 (March)\n",
       "228493    2021 - 3 (March)\n",
       "228494    2021 - 3 (March)\n",
       "228495    2021 - 3 (March)\n",
       "Name: year_month, Length: 3489539, dtype: object"
      ]
     },
     "execution_count": 30,
     "metadata": {},
     "output_type": "execute_result"
    }
   ],
   "source": [
    "# Now we are going to add newone column here\n",
    "# the year_month\n",
    "# .map(str)\n",
    "\n",
    "tripdataV1[\"year_month\"] = tripdataV1[\"year\"].map(str) + \" - \" + tripdataV1[\"month\"].map(str) + \" (\" + tripdataV1[\"started_at\"].dt.month_name().map(str) + \")\"\n",
    "\n",
    "tripdataV1[\"year_month\"]"
   ]
  },
  {
   "cell_type": "code",
   "execution_count": 31,
   "id": "76753bd9",
   "metadata": {
    "execution": {
     "iopub.execute_input": "2022-06-20T06:12:35.173084Z",
     "iopub.status.busy": "2022-06-20T06:12:35.172741Z",
     "iopub.status.idle": "2022-06-20T06:12:37.259462Z",
     "shell.execute_reply": "2022-06-20T06:12:37.258274Z"
    },
    "papermill": {
     "duration": 2.115383,
     "end_time": "2022-06-20T06:12:37.261525",
     "exception": false,
     "start_time": "2022-06-20T06:12:35.146142",
     "status": "completed"
    },
    "tags": []
   },
   "outputs": [
    {
     "name": "stderr",
     "output_type": "stream",
     "text": [
      "/opt/conda/lib/python3.7/site-packages/ipykernel_launcher.py:5: SettingWithCopyWarning: \n",
      "A value is trying to be set on a copy of a slice from a DataFrame.\n",
      "Try using .loc[row_indexer,col_indexer] = value instead\n",
      "\n",
      "See the caveats in the documentation: https://pandas.pydata.org/pandas-docs/stable/user_guide/indexing.html#returning-a-view-versus-a-copy\n",
      "  \"\"\"\n"
     ]
    },
    {
     "data": {
      "text/plain": [
       "0            6 - Sunday\n",
       "1            4 - Friday\n",
       "2         2 - Wednesday\n",
       "3           1 - Tuesday\n",
       "4          5 - Saturday\n",
       "              ...      \n",
       "228491     5 - Saturday\n",
       "228492      1 - Tuesday\n",
       "228493      1 - Tuesday\n",
       "228494       0 - Monday\n",
       "228495       4 - Friday\n",
       "Name: dayofweek_weekday, Length: 3489539, dtype: object"
      ]
     },
     "execution_count": 31,
     "metadata": {},
     "output_type": "execute_result"
    }
   ],
   "source": [
    "# Now we are going to add another new column here\n",
    "# the dayofweek_weekday\n",
    "# .map(str)\n",
    " \n",
    "tripdataV1[\"dayofweek_weekday\"] = tripdataV1[\"started_at\"].dt.dayofweek.map(str) + \" - \" + tripdataV1[\"weekday\"].map(str)\n",
    "\n",
    "tripdataV1[\"dayofweek_weekday\"]\n"
   ]
  },
  {
   "cell_type": "markdown",
   "id": "1a649803",
   "metadata": {
    "papermill": {
     "duration": 0.025164,
     "end_time": "2022-06-20T06:12:37.312979",
     "exception": false,
     "start_time": "2022-06-20T06:12:37.287815",
     "status": "completed"
    },
    "tags": []
   },
   "source": [
    "**Now we have added all the new columns we are going to need for our analysis**"
   ]
  },
  {
   "cell_type": "code",
   "execution_count": 32,
   "id": "86928805",
   "metadata": {
    "execution": {
     "iopub.execute_input": "2022-06-20T06:12:37.368603Z",
     "iopub.status.busy": "2022-06-20T06:12:37.368208Z",
     "iopub.status.idle": "2022-06-20T06:12:37.395253Z",
     "shell.execute_reply": "2022-06-20T06:12:37.394490Z"
    },
    "papermill": {
     "duration": 0.057281,
     "end_time": "2022-06-20T06:12:37.397132",
     "exception": false,
     "start_time": "2022-06-20T06:12:37.339851",
     "status": "completed"
    },
    "tags": []
   },
   "outputs": [
    {
     "data": {
      "text/html": [
       "<div>\n",
       "<style scoped>\n",
       "    .dataframe tbody tr th:only-of-type {\n",
       "        vertical-align: middle;\n",
       "    }\n",
       "\n",
       "    .dataframe tbody tr th {\n",
       "        vertical-align: top;\n",
       "    }\n",
       "\n",
       "    .dataframe thead th {\n",
       "        text-align: right;\n",
       "    }\n",
       "</style>\n",
       "<table border=\"1\" class=\"dataframe\">\n",
       "  <thead>\n",
       "    <tr style=\"text-align: right;\">\n",
       "      <th></th>\n",
       "      <th>ride_id</th>\n",
       "      <th>rideable_type</th>\n",
       "      <th>started_at</th>\n",
       "      <th>ended_at</th>\n",
       "      <th>start_station_name</th>\n",
       "      <th>start_station_id</th>\n",
       "      <th>end_station_name</th>\n",
       "      <th>end_station_id</th>\n",
       "      <th>start_lat</th>\n",
       "      <th>start_lng</th>\n",
       "      <th>end_lat</th>\n",
       "      <th>end_lng</th>\n",
       "      <th>member_casual</th>\n",
       "      <th>weekday</th>\n",
       "      <th>day</th>\n",
       "      <th>month</th>\n",
       "      <th>year</th>\n",
       "      <th>ride_length_s</th>\n",
       "      <th>year_month</th>\n",
       "      <th>dayofweek_weekday</th>\n",
       "    </tr>\n",
       "  </thead>\n",
       "  <tbody>\n",
       "    <tr>\n",
       "      <th>0</th>\n",
       "      <td>A847FADBBC638E45</td>\n",
       "      <td>docked_bike</td>\n",
       "      <td>2020-04-26 17:45:14</td>\n",
       "      <td>2020-04-26 18:12:03</td>\n",
       "      <td>Eckhart Park</td>\n",
       "      <td>86</td>\n",
       "      <td>Lincoln Ave &amp; Diversey Pkwy</td>\n",
       "      <td>152.0</td>\n",
       "      <td>41.896400</td>\n",
       "      <td>-87.661000</td>\n",
       "      <td>41.932200</td>\n",
       "      <td>-87.658600</td>\n",
       "      <td>member</td>\n",
       "      <td>Sunday</td>\n",
       "      <td>26</td>\n",
       "      <td>4</td>\n",
       "      <td>2020</td>\n",
       "      <td>26.816667</td>\n",
       "      <td>2020 - 4 (April)</td>\n",
       "      <td>6 - Sunday</td>\n",
       "    </tr>\n",
       "    <tr>\n",
       "      <th>1</th>\n",
       "      <td>5405B80E996FF60D</td>\n",
       "      <td>docked_bike</td>\n",
       "      <td>2020-04-17 17:08:54</td>\n",
       "      <td>2020-04-17 17:17:03</td>\n",
       "      <td>Drake Ave &amp; Fullerton Ave</td>\n",
       "      <td>503</td>\n",
       "      <td>Kosciuszko Park</td>\n",
       "      <td>499.0</td>\n",
       "      <td>41.924400</td>\n",
       "      <td>-87.715400</td>\n",
       "      <td>41.930600</td>\n",
       "      <td>-87.723800</td>\n",
       "      <td>member</td>\n",
       "      <td>Friday</td>\n",
       "      <td>17</td>\n",
       "      <td>4</td>\n",
       "      <td>2020</td>\n",
       "      <td>8.150000</td>\n",
       "      <td>2020 - 4 (April)</td>\n",
       "      <td>4 - Friday</td>\n",
       "    </tr>\n",
       "    <tr>\n",
       "      <th>2</th>\n",
       "      <td>5DD24A79A4E006F4</td>\n",
       "      <td>docked_bike</td>\n",
       "      <td>2020-04-01 17:54:13</td>\n",
       "      <td>2020-04-01 18:08:36</td>\n",
       "      <td>McClurg Ct &amp; Erie St</td>\n",
       "      <td>142</td>\n",
       "      <td>Indiana Ave &amp; Roosevelt Rd</td>\n",
       "      <td>255.0</td>\n",
       "      <td>41.894500</td>\n",
       "      <td>-87.617900</td>\n",
       "      <td>41.867900</td>\n",
       "      <td>-87.623000</td>\n",
       "      <td>member</td>\n",
       "      <td>Wednesday</td>\n",
       "      <td>1</td>\n",
       "      <td>4</td>\n",
       "      <td>2020</td>\n",
       "      <td>14.383333</td>\n",
       "      <td>2020 - 4 (April)</td>\n",
       "      <td>2 - Wednesday</td>\n",
       "    </tr>\n",
       "    <tr>\n",
       "      <th>3</th>\n",
       "      <td>2A59BBDF5CDBA725</td>\n",
       "      <td>docked_bike</td>\n",
       "      <td>2020-04-07 12:50:19</td>\n",
       "      <td>2020-04-07 13:02:31</td>\n",
       "      <td>California Ave &amp; Division St</td>\n",
       "      <td>216</td>\n",
       "      <td>Wood St &amp; Augusta Blvd</td>\n",
       "      <td>657.0</td>\n",
       "      <td>41.903000</td>\n",
       "      <td>-87.697500</td>\n",
       "      <td>41.899200</td>\n",
       "      <td>-87.672200</td>\n",
       "      <td>member</td>\n",
       "      <td>Tuesday</td>\n",
       "      <td>7</td>\n",
       "      <td>4</td>\n",
       "      <td>2020</td>\n",
       "      <td>12.200000</td>\n",
       "      <td>2020 - 4 (April)</td>\n",
       "      <td>1 - Tuesday</td>\n",
       "    </tr>\n",
       "    <tr>\n",
       "      <th>4</th>\n",
       "      <td>27AD306C119C6158</td>\n",
       "      <td>docked_bike</td>\n",
       "      <td>2020-04-18 10:22:59</td>\n",
       "      <td>2020-04-18 11:15:54</td>\n",
       "      <td>Rush St &amp; Hubbard St</td>\n",
       "      <td>125</td>\n",
       "      <td>Sheridan Rd &amp; Lawrence Ave</td>\n",
       "      <td>323.0</td>\n",
       "      <td>41.890200</td>\n",
       "      <td>-87.626200</td>\n",
       "      <td>41.969500</td>\n",
       "      <td>-87.654700</td>\n",
       "      <td>casual</td>\n",
       "      <td>Saturday</td>\n",
       "      <td>18</td>\n",
       "      <td>4</td>\n",
       "      <td>2020</td>\n",
       "      <td>52.916667</td>\n",
       "      <td>2020 - 4 (April)</td>\n",
       "      <td>5 - Saturday</td>\n",
       "    </tr>\n",
       "    <tr>\n",
       "      <th>...</th>\n",
       "      <td>...</td>\n",
       "      <td>...</td>\n",
       "      <td>...</td>\n",
       "      <td>...</td>\n",
       "      <td>...</td>\n",
       "      <td>...</td>\n",
       "      <td>...</td>\n",
       "      <td>...</td>\n",
       "      <td>...</td>\n",
       "      <td>...</td>\n",
       "      <td>...</td>\n",
       "      <td>...</td>\n",
       "      <td>...</td>\n",
       "      <td>...</td>\n",
       "      <td>...</td>\n",
       "      <td>...</td>\n",
       "      <td>...</td>\n",
       "      <td>...</td>\n",
       "      <td>...</td>\n",
       "      <td>...</td>\n",
       "    </tr>\n",
       "    <tr>\n",
       "      <th>228491</th>\n",
       "      <td>9397BDD14798A1BA</td>\n",
       "      <td>docked_bike</td>\n",
       "      <td>2021-03-20 14:58:56</td>\n",
       "      <td>2021-03-20 17:22:47</td>\n",
       "      <td>Michigan Ave &amp; Oak St</td>\n",
       "      <td>13042</td>\n",
       "      <td>New St &amp; Illinois St</td>\n",
       "      <td>TA1306000013</td>\n",
       "      <td>41.900960</td>\n",
       "      <td>-87.623777</td>\n",
       "      <td>41.890847</td>\n",
       "      <td>-87.618617</td>\n",
       "      <td>casual</td>\n",
       "      <td>Saturday</td>\n",
       "      <td>20</td>\n",
       "      <td>3</td>\n",
       "      <td>2021</td>\n",
       "      <td>143.850000</td>\n",
       "      <td>2021 - 3 (March)</td>\n",
       "      <td>5 - Saturday</td>\n",
       "    </tr>\n",
       "    <tr>\n",
       "      <th>228492</th>\n",
       "      <td>BBBEB8D51AAD40DA</td>\n",
       "      <td>classic_bike</td>\n",
       "      <td>2021-03-02 11:35:10</td>\n",
       "      <td>2021-03-02 11:43:37</td>\n",
       "      <td>Kingsbury St &amp; Kinzie St</td>\n",
       "      <td>KA1503000043</td>\n",
       "      <td>New St &amp; Illinois St</td>\n",
       "      <td>TA1306000013</td>\n",
       "      <td>41.889177</td>\n",
       "      <td>-87.638506</td>\n",
       "      <td>41.890847</td>\n",
       "      <td>-87.618617</td>\n",
       "      <td>member</td>\n",
       "      <td>Tuesday</td>\n",
       "      <td>2</td>\n",
       "      <td>3</td>\n",
       "      <td>2021</td>\n",
       "      <td>8.450000</td>\n",
       "      <td>2021 - 3 (March)</td>\n",
       "      <td>1 - Tuesday</td>\n",
       "    </tr>\n",
       "    <tr>\n",
       "      <th>228493</th>\n",
       "      <td>637FF754DA0BD9E1</td>\n",
       "      <td>classic_bike</td>\n",
       "      <td>2021-03-09 11:07:36</td>\n",
       "      <td>2021-03-09 11:49:11</td>\n",
       "      <td>Michigan Ave &amp; Oak St</td>\n",
       "      <td>13042</td>\n",
       "      <td>Clark St &amp; Berwyn Ave</td>\n",
       "      <td>KA1504000146</td>\n",
       "      <td>41.900960</td>\n",
       "      <td>-87.623777</td>\n",
       "      <td>41.977997</td>\n",
       "      <td>-87.668047</td>\n",
       "      <td>member</td>\n",
       "      <td>Tuesday</td>\n",
       "      <td>9</td>\n",
       "      <td>3</td>\n",
       "      <td>2021</td>\n",
       "      <td>41.583333</td>\n",
       "      <td>2021 - 3 (March)</td>\n",
       "      <td>1 - Tuesday</td>\n",
       "    </tr>\n",
       "    <tr>\n",
       "      <th>228494</th>\n",
       "      <td>F8F43A0B978A7A35</td>\n",
       "      <td>classic_bike</td>\n",
       "      <td>2021-03-01 18:11:57</td>\n",
       "      <td>2021-03-01 18:18:37</td>\n",
       "      <td>Kingsbury St &amp; Kinzie St</td>\n",
       "      <td>KA1503000043</td>\n",
       "      <td>New St &amp; Illinois St</td>\n",
       "      <td>TA1306000013</td>\n",
       "      <td>41.889177</td>\n",
       "      <td>-87.638506</td>\n",
       "      <td>41.890847</td>\n",
       "      <td>-87.618617</td>\n",
       "      <td>member</td>\n",
       "      <td>Monday</td>\n",
       "      <td>1</td>\n",
       "      <td>3</td>\n",
       "      <td>2021</td>\n",
       "      <td>6.666667</td>\n",
       "      <td>2021 - 3 (March)</td>\n",
       "      <td>0 - Monday</td>\n",
       "    </tr>\n",
       "    <tr>\n",
       "      <th>228495</th>\n",
       "      <td>3AE64EA5BF43CF72</td>\n",
       "      <td>electric_bike</td>\n",
       "      <td>2021-03-26 17:58:14</td>\n",
       "      <td>2021-03-26 18:06:43</td>\n",
       "      <td>NaN</td>\n",
       "      <td>NaN</td>\n",
       "      <td>New St &amp; Illinois St</td>\n",
       "      <td>TA1306000013</td>\n",
       "      <td>41.880000</td>\n",
       "      <td>-87.630000</td>\n",
       "      <td>41.890818</td>\n",
       "      <td>-87.619540</td>\n",
       "      <td>member</td>\n",
       "      <td>Friday</td>\n",
       "      <td>26</td>\n",
       "      <td>3</td>\n",
       "      <td>2021</td>\n",
       "      <td>8.483333</td>\n",
       "      <td>2021 - 3 (March)</td>\n",
       "      <td>4 - Friday</td>\n",
       "    </tr>\n",
       "  </tbody>\n",
       "</table>\n",
       "<p>3489539 rows × 20 columns</p>\n",
       "</div>"
      ],
      "text/plain": [
       "                 ride_id  rideable_type          started_at  \\\n",
       "0       A847FADBBC638E45    docked_bike 2020-04-26 17:45:14   \n",
       "1       5405B80E996FF60D    docked_bike 2020-04-17 17:08:54   \n",
       "2       5DD24A79A4E006F4    docked_bike 2020-04-01 17:54:13   \n",
       "3       2A59BBDF5CDBA725    docked_bike 2020-04-07 12:50:19   \n",
       "4       27AD306C119C6158    docked_bike 2020-04-18 10:22:59   \n",
       "...                  ...            ...                 ...   \n",
       "228491  9397BDD14798A1BA    docked_bike 2021-03-20 14:58:56   \n",
       "228492  BBBEB8D51AAD40DA   classic_bike 2021-03-02 11:35:10   \n",
       "228493  637FF754DA0BD9E1   classic_bike 2021-03-09 11:07:36   \n",
       "228494  F8F43A0B978A7A35   classic_bike 2021-03-01 18:11:57   \n",
       "228495  3AE64EA5BF43CF72  electric_bike 2021-03-26 17:58:14   \n",
       "\n",
       "                  ended_at            start_station_name start_station_id  \\\n",
       "0      2020-04-26 18:12:03                  Eckhart Park               86   \n",
       "1      2020-04-17 17:17:03     Drake Ave & Fullerton Ave              503   \n",
       "2      2020-04-01 18:08:36          McClurg Ct & Erie St              142   \n",
       "3      2020-04-07 13:02:31  California Ave & Division St              216   \n",
       "4      2020-04-18 11:15:54          Rush St & Hubbard St              125   \n",
       "...                    ...                           ...              ...   \n",
       "228491 2021-03-20 17:22:47         Michigan Ave & Oak St            13042   \n",
       "228492 2021-03-02 11:43:37      Kingsbury St & Kinzie St     KA1503000043   \n",
       "228493 2021-03-09 11:49:11         Michigan Ave & Oak St            13042   \n",
       "228494 2021-03-01 18:18:37      Kingsbury St & Kinzie St     KA1503000043   \n",
       "228495 2021-03-26 18:06:43                           NaN              NaN   \n",
       "\n",
       "                   end_station_name end_station_id  start_lat  start_lng  \\\n",
       "0       Lincoln Ave & Diversey Pkwy          152.0  41.896400 -87.661000   \n",
       "1                   Kosciuszko Park          499.0  41.924400 -87.715400   \n",
       "2        Indiana Ave & Roosevelt Rd          255.0  41.894500 -87.617900   \n",
       "3            Wood St & Augusta Blvd          657.0  41.903000 -87.697500   \n",
       "4        Sheridan Rd & Lawrence Ave          323.0  41.890200 -87.626200   \n",
       "...                             ...            ...        ...        ...   \n",
       "228491         New St & Illinois St   TA1306000013  41.900960 -87.623777   \n",
       "228492         New St & Illinois St   TA1306000013  41.889177 -87.638506   \n",
       "228493        Clark St & Berwyn Ave   KA1504000146  41.900960 -87.623777   \n",
       "228494         New St & Illinois St   TA1306000013  41.889177 -87.638506   \n",
       "228495         New St & Illinois St   TA1306000013  41.880000 -87.630000   \n",
       "\n",
       "          end_lat    end_lng member_casual    weekday  day  month  year  \\\n",
       "0       41.932200 -87.658600        member     Sunday   26      4  2020   \n",
       "1       41.930600 -87.723800        member     Friday   17      4  2020   \n",
       "2       41.867900 -87.623000        member  Wednesday    1      4  2020   \n",
       "3       41.899200 -87.672200        member    Tuesday    7      4  2020   \n",
       "4       41.969500 -87.654700        casual   Saturday   18      4  2020   \n",
       "...           ...        ...           ...        ...  ...    ...   ...   \n",
       "228491  41.890847 -87.618617        casual   Saturday   20      3  2021   \n",
       "228492  41.890847 -87.618617        member    Tuesday    2      3  2021   \n",
       "228493  41.977997 -87.668047        member    Tuesday    9      3  2021   \n",
       "228494  41.890847 -87.618617        member     Monday    1      3  2021   \n",
       "228495  41.890818 -87.619540        member     Friday   26      3  2021   \n",
       "\n",
       "        ride_length_s        year_month dayofweek_weekday  \n",
       "0           26.816667  2020 - 4 (April)        6 - Sunday  \n",
       "1            8.150000  2020 - 4 (April)        4 - Friday  \n",
       "2           14.383333  2020 - 4 (April)     2 - Wednesday  \n",
       "3           12.200000  2020 - 4 (April)       1 - Tuesday  \n",
       "4           52.916667  2020 - 4 (April)      5 - Saturday  \n",
       "...               ...               ...               ...  \n",
       "228491     143.850000  2021 - 3 (March)      5 - Saturday  \n",
       "228492       8.450000  2021 - 3 (March)       1 - Tuesday  \n",
       "228493      41.583333  2021 - 3 (March)       1 - Tuesday  \n",
       "228494       6.666667  2021 - 3 (March)        0 - Monday  \n",
       "228495       8.483333  2021 - 3 (March)        4 - Friday  \n",
       "\n",
       "[3489539 rows x 20 columns]"
      ]
     },
     "execution_count": 32,
     "metadata": {},
     "output_type": "execute_result"
    }
   ],
   "source": [
    "# Watch the data again\n",
    "\n",
    "tripdataV1\n",
    "\n"
   ]
  },
  {
   "cell_type": "markdown",
   "id": "e835126d",
   "metadata": {
    "papermill": {
     "duration": 0.025513,
     "end_time": "2022-06-20T06:12:37.449019",
     "exception": false,
     "start_time": "2022-06-20T06:12:37.423506",
     "status": "completed"
    },
    "tags": []
   },
   "source": [
    "## Converting and Saving to a CSV file format"
   ]
  },
  {
   "cell_type": "markdown",
   "id": "3d26134a",
   "metadata": {
    "papermill": {
     "duration": 0.028005,
     "end_time": "2022-06-20T06:12:37.504002",
     "exception": false,
     "start_time": "2022-06-20T06:12:37.475997",
     "status": "completed"
    },
    "tags": []
   },
   "source": [
    "**Now we are going to save the last version of our dataset and also export it into a CSV file.**\n",
    "\n",
    "**It is cleaned now so, will be good to have it cleaned as a CSV**"
   ]
  },
  {
   "cell_type": "code",
   "execution_count": 33,
   "id": "24e4979a",
   "metadata": {
    "execution": {
     "iopub.execute_input": "2022-06-20T06:12:37.559627Z",
     "iopub.status.busy": "2022-06-20T06:12:37.559079Z",
     "iopub.status.idle": "2022-06-20T06:12:37.563524Z",
     "shell.execute_reply": "2022-06-20T06:12:37.562662Z"
    },
    "papermill": {
     "duration": 0.035048,
     "end_time": "2022-06-20T06:12:37.566006",
     "exception": false,
     "start_time": "2022-06-20T06:12:37.530958",
     "status": "completed"
    },
    "tags": []
   },
   "outputs": [],
   "source": [
    "tripdataV2 = tripdataV1\n"
   ]
  },
  {
   "cell_type": "code",
   "execution_count": 34,
   "id": "60ca989b",
   "metadata": {
    "execution": {
     "iopub.execute_input": "2022-06-20T06:12:37.620227Z",
     "iopub.status.busy": "2022-06-20T06:12:37.619706Z",
     "iopub.status.idle": "2022-06-20T06:13:29.109239Z",
     "shell.execute_reply": "2022-06-20T06:13:29.108202Z"
    },
    "papermill": {
     "duration": 51.519755,
     "end_time": "2022-06-20T06:13:29.111630",
     "exception": false,
     "start_time": "2022-06-20T06:12:37.591875",
     "status": "completed"
    },
    "tags": []
   },
   "outputs": [],
   "source": [
    "# df.to_csv(\"your_name.csv\")\n",
    "\n",
    "tripdataV2.to_csv(\"tripdata_clean.csv\")\n"
   ]
  },
  {
   "cell_type": "markdown",
   "id": "168f4864",
   "metadata": {
    "execution": {
     "iopub.execute_input": "2022-06-09T03:44:53.465375Z",
     "iopub.status.busy": "2022-06-09T03:44:53.46496Z",
     "iopub.status.idle": "2022-06-09T03:44:53.480744Z",
     "shell.execute_reply": "2022-06-09T03:44:53.480066Z",
     "shell.execute_reply.started": "2022-06-09T03:44:53.465342Z"
    },
    "papermill": {
     "duration": 0.025318,
     "end_time": "2022-06-20T06:13:29.163070",
     "exception": false,
     "start_time": "2022-06-20T06:13:29.137752",
     "status": "completed"
    },
    "tags": []
   },
   "source": [
    "# Analyze Process"
   ]
  },
  {
   "cell_type": "markdown",
   "id": "c34fb8b6",
   "metadata": {
    "papermill": {
     "duration": 0.025929,
     "end_time": "2022-06-20T06:13:29.216083",
     "exception": false,
     "start_time": "2022-06-20T06:13:29.190154",
     "status": "completed"
    },
    "tags": []
   },
   "source": [
    "## Descriptive analysis"
   ]
  },
  {
   "cell_type": "markdown",
   "id": "d1b49e46",
   "metadata": {
    "papermill": {
     "duration": 0.026215,
     "end_time": "2022-06-20T06:13:29.268770",
     "exception": false,
     "start_time": "2022-06-20T06:13:29.242555",
     "status": "completed"
    },
    "tags": []
   },
   "source": [
    "**Now we are going to have a deep qualitative and quantintative dept of our data**"
   ]
  },
  {
   "cell_type": "code",
   "execution_count": 35,
   "id": "e7825238",
   "metadata": {
    "execution": {
     "iopub.execute_input": "2022-06-20T06:13:29.326559Z",
     "iopub.status.busy": "2022-06-20T06:13:29.325826Z",
     "iopub.status.idle": "2022-06-20T06:13:29.492676Z",
     "shell.execute_reply": "2022-06-20T06:13:29.491768Z"
    },
    "papermill": {
     "duration": 0.197904,
     "end_time": "2022-06-20T06:13:29.494613",
     "exception": false,
     "start_time": "2022-06-20T06:13:29.296709",
     "status": "completed"
    },
    "tags": []
   },
   "outputs": [
    {
     "data": {
      "text/plain": [
       "count    3.489539e+06\n",
       "mean     2.855945e+01\n",
       "std      9.031763e+01\n",
       "min      0.000000e+00\n",
       "25%      7.950000e+00\n",
       "50%      1.461667e+01\n",
       "75%      2.683333e+01\n",
       "max      1.439983e+03\n",
       "Name: ride_length_s, dtype: float64"
      ]
     },
     "execution_count": 35,
     "metadata": {},
     "output_type": "execute_result"
    }
   ],
   "source": [
    "# Checking the description of the ride_length_s\n",
    "\n",
    "tripdataV2[\"ride_length_s\"].describe()\n"
   ]
  },
  {
   "cell_type": "code",
   "execution_count": 36,
   "id": "0230c4cc",
   "metadata": {
    "execution": {
     "iopub.execute_input": "2022-06-20T06:13:29.549877Z",
     "iopub.status.busy": "2022-06-20T06:13:29.549178Z",
     "iopub.status.idle": "2022-06-20T06:13:29.561542Z",
     "shell.execute_reply": "2022-06-20T06:13:29.560698Z"
    },
    "papermill": {
     "duration": 0.042932,
     "end_time": "2022-06-20T06:13:29.563634",
     "exception": false,
     "start_time": "2022-06-20T06:13:29.520702",
     "status": "completed"
    },
    "tags": []
   },
   "outputs": [
    {
     "name": "stdout",
     "output_type": "stream",
     "text": [
      "<class 'pandas.core.frame.DataFrame'>\n",
      "Int64Index: 3489539 entries, 0 to 228495\n",
      "Data columns (total 20 columns):\n",
      " #   Column              Dtype         \n",
      "---  ------              -----         \n",
      " 0   ride_id             object        \n",
      " 1   rideable_type       object        \n",
      " 2   started_at          datetime64[ns]\n",
      " 3   ended_at            datetime64[ns]\n",
      " 4   start_station_name  object        \n",
      " 5   start_station_id    object        \n",
      " 6   end_station_name    object        \n",
      " 7   end_station_id      object        \n",
      " 8   start_lat           float64       \n",
      " 9   start_lng           float64       \n",
      " 10  end_lat             float64       \n",
      " 11  end_lng             float64       \n",
      " 12  member_casual       object        \n",
      " 13  weekday             object        \n",
      " 14  day                 int64         \n",
      " 15  month               int64         \n",
      " 16  year                int64         \n",
      " 17  ride_length_s       float64       \n",
      " 18  year_month          object        \n",
      " 19  dayofweek_weekday   object        \n",
      "dtypes: datetime64[ns](2), float64(5), int64(3), object(10)\n",
      "memory usage: 559.1+ MB\n"
     ]
    }
   ],
   "source": [
    "\n",
    "tripdataV2.info()\n"
   ]
  },
  {
   "cell_type": "code",
   "execution_count": 37,
   "id": "87021eec",
   "metadata": {
    "execution": {
     "iopub.execute_input": "2022-06-20T06:13:29.620284Z",
     "iopub.status.busy": "2022-06-20T06:13:29.619277Z",
     "iopub.status.idle": "2022-06-20T06:13:32.458851Z",
     "shell.execute_reply": "2022-06-20T06:13:32.457754Z"
    },
    "papermill": {
     "duration": 2.87055,
     "end_time": "2022-06-20T06:13:32.461074",
     "exception": false,
     "start_time": "2022-06-20T06:13:29.590524",
     "status": "completed"
    },
    "tags": []
   },
   "outputs": [
    {
     "data": {
      "text/html": [
       "<div>\n",
       "<style scoped>\n",
       "    .dataframe tbody tr th:only-of-type {\n",
       "        vertical-align: middle;\n",
       "    }\n",
       "\n",
       "    .dataframe tbody tr th {\n",
       "        vertical-align: top;\n",
       "    }\n",
       "\n",
       "    .dataframe thead th {\n",
       "        text-align: right;\n",
       "    }\n",
       "</style>\n",
       "<table border=\"1\" class=\"dataframe\">\n",
       "  <thead>\n",
       "    <tr style=\"text-align: right;\">\n",
       "      <th></th>\n",
       "      <th>start_lat</th>\n",
       "      <th>start_lng</th>\n",
       "      <th>end_lat</th>\n",
       "      <th>end_lng</th>\n",
       "      <th>day</th>\n",
       "      <th>month</th>\n",
       "      <th>year</th>\n",
       "      <th>ride_length_s</th>\n",
       "    </tr>\n",
       "  </thead>\n",
       "  <tbody>\n",
       "    <tr>\n",
       "      <th>count</th>\n",
       "      <td>3.489539e+06</td>\n",
       "      <td>3.489539e+06</td>\n",
       "      <td>3.484802e+06</td>\n",
       "      <td>3.484802e+06</td>\n",
       "      <td>3.489539e+06</td>\n",
       "      <td>3.489539e+06</td>\n",
       "      <td>3.489539e+06</td>\n",
       "      <td>3.489539e+06</td>\n",
       "    </tr>\n",
       "    <tr>\n",
       "      <th>mean</th>\n",
       "      <td>4.190417e+01</td>\n",
       "      <td>-8.764494e+01</td>\n",
       "      <td>4.190444e+01</td>\n",
       "      <td>-8.764522e+01</td>\n",
       "      <td>1.586048e+01</td>\n",
       "      <td>7.518390e+00</td>\n",
       "      <td>2.020107e+03</td>\n",
       "      <td>2.855945e+01</td>\n",
       "    </tr>\n",
       "    <tr>\n",
       "      <th>std</th>\n",
       "      <td>4.364222e-02</td>\n",
       "      <td>2.575990e-02</td>\n",
       "      <td>4.373714e-02</td>\n",
       "      <td>2.589148e-02</td>\n",
       "      <td>8.763003e+00</td>\n",
       "      <td>2.569745e+00</td>\n",
       "      <td>3.096849e-01</td>\n",
       "      <td>9.031763e+01</td>\n",
       "    </tr>\n",
       "    <tr>\n",
       "      <th>min</th>\n",
       "      <td>4.164000e+01</td>\n",
       "      <td>-8.787000e+01</td>\n",
       "      <td>4.154000e+01</td>\n",
       "      <td>-8.807000e+01</td>\n",
       "      <td>1.000000e+00</td>\n",
       "      <td>1.000000e+00</td>\n",
       "      <td>2.020000e+03</td>\n",
       "      <td>0.000000e+00</td>\n",
       "    </tr>\n",
       "    <tr>\n",
       "      <th>25%</th>\n",
       "      <td>4.188224e+01</td>\n",
       "      <td>-8.765888e+01</td>\n",
       "      <td>4.188266e+01</td>\n",
       "      <td>-8.765917e+01</td>\n",
       "      <td>8.000000e+00</td>\n",
       "      <td>6.000000e+00</td>\n",
       "      <td>2.020000e+03</td>\n",
       "      <td>7.950000e+00</td>\n",
       "    </tr>\n",
       "    <tr>\n",
       "      <th>50%</th>\n",
       "      <td>4.190000e+01</td>\n",
       "      <td>-8.764170e+01</td>\n",
       "      <td>4.190068e+01</td>\n",
       "      <td>-8.764275e+01</td>\n",
       "      <td>1.600000e+01</td>\n",
       "      <td>8.000000e+00</td>\n",
       "      <td>2.020000e+03</td>\n",
       "      <td>1.461667e+01</td>\n",
       "    </tr>\n",
       "    <tr>\n",
       "      <th>75%</th>\n",
       "      <td>4.193000e+01</td>\n",
       "      <td>-8.762773e+01</td>\n",
       "      <td>4.193120e+01</td>\n",
       "      <td>-8.762775e+01</td>\n",
       "      <td>2.300000e+01</td>\n",
       "      <td>9.000000e+00</td>\n",
       "      <td>2.020000e+03</td>\n",
       "      <td>2.683333e+01</td>\n",
       "    </tr>\n",
       "    <tr>\n",
       "      <th>max</th>\n",
       "      <td>4.208000e+01</td>\n",
       "      <td>-8.752000e+01</td>\n",
       "      <td>4.216000e+01</td>\n",
       "      <td>-8.744000e+01</td>\n",
       "      <td>3.100000e+01</td>\n",
       "      <td>1.200000e+01</td>\n",
       "      <td>2.021000e+03</td>\n",
       "      <td>1.439983e+03</td>\n",
       "    </tr>\n",
       "  </tbody>\n",
       "</table>\n",
       "</div>"
      ],
      "text/plain": [
       "          start_lat     start_lng       end_lat       end_lng           day  \\\n",
       "count  3.489539e+06  3.489539e+06  3.484802e+06  3.484802e+06  3.489539e+06   \n",
       "mean   4.190417e+01 -8.764494e+01  4.190444e+01 -8.764522e+01  1.586048e+01   \n",
       "std    4.364222e-02  2.575990e-02  4.373714e-02  2.589148e-02  8.763003e+00   \n",
       "min    4.164000e+01 -8.787000e+01  4.154000e+01 -8.807000e+01  1.000000e+00   \n",
       "25%    4.188224e+01 -8.765888e+01  4.188266e+01 -8.765917e+01  8.000000e+00   \n",
       "50%    4.190000e+01 -8.764170e+01  4.190068e+01 -8.764275e+01  1.600000e+01   \n",
       "75%    4.193000e+01 -8.762773e+01  4.193120e+01 -8.762775e+01  2.300000e+01   \n",
       "max    4.208000e+01 -8.752000e+01  4.216000e+01 -8.744000e+01  3.100000e+01   \n",
       "\n",
       "              month          year  ride_length_s  \n",
       "count  3.489539e+06  3.489539e+06   3.489539e+06  \n",
       "mean   7.518390e+00  2.020107e+03   2.855945e+01  \n",
       "std    2.569745e+00  3.096849e-01   9.031763e+01  \n",
       "min    1.000000e+00  2.020000e+03   0.000000e+00  \n",
       "25%    6.000000e+00  2.020000e+03   7.950000e+00  \n",
       "50%    8.000000e+00  2.020000e+03   1.461667e+01  \n",
       "75%    9.000000e+00  2.020000e+03   2.683333e+01  \n",
       "max    1.200000e+01  2.021000e+03   1.439983e+03  "
      ]
     },
     "execution_count": 37,
     "metadata": {},
     "output_type": "execute_result"
    }
   ],
   "source": [
    "# a closer view to the numeric data\n",
    "\n",
    "tripdataV2.describe()"
   ]
  },
  {
   "cell_type": "markdown",
   "id": "bef75b55",
   "metadata": {
    "papermill": {
     "duration": 0.025804,
     "end_time": "2022-06-20T06:13:32.513425",
     "exception": false,
     "start_time": "2022-06-20T06:13:32.487621",
     "status": "completed"
    },
    "tags": []
   },
   "source": [
    "# Analyze the key differences between members and casuals\n",
    "\n",
    "**Now we are going to analyze the members and casuals ride_length_s**"
   ]
  },
  {
   "cell_type": "code",
   "execution_count": 38,
   "id": "9c7f0897",
   "metadata": {
    "execution": {
     "iopub.execute_input": "2022-06-20T06:13:32.567206Z",
     "iopub.status.busy": "2022-06-20T06:13:32.566867Z",
     "iopub.status.idle": "2022-06-20T06:13:33.470781Z",
     "shell.execute_reply": "2022-06-20T06:13:33.469812Z"
    },
    "papermill": {
     "duration": 0.933184,
     "end_time": "2022-06-20T06:13:33.472878",
     "exception": false,
     "start_time": "2022-06-20T06:13:32.539694",
     "status": "completed"
    },
    "tags": []
   },
   "outputs": [
    {
     "data": {
      "text/html": [
       "<div>\n",
       "<style scoped>\n",
       "    .dataframe tbody tr th:only-of-type {\n",
       "        vertical-align: middle;\n",
       "    }\n",
       "\n",
       "    .dataframe tbody tr th {\n",
       "        vertical-align: top;\n",
       "    }\n",
       "\n",
       "    .dataframe thead th {\n",
       "        text-align: right;\n",
       "    }\n",
       "</style>\n",
       "<table border=\"1\" class=\"dataframe\">\n",
       "  <thead>\n",
       "    <tr style=\"text-align: right;\">\n",
       "      <th></th>\n",
       "      <th>start_lat</th>\n",
       "      <th>start_lng</th>\n",
       "      <th>end_lat</th>\n",
       "      <th>end_lng</th>\n",
       "      <th>day</th>\n",
       "      <th>month</th>\n",
       "      <th>year</th>\n",
       "      <th>ride_length_s</th>\n",
       "    </tr>\n",
       "    <tr>\n",
       "      <th>member_casual</th>\n",
       "      <th></th>\n",
       "      <th></th>\n",
       "      <th></th>\n",
       "      <th></th>\n",
       "      <th></th>\n",
       "      <th></th>\n",
       "      <th></th>\n",
       "      <th></th>\n",
       "    </tr>\n",
       "  </thead>\n",
       "  <tbody>\n",
       "    <tr>\n",
       "      <th>casual</th>\n",
       "      <td>5.993541e+07</td>\n",
       "      <td>-1.253602e+08</td>\n",
       "      <td>5.984433e+07</td>\n",
       "      <td>-1.251690e+08</td>\n",
       "      <td>22741159</td>\n",
       "      <td>10806300</td>\n",
       "      <td>2889421301</td>\n",
       "      <td>5.746084e+07</td>\n",
       "    </tr>\n",
       "    <tr>\n",
       "      <th>member</th>\n",
       "      <td>8.629083e+07</td>\n",
       "      <td>-1.804802e+08</td>\n",
       "      <td>8.618433e+07</td>\n",
       "      <td>-1.802572e+08</td>\n",
       "      <td>32604609</td>\n",
       "      <td>15429414</td>\n",
       "      <td>4159822431</td>\n",
       "      <td>4.219847e+07</td>\n",
       "    </tr>\n",
       "  </tbody>\n",
       "</table>\n",
       "</div>"
      ],
      "text/plain": [
       "                  start_lat     start_lng       end_lat       end_lng  \\\n",
       "member_casual                                                           \n",
       "casual         5.993541e+07 -1.253602e+08  5.984433e+07 -1.251690e+08   \n",
       "member         8.629083e+07 -1.804802e+08  8.618433e+07 -1.802572e+08   \n",
       "\n",
       "                    day     month        year  ride_length_s  \n",
       "member_casual                                                 \n",
       "casual         22741159  10806300  2889421301   5.746084e+07  \n",
       "member         32604609  15429414  4159822431   4.219847e+07  "
      ]
     },
     "execution_count": 38,
     "metadata": {},
     "output_type": "execute_result"
    }
   ],
   "source": [
    "# counting the distrubution between members and casuals\n",
    "\n",
    "tripdataV2.groupby(\"member_casual\").sum()\n"
   ]
  },
  {
   "cell_type": "markdown",
   "id": "7b8896e1",
   "metadata": {
    "papermill": {
     "duration": 0.025877,
     "end_time": "2022-06-20T06:13:33.525062",
     "exception": false,
     "start_time": "2022-06-20T06:13:33.499185",
     "status": "completed"
    },
    "tags": []
   },
   "source": [
    "* **We have to create another dataframe so we are going to call compare_ride_length**\n",
    "\n",
    "**With this dataframe we are going to compare the differences between member and casuals by ride length in seconds**\n"
   ]
  },
  {
   "cell_type": "markdown",
   "id": "28696335",
   "metadata": {
    "papermill": {
     "duration": 0.025806,
     "end_time": "2022-06-20T06:13:33.576977",
     "exception": false,
     "start_time": "2022-06-20T06:13:33.551171",
     "status": "completed"
    },
    "tags": []
   },
   "source": [
    "there's another way of doing this but we should just give it a try"
   ]
  },
  {
   "cell_type": "code",
   "execution_count": 39,
   "id": "812f1ead",
   "metadata": {
    "execution": {
     "iopub.execute_input": "2022-06-20T06:13:33.630695Z",
     "iopub.status.busy": "2022-06-20T06:13:33.630337Z",
     "iopub.status.idle": "2022-06-20T06:13:33.664698Z",
     "shell.execute_reply": "2022-06-20T06:13:33.663615Z"
    },
    "papermill": {
     "duration": 0.063736,
     "end_time": "2022-06-20T06:13:33.666776",
     "exception": false,
     "start_time": "2022-06-20T06:13:33.603040",
     "status": "completed"
    },
    "tags": []
   },
   "outputs": [
    {
     "data": {
      "text/html": [
       "<div>\n",
       "<style scoped>\n",
       "    .dataframe tbody tr th:only-of-type {\n",
       "        vertical-align: middle;\n",
       "    }\n",
       "\n",
       "    .dataframe tbody tr th {\n",
       "        vertical-align: top;\n",
       "    }\n",
       "\n",
       "    .dataframe thead th {\n",
       "        text-align: right;\n",
       "    }\n",
       "</style>\n",
       "<table border=\"1\" class=\"dataframe\">\n",
       "  <thead>\n",
       "    <tr style=\"text-align: right;\">\n",
       "      <th></th>\n",
       "      <th>member_casual</th>\n",
       "      <th>ride_length_s</th>\n",
       "    </tr>\n",
       "  </thead>\n",
       "  <tbody>\n",
       "    <tr>\n",
       "      <th>0</th>\n",
       "      <td>member</td>\n",
       "      <td>26.816667</td>\n",
       "    </tr>\n",
       "    <tr>\n",
       "      <th>1</th>\n",
       "      <td>member</td>\n",
       "      <td>8.150000</td>\n",
       "    </tr>\n",
       "    <tr>\n",
       "      <th>2</th>\n",
       "      <td>member</td>\n",
       "      <td>14.383333</td>\n",
       "    </tr>\n",
       "    <tr>\n",
       "      <th>3</th>\n",
       "      <td>member</td>\n",
       "      <td>12.200000</td>\n",
       "    </tr>\n",
       "    <tr>\n",
       "      <th>4</th>\n",
       "      <td>casual</td>\n",
       "      <td>52.916667</td>\n",
       "    </tr>\n",
       "    <tr>\n",
       "      <th>...</th>\n",
       "      <td>...</td>\n",
       "      <td>...</td>\n",
       "    </tr>\n",
       "    <tr>\n",
       "      <th>228491</th>\n",
       "      <td>casual</td>\n",
       "      <td>143.850000</td>\n",
       "    </tr>\n",
       "    <tr>\n",
       "      <th>228492</th>\n",
       "      <td>member</td>\n",
       "      <td>8.450000</td>\n",
       "    </tr>\n",
       "    <tr>\n",
       "      <th>228493</th>\n",
       "      <td>member</td>\n",
       "      <td>41.583333</td>\n",
       "    </tr>\n",
       "    <tr>\n",
       "      <th>228494</th>\n",
       "      <td>member</td>\n",
       "      <td>6.666667</td>\n",
       "    </tr>\n",
       "    <tr>\n",
       "      <th>228495</th>\n",
       "      <td>member</td>\n",
       "      <td>8.483333</td>\n",
       "    </tr>\n",
       "  </tbody>\n",
       "</table>\n",
       "<p>3489539 rows × 2 columns</p>\n",
       "</div>"
      ],
      "text/plain": [
       "       member_casual  ride_length_s\n",
       "0             member      26.816667\n",
       "1             member       8.150000\n",
       "2             member      14.383333\n",
       "3             member      12.200000\n",
       "4             casual      52.916667\n",
       "...              ...            ...\n",
       "228491        casual     143.850000\n",
       "228492        member       8.450000\n",
       "228493        member      41.583333\n",
       "228494        member       6.666667\n",
       "228495        member       8.483333\n",
       "\n",
       "[3489539 rows x 2 columns]"
      ]
     },
     "execution_count": 39,
     "metadata": {},
     "output_type": "execute_result"
    }
   ],
   "source": [
    "# Comparison between member and casuals by ride_length_s\n",
    "\n",
    "\n",
    "compare_ride_length = pd.DataFrame({'member_casual': tripdataV2[\"member_casual\"],\n",
    "                   'ride_length_s': tripdataV2[\"ride_length_s\"]})\n",
    "\n",
    "compare_ride_length"
   ]
  },
  {
   "cell_type": "markdown",
   "id": "0aa19df7",
   "metadata": {
    "papermill": {
     "duration": 0.026135,
     "end_time": "2022-06-20T06:13:33.719421",
     "exception": false,
     "start_time": "2022-06-20T06:13:33.693286",
     "status": "completed"
    },
    "tags": []
   },
   "source": [
    "**After create the dataframe we can use the describe function to see the differences between members and casuals**"
   ]
  },
  {
   "cell_type": "code",
   "execution_count": 40,
   "id": "21991d2b",
   "metadata": {
    "execution": {
     "iopub.execute_input": "2022-06-20T06:13:33.773774Z",
     "iopub.status.busy": "2022-06-20T06:13:33.773414Z",
     "iopub.status.idle": "2022-06-20T06:13:34.312253Z",
     "shell.execute_reply": "2022-06-20T06:13:34.311569Z"
    },
    "papermill": {
     "duration": 0.56838,
     "end_time": "2022-06-20T06:13:34.314253",
     "exception": false,
     "start_time": "2022-06-20T06:13:33.745873",
     "status": "completed"
    },
    "tags": []
   },
   "outputs": [
    {
     "data": {
      "text/html": [
       "<div>\n",
       "<style scoped>\n",
       "    .dataframe tbody tr th:only-of-type {\n",
       "        vertical-align: middle;\n",
       "    }\n",
       "\n",
       "    .dataframe tbody tr th {\n",
       "        vertical-align: top;\n",
       "    }\n",
       "\n",
       "    .dataframe thead tr th {\n",
       "        text-align: left;\n",
       "    }\n",
       "\n",
       "    .dataframe thead tr:last-of-type th {\n",
       "        text-align: right;\n",
       "    }\n",
       "</style>\n",
       "<table border=\"1\" class=\"dataframe\">\n",
       "  <thead>\n",
       "    <tr>\n",
       "      <th></th>\n",
       "      <th colspan=\"8\" halign=\"left\">ride_length_s</th>\n",
       "    </tr>\n",
       "    <tr>\n",
       "      <th></th>\n",
       "      <th>count</th>\n",
       "      <th>mean</th>\n",
       "      <th>std</th>\n",
       "      <th>min</th>\n",
       "      <th>25%</th>\n",
       "      <th>50%</th>\n",
       "      <th>75%</th>\n",
       "      <th>max</th>\n",
       "    </tr>\n",
       "    <tr>\n",
       "      <th>member_casual</th>\n",
       "      <th></th>\n",
       "      <th></th>\n",
       "      <th></th>\n",
       "      <th></th>\n",
       "      <th></th>\n",
       "      <th></th>\n",
       "      <th></th>\n",
       "      <th></th>\n",
       "    </tr>\n",
       "  </thead>\n",
       "  <tbody>\n",
       "    <tr>\n",
       "      <th>casual</th>\n",
       "      <td>1430351.0</td>\n",
       "      <td>40.172548</td>\n",
       "      <td>94.778521</td>\n",
       "      <td>0.0</td>\n",
       "      <td>11.583333</td>\n",
       "      <td>21.266667</td>\n",
       "      <td>40.450000</td>\n",
       "      <td>1439.983333</td>\n",
       "    </tr>\n",
       "    <tr>\n",
       "      <th>member</th>\n",
       "      <td>2059188.0</td>\n",
       "      <td>20.492773</td>\n",
       "      <td>86.168355</td>\n",
       "      <td>0.0</td>\n",
       "      <td>6.533333</td>\n",
       "      <td>11.533333</td>\n",
       "      <td>20.233333</td>\n",
       "      <td>1439.983333</td>\n",
       "    </tr>\n",
       "  </tbody>\n",
       "</table>\n",
       "</div>"
      ],
      "text/plain": [
       "              ride_length_s                                                   \\\n",
       "                      count       mean        std  min        25%        50%   \n",
       "member_casual                                                                  \n",
       "casual            1430351.0  40.172548  94.778521  0.0  11.583333  21.266667   \n",
       "member            2059188.0  20.492773  86.168355  0.0   6.533333  11.533333   \n",
       "\n",
       "                                       \n",
       "                     75%          max  \n",
       "member_casual                          \n",
       "casual         40.450000  1439.983333  \n",
       "member         20.233333  1439.983333  "
      ]
     },
     "execution_count": 40,
     "metadata": {},
     "output_type": "execute_result"
    }
   ],
   "source": [
    "compare_ride_length.groupby(\"member_casual\").describe()\n"
   ]
  },
  {
   "cell_type": "markdown",
   "id": "cbc359ce",
   "metadata": {
    "papermill": {
     "duration": 0.026691,
     "end_time": "2022-06-20T06:13:34.368761",
     "exception": false,
     "start_time": "2022-06-20T06:13:34.342070",
     "status": "completed"
    },
    "tags": []
   },
   "source": [
    "* **We have to do another separeted comparison because the describe function don't show this to us.**\n",
    "* **We will use the sum function to see the total length did between members and casuals**"
   ]
  },
  {
   "cell_type": "code",
   "execution_count": 41,
   "id": "5eb448a9",
   "metadata": {
    "execution": {
     "iopub.execute_input": "2022-06-20T06:13:34.424085Z",
     "iopub.status.busy": "2022-06-20T06:13:34.423693Z",
     "iopub.status.idle": "2022-06-20T06:13:34.663942Z",
     "shell.execute_reply": "2022-06-20T06:13:34.662906Z"
    },
    "papermill": {
     "duration": 0.270569,
     "end_time": "2022-06-20T06:13:34.666342",
     "exception": false,
     "start_time": "2022-06-20T06:13:34.395773",
     "status": "completed"
    },
    "tags": []
   },
   "outputs": [
    {
     "data": {
      "text/html": [
       "<div>\n",
       "<style scoped>\n",
       "    .dataframe tbody tr th:only-of-type {\n",
       "        vertical-align: middle;\n",
       "    }\n",
       "\n",
       "    .dataframe tbody tr th {\n",
       "        vertical-align: top;\n",
       "    }\n",
       "\n",
       "    .dataframe thead th {\n",
       "        text-align: right;\n",
       "    }\n",
       "</style>\n",
       "<table border=\"1\" class=\"dataframe\">\n",
       "  <thead>\n",
       "    <tr style=\"text-align: right;\">\n",
       "      <th></th>\n",
       "      <th>ride_length_s</th>\n",
       "    </tr>\n",
       "    <tr>\n",
       "      <th>member_casual</th>\n",
       "      <th></th>\n",
       "    </tr>\n",
       "  </thead>\n",
       "  <tbody>\n",
       "    <tr>\n",
       "      <th>casual</th>\n",
       "      <td>40.172548</td>\n",
       "    </tr>\n",
       "    <tr>\n",
       "      <th>member</th>\n",
       "      <td>20.492773</td>\n",
       "    </tr>\n",
       "  </tbody>\n",
       "</table>\n",
       "</div>"
      ],
      "text/plain": [
       "               ride_length_s\n",
       "member_casual               \n",
       "casual             40.172548\n",
       "member             20.492773"
      ]
     },
     "execution_count": 41,
     "metadata": {},
     "output_type": "execute_result"
    }
   ],
   "source": [
    "# median length between members and casulas\n",
    "\n",
    "compare_ride_length.groupby(\"member_casual\").mean()\n"
   ]
  },
  {
   "cell_type": "code",
   "execution_count": 42,
   "id": "bb2014db",
   "metadata": {
    "execution": {
     "iopub.execute_input": "2022-06-20T06:13:34.801827Z",
     "iopub.status.busy": "2022-06-20T06:13:34.800845Z",
     "iopub.status.idle": "2022-06-20T06:13:35.320316Z",
     "shell.execute_reply": "2022-06-20T06:13:35.319464Z"
    },
    "papermill": {
     "duration": 0.627839,
     "end_time": "2022-06-20T06:13:35.322487",
     "exception": false,
     "start_time": "2022-06-20T06:13:34.694648",
     "status": "completed"
    },
    "tags": []
   },
   "outputs": [
    {
     "data": {
      "text/html": [
       "<div>\n",
       "<style scoped>\n",
       "    .dataframe tbody tr th:only-of-type {\n",
       "        vertical-align: middle;\n",
       "    }\n",
       "\n",
       "    .dataframe tbody tr th {\n",
       "        vertical-align: top;\n",
       "    }\n",
       "\n",
       "    .dataframe thead tr th {\n",
       "        text-align: left;\n",
       "    }\n",
       "\n",
       "    .dataframe thead tr:last-of-type th {\n",
       "        text-align: right;\n",
       "    }\n",
       "</style>\n",
       "<table border=\"1\" class=\"dataframe\">\n",
       "  <thead>\n",
       "    <tr>\n",
       "      <th></th>\n",
       "      <th colspan=\"8\" halign=\"left\">ride_length_s</th>\n",
       "    </tr>\n",
       "    <tr>\n",
       "      <th></th>\n",
       "      <th>count</th>\n",
       "      <th>mean</th>\n",
       "      <th>std</th>\n",
       "      <th>min</th>\n",
       "      <th>25%</th>\n",
       "      <th>50%</th>\n",
       "      <th>75%</th>\n",
       "      <th>max</th>\n",
       "    </tr>\n",
       "    <tr>\n",
       "      <th>member_casual</th>\n",
       "      <th></th>\n",
       "      <th></th>\n",
       "      <th></th>\n",
       "      <th></th>\n",
       "      <th></th>\n",
       "      <th></th>\n",
       "      <th></th>\n",
       "      <th></th>\n",
       "    </tr>\n",
       "  </thead>\n",
       "  <tbody>\n",
       "    <tr>\n",
       "      <th>casual</th>\n",
       "      <td>1430351.0</td>\n",
       "      <td>40.172548</td>\n",
       "      <td>94.778521</td>\n",
       "      <td>0.0</td>\n",
       "      <td>11.583333</td>\n",
       "      <td>21.266667</td>\n",
       "      <td>40.450000</td>\n",
       "      <td>1439.983333</td>\n",
       "    </tr>\n",
       "    <tr>\n",
       "      <th>member</th>\n",
       "      <td>2059188.0</td>\n",
       "      <td>20.492773</td>\n",
       "      <td>86.168355</td>\n",
       "      <td>0.0</td>\n",
       "      <td>6.533333</td>\n",
       "      <td>11.533333</td>\n",
       "      <td>20.233333</td>\n",
       "      <td>1439.983333</td>\n",
       "    </tr>\n",
       "  </tbody>\n",
       "</table>\n",
       "</div>"
      ],
      "text/plain": [
       "              ride_length_s                                                   \\\n",
       "                      count       mean        std  min        25%        50%   \n",
       "member_casual                                                                  \n",
       "casual            1430351.0  40.172548  94.778521  0.0  11.583333  21.266667   \n",
       "member            2059188.0  20.492773  86.168355  0.0   6.533333  11.533333   \n",
       "\n",
       "                                       \n",
       "                     75%          max  \n",
       "member_casual                          \n",
       "casual         40.450000  1439.983333  \n",
       "member         20.233333  1439.983333  "
      ]
     },
     "execution_count": 42,
     "metadata": {},
     "output_type": "execute_result"
    }
   ],
   "source": [
    "compare_ride_length.groupby(\"member_casual\").describe() "
   ]
  },
  {
   "cell_type": "code",
   "execution_count": 43,
   "id": "f253c230",
   "metadata": {
    "execution": {
     "iopub.execute_input": "2022-06-20T06:13:35.379212Z",
     "iopub.status.busy": "2022-06-20T06:13:35.378598Z",
     "iopub.status.idle": "2022-06-20T06:13:35.609624Z",
     "shell.execute_reply": "2022-06-20T06:13:35.608527Z"
    },
    "papermill": {
     "duration": 0.261705,
     "end_time": "2022-06-20T06:13:35.611780",
     "exception": false,
     "start_time": "2022-06-20T06:13:35.350075",
     "status": "completed"
    },
    "tags": []
   },
   "outputs": [
    {
     "data": {
      "text/html": [
       "<div>\n",
       "<style scoped>\n",
       "    .dataframe tbody tr th:only-of-type {\n",
       "        vertical-align: middle;\n",
       "    }\n",
       "\n",
       "    .dataframe tbody tr th {\n",
       "        vertical-align: top;\n",
       "    }\n",
       "\n",
       "    .dataframe thead th {\n",
       "        text-align: right;\n",
       "    }\n",
       "</style>\n",
       "<table border=\"1\" class=\"dataframe\">\n",
       "  <thead>\n",
       "    <tr style=\"text-align: right;\">\n",
       "      <th></th>\n",
       "      <th>ride_length_s</th>\n",
       "    </tr>\n",
       "    <tr>\n",
       "      <th>member_casual</th>\n",
       "      <th></th>\n",
       "    </tr>\n",
       "  </thead>\n",
       "  <tbody>\n",
       "    <tr>\n",
       "      <th>casual</th>\n",
       "      <td>40.989684</td>\n",
       "    </tr>\n",
       "    <tr>\n",
       "      <th>member</th>\n",
       "      <td>59.010316</td>\n",
       "    </tr>\n",
       "  </tbody>\n",
       "</table>\n",
       "</div>"
      ],
      "text/plain": [
       "               ride_length_s\n",
       "member_casual               \n",
       "casual             40.989684\n",
       "member             59.010316"
      ]
     },
     "execution_count": 43,
     "metadata": {},
     "output_type": "execute_result"
    }
   ],
   "source": [
    "# Counting the distribution in percenatage of members and casuals\n",
    "\n",
    "compare_ride_length.groupby(\"member_casual\").count() / len(compare_ride_length) * 100\n"
   ]
  },
  {
   "cell_type": "markdown",
   "id": "f486c2ca",
   "metadata": {
    "papermill": {
     "duration": 0.028988,
     "end_time": "2022-06-20T06:13:35.668144",
     "exception": false,
     "start_time": "2022-06-20T06:13:35.639156",
     "status": "completed"
    },
    "tags": []
   },
   "source": [
    "**There's another easier way to find the count, median and other statistics data between members and casuals using the agregate function and that's what we are going to do below**"
   ]
  },
  {
   "cell_type": "code",
   "execution_count": 44,
   "id": "72686f0d",
   "metadata": {
    "execution": {
     "iopub.execute_input": "2022-06-20T06:13:35.727430Z",
     "iopub.status.busy": "2022-06-20T06:13:35.725927Z",
     "iopub.status.idle": "2022-06-20T06:13:36.063776Z",
     "shell.execute_reply": "2022-06-20T06:13:36.062878Z"
    },
    "papermill": {
     "duration": 0.368852,
     "end_time": "2022-06-20T06:13:36.065802",
     "exception": false,
     "start_time": "2022-06-20T06:13:35.696950",
     "status": "completed"
    },
    "tags": []
   },
   "outputs": [
    {
     "data": {
      "text/html": [
       "<div>\n",
       "<style scoped>\n",
       "    .dataframe tbody tr th:only-of-type {\n",
       "        vertical-align: middle;\n",
       "    }\n",
       "\n",
       "    .dataframe tbody tr th {\n",
       "        vertical-align: top;\n",
       "    }\n",
       "\n",
       "    .dataframe thead tr th {\n",
       "        text-align: left;\n",
       "    }\n",
       "\n",
       "    .dataframe thead tr:last-of-type th {\n",
       "        text-align: right;\n",
       "    }\n",
       "</style>\n",
       "<table border=\"1\" class=\"dataframe\">\n",
       "  <thead>\n",
       "    <tr>\n",
       "      <th></th>\n",
       "      <th colspan=\"3\" halign=\"left\">ride_length_s</th>\n",
       "    </tr>\n",
       "    <tr>\n",
       "      <th></th>\n",
       "      <th>count</th>\n",
       "      <th>median</th>\n",
       "      <th>mean</th>\n",
       "    </tr>\n",
       "    <tr>\n",
       "      <th>member_casual</th>\n",
       "      <th></th>\n",
       "      <th></th>\n",
       "      <th></th>\n",
       "    </tr>\n",
       "  </thead>\n",
       "  <tbody>\n",
       "    <tr>\n",
       "      <th>casual</th>\n",
       "      <td>1430351</td>\n",
       "      <td>21.266667</td>\n",
       "      <td>40.172548</td>\n",
       "    </tr>\n",
       "    <tr>\n",
       "      <th>member</th>\n",
       "      <td>2059188</td>\n",
       "      <td>11.533333</td>\n",
       "      <td>20.492773</td>\n",
       "    </tr>\n",
       "  </tbody>\n",
       "</table>\n",
       "</div>"
      ],
      "text/plain": [
       "              ride_length_s                      \n",
       "                      count     median       mean\n",
       "member_casual                                    \n",
       "casual              1430351  21.266667  40.172548\n",
       "member              2059188  11.533333  20.492773"
      ]
     },
     "execution_count": 44,
     "metadata": {},
     "output_type": "execute_result"
    }
   ],
   "source": [
    "# Now the easiest way using the agregate function, not forgeting the groupby as well.\n",
    "\n",
    "tripdataV2.groupby(tripdataV2[\"member_casual\"]).aggregate({\"ride_length_s\":['count', 'median', 'mean']})\n"
   ]
  },
  {
   "cell_type": "code",
   "execution_count": 45,
   "id": "36d54f64",
   "metadata": {
    "execution": {
     "iopub.execute_input": "2022-06-20T06:13:36.123325Z",
     "iopub.status.busy": "2022-06-20T06:13:36.122325Z",
     "iopub.status.idle": "2022-06-20T06:13:36.128994Z",
     "shell.execute_reply": "2022-06-20T06:13:36.128379Z"
    },
    "papermill": {
     "duration": 0.037525,
     "end_time": "2022-06-20T06:13:36.130686",
     "exception": false,
     "start_time": "2022-06-20T06:13:36.093161",
     "status": "completed"
    },
    "tags": []
   },
   "outputs": [
    {
     "data": {
      "text/plain": [
       "0            Sunday\n",
       "1            Friday\n",
       "2         Wednesday\n",
       "3           Tuesday\n",
       "4          Saturday\n",
       "            ...    \n",
       "228491     Saturday\n",
       "228492      Tuesday\n",
       "228493      Tuesday\n",
       "228494       Monday\n",
       "228495       Friday\n",
       "Name: weekday, Length: 3489539, dtype: object"
      ]
     },
     "execution_count": 45,
     "metadata": {},
     "output_type": "execute_result"
    }
   ],
   "source": [
    "tripdataV2[\"weekday\"]\n",
    "\n"
   ]
  },
  {
   "cell_type": "markdown",
   "id": "da147b8b",
   "metadata": {
    "papermill": {
     "duration": 0.027667,
     "end_time": "2022-06-20T06:13:36.186541",
     "exception": false,
     "start_time": "2022-06-20T06:13:36.158874",
     "status": "completed"
    },
    "tags": []
   },
   "source": [
    "**Watching first the count, median and mean from the days of the week**"
   ]
  },
  {
   "cell_type": "code",
   "execution_count": 46,
   "id": "72df16e0",
   "metadata": {
    "execution": {
     "iopub.execute_input": "2022-06-20T06:13:36.243438Z",
     "iopub.status.busy": "2022-06-20T06:13:36.243044Z",
     "iopub.status.idle": "2022-06-20T06:13:36.635302Z",
     "shell.execute_reply": "2022-06-20T06:13:36.634367Z"
    },
    "papermill": {
     "duration": 0.423278,
     "end_time": "2022-06-20T06:13:36.637427",
     "exception": false,
     "start_time": "2022-06-20T06:13:36.214149",
     "status": "completed"
    },
    "tags": []
   },
   "outputs": [
    {
     "data": {
      "text/html": [
       "<div>\n",
       "<style scoped>\n",
       "    .dataframe tbody tr th:only-of-type {\n",
       "        vertical-align: middle;\n",
       "    }\n",
       "\n",
       "    .dataframe tbody tr th {\n",
       "        vertical-align: top;\n",
       "    }\n",
       "\n",
       "    .dataframe thead tr th {\n",
       "        text-align: left;\n",
       "    }\n",
       "\n",
       "    .dataframe thead tr:last-of-type th {\n",
       "        text-align: right;\n",
       "    }\n",
       "</style>\n",
       "<table border=\"1\" class=\"dataframe\">\n",
       "  <thead>\n",
       "    <tr>\n",
       "      <th></th>\n",
       "      <th colspan=\"3\" halign=\"left\">ride_length_s</th>\n",
       "    </tr>\n",
       "    <tr>\n",
       "      <th></th>\n",
       "      <th>count</th>\n",
       "      <th>median</th>\n",
       "      <th>mean</th>\n",
       "    </tr>\n",
       "    <tr>\n",
       "      <th>weekday</th>\n",
       "      <th></th>\n",
       "      <th></th>\n",
       "      <th></th>\n",
       "    </tr>\n",
       "  </thead>\n",
       "  <tbody>\n",
       "    <tr>\n",
       "      <th>Friday</th>\n",
       "      <td>516802</td>\n",
       "      <td>14.066667</td>\n",
       "      <td>28.536724</td>\n",
       "    </tr>\n",
       "    <tr>\n",
       "      <th>Monday</th>\n",
       "      <td>419556</td>\n",
       "      <td>13.450000</td>\n",
       "      <td>26.286407</td>\n",
       "    </tr>\n",
       "    <tr>\n",
       "      <th>Saturday</th>\n",
       "      <td>660184</td>\n",
       "      <td>17.450000</td>\n",
       "      <td>32.968669</td>\n",
       "    </tr>\n",
       "    <tr>\n",
       "      <th>Sunday</th>\n",
       "      <td>529117</td>\n",
       "      <td>17.733333</td>\n",
       "      <td>33.466815</td>\n",
       "    </tr>\n",
       "    <tr>\n",
       "      <th>Thursday</th>\n",
       "      <td>467993</td>\n",
       "      <td>13.150000</td>\n",
       "      <td>25.023554</td>\n",
       "    </tr>\n",
       "    <tr>\n",
       "      <th>Tuesday</th>\n",
       "      <td>431083</td>\n",
       "      <td>12.983333</td>\n",
       "      <td>25.640836</td>\n",
       "    </tr>\n",
       "    <tr>\n",
       "      <th>Wednesday</th>\n",
       "      <td>464804</td>\n",
       "      <td>13.000000</td>\n",
       "      <td>25.054509</td>\n",
       "    </tr>\n",
       "  </tbody>\n",
       "</table>\n",
       "</div>"
      ],
      "text/plain": [
       "          ride_length_s                      \n",
       "                  count     median       mean\n",
       "weekday                                      \n",
       "Friday           516802  14.066667  28.536724\n",
       "Monday           419556  13.450000  26.286407\n",
       "Saturday         660184  17.450000  32.968669\n",
       "Sunday           529117  17.733333  33.466815\n",
       "Thursday         467993  13.150000  25.023554\n",
       "Tuesday          431083  12.983333  25.640836\n",
       "Wednesday        464804  13.000000  25.054509"
      ]
     },
     "execution_count": 46,
     "metadata": {},
     "output_type": "execute_result"
    }
   ],
   "source": [
    "tripdataV2.groupby(\"weekday\").aggregate({\"ride_length_s\":['count', 'median', \"mean\"]})\n"
   ]
  },
  {
   "cell_type": "code",
   "execution_count": 47,
   "id": "9fd9e5a9",
   "metadata": {
    "execution": {
     "iopub.execute_input": "2022-06-20T06:13:36.696535Z",
     "iopub.status.busy": "2022-06-20T06:13:36.695908Z",
     "iopub.status.idle": "2022-06-20T06:13:39.722508Z",
     "shell.execute_reply": "2022-06-20T06:13:39.721597Z"
    },
    "papermill": {
     "duration": 3.058451,
     "end_time": "2022-06-20T06:13:39.725276",
     "exception": false,
     "start_time": "2022-06-20T06:13:36.666825",
     "status": "completed"
    },
    "tags": []
   },
   "outputs": [
    {
     "data": {
      "text/html": [
       "<div>\n",
       "<style scoped>\n",
       "    .dataframe tbody tr th:only-of-type {\n",
       "        vertical-align: middle;\n",
       "    }\n",
       "\n",
       "    .dataframe tbody tr th {\n",
       "        vertical-align: top;\n",
       "    }\n",
       "\n",
       "    .dataframe thead th {\n",
       "        text-align: right;\n",
       "    }\n",
       "</style>\n",
       "<table border=\"1\" class=\"dataframe\">\n",
       "  <thead>\n",
       "    <tr style=\"text-align: right;\">\n",
       "      <th></th>\n",
       "      <th>ride_id</th>\n",
       "      <th>rideable_type</th>\n",
       "      <th>started_at</th>\n",
       "      <th>ended_at</th>\n",
       "      <th>start_station_name</th>\n",
       "      <th>start_station_id</th>\n",
       "      <th>end_station_name</th>\n",
       "      <th>end_station_id</th>\n",
       "      <th>start_lat</th>\n",
       "      <th>start_lng</th>\n",
       "      <th>end_lat</th>\n",
       "      <th>end_lng</th>\n",
       "      <th>member_casual</th>\n",
       "      <th>weekday</th>\n",
       "      <th>day</th>\n",
       "      <th>month</th>\n",
       "      <th>year</th>\n",
       "      <th>ride_length_s</th>\n",
       "      <th>year_month</th>\n",
       "      <th>dayofweek_weekday</th>\n",
       "    </tr>\n",
       "  </thead>\n",
       "  <tbody>\n",
       "    <tr>\n",
       "      <th>6</th>\n",
       "      <td>09275CC10F854E9E</td>\n",
       "      <td>electric_bike</td>\n",
       "      <td>2021-01-04 05:05:04</td>\n",
       "      <td>2021-01-04 05:10:39</td>\n",
       "      <td>California Ave &amp; Cortez St</td>\n",
       "      <td>17660</td>\n",
       "      <td>NaN</td>\n",
       "      <td>NaN</td>\n",
       "      <td>41.900391</td>\n",
       "      <td>-87.696757</td>\n",
       "      <td>41.900000</td>\n",
       "      <td>-87.710000</td>\n",
       "      <td>member</td>\n",
       "      <td>Monday</td>\n",
       "      <td>4</td>\n",
       "      <td>1</td>\n",
       "      <td>2021</td>\n",
       "      <td>5.583333</td>\n",
       "      <td>2021 - 1 (January)</td>\n",
       "      <td>0 - Monday</td>\n",
       "    </tr>\n",
       "    <tr>\n",
       "      <th>44</th>\n",
       "      <td>7297C6B623D5F03B</td>\n",
       "      <td>classic_bike</td>\n",
       "      <td>2021-01-04 18:56:13</td>\n",
       "      <td>2021-01-04 19:23:34</td>\n",
       "      <td>Halsted St &amp; North Branch St</td>\n",
       "      <td>KA1504000117</td>\n",
       "      <td>Fairbanks Ct &amp; Grand Ave</td>\n",
       "      <td>TA1305000003</td>\n",
       "      <td>41.899368</td>\n",
       "      <td>-87.648480</td>\n",
       "      <td>41.891847</td>\n",
       "      <td>-87.620580</td>\n",
       "      <td>casual</td>\n",
       "      <td>Monday</td>\n",
       "      <td>4</td>\n",
       "      <td>1</td>\n",
       "      <td>2021</td>\n",
       "      <td>27.350000</td>\n",
       "      <td>2021 - 1 (January)</td>\n",
       "      <td>0 - Monday</td>\n",
       "    </tr>\n",
       "    <tr>\n",
       "      <th>105</th>\n",
       "      <td>D96D0A942E12C4D4</td>\n",
       "      <td>classic_bike</td>\n",
       "      <td>2021-01-04 10:05:49</td>\n",
       "      <td>2021-01-04 10:29:53</td>\n",
       "      <td>Sedgwick St &amp; North Ave</td>\n",
       "      <td>TA1307000038</td>\n",
       "      <td>Sheridan Rd &amp; Irving Park Rd</td>\n",
       "      <td>13063</td>\n",
       "      <td>41.911386</td>\n",
       "      <td>-87.638677</td>\n",
       "      <td>41.954245</td>\n",
       "      <td>-87.654406</td>\n",
       "      <td>casual</td>\n",
       "      <td>Monday</td>\n",
       "      <td>4</td>\n",
       "      <td>1</td>\n",
       "      <td>2021</td>\n",
       "      <td>24.066667</td>\n",
       "      <td>2021 - 1 (January)</td>\n",
       "      <td>0 - Monday</td>\n",
       "    </tr>\n",
       "    <tr>\n",
       "      <th>175</th>\n",
       "      <td>2CE7583737A818C4</td>\n",
       "      <td>classic_bike</td>\n",
       "      <td>2021-01-04 14:03:49</td>\n",
       "      <td>2021-01-04 15:18:26</td>\n",
       "      <td>Rush St &amp; Superior St</td>\n",
       "      <td>15530</td>\n",
       "      <td>Dearborn St &amp; Erie St</td>\n",
       "      <td>13045</td>\n",
       "      <td>41.895765</td>\n",
       "      <td>-87.625908</td>\n",
       "      <td>41.893992</td>\n",
       "      <td>-87.629318</td>\n",
       "      <td>casual</td>\n",
       "      <td>Monday</td>\n",
       "      <td>4</td>\n",
       "      <td>1</td>\n",
       "      <td>2021</td>\n",
       "      <td>74.616667</td>\n",
       "      <td>2021 - 1 (January)</td>\n",
       "      <td>0 - Monday</td>\n",
       "    </tr>\n",
       "    <tr>\n",
       "      <th>186</th>\n",
       "      <td>C8AF1AFE70065085</td>\n",
       "      <td>classic_bike</td>\n",
       "      <td>2021-01-04 06:50:30</td>\n",
       "      <td>2021-01-04 06:53:34</td>\n",
       "      <td>Franklin St &amp; Monroe St</td>\n",
       "      <td>TA1309000007</td>\n",
       "      <td>LaSalle St &amp; Jackson Blvd</td>\n",
       "      <td>TA1309000004</td>\n",
       "      <td>41.880317</td>\n",
       "      <td>-87.635185</td>\n",
       "      <td>41.878166</td>\n",
       "      <td>-87.631929</td>\n",
       "      <td>member</td>\n",
       "      <td>Monday</td>\n",
       "      <td>4</td>\n",
       "      <td>1</td>\n",
       "      <td>2021</td>\n",
       "      <td>3.066667</td>\n",
       "      <td>2021 - 1 (January)</td>\n",
       "      <td>0 - Monday</td>\n",
       "    </tr>\n",
       "    <tr>\n",
       "      <th>...</th>\n",
       "      <td>...</td>\n",
       "      <td>...</td>\n",
       "      <td>...</td>\n",
       "      <td>...</td>\n",
       "      <td>...</td>\n",
       "      <td>...</td>\n",
       "      <td>...</td>\n",
       "      <td>...</td>\n",
       "      <td>...</td>\n",
       "      <td>...</td>\n",
       "      <td>...</td>\n",
       "      <td>...</td>\n",
       "      <td>...</td>\n",
       "      <td>...</td>\n",
       "      <td>...</td>\n",
       "      <td>...</td>\n",
       "      <td>...</td>\n",
       "      <td>...</td>\n",
       "      <td>...</td>\n",
       "      <td>...</td>\n",
       "    </tr>\n",
       "    <tr>\n",
       "      <th>131248</th>\n",
       "      <td>3249DEAAC998751A</td>\n",
       "      <td>electric_bike</td>\n",
       "      <td>2020-12-27 17:20:02</td>\n",
       "      <td>2020-12-27 17:31:17</td>\n",
       "      <td>Clinton St &amp; Madison St</td>\n",
       "      <td>TA1305000032</td>\n",
       "      <td>Clinton St &amp; Madison St</td>\n",
       "      <td>TA1305000032</td>\n",
       "      <td>41.881766</td>\n",
       "      <td>-87.640935</td>\n",
       "      <td>41.881445</td>\n",
       "      <td>-87.641443</td>\n",
       "      <td>member</td>\n",
       "      <td>Sunday</td>\n",
       "      <td>27</td>\n",
       "      <td>12</td>\n",
       "      <td>2020</td>\n",
       "      <td>11.250000</td>\n",
       "      <td>2020 - 12 (December)</td>\n",
       "      <td>6 - Sunday</td>\n",
       "    </tr>\n",
       "    <tr>\n",
       "      <th>131249</th>\n",
       "      <td>BDB04AA7AE272588</td>\n",
       "      <td>electric_bike</td>\n",
       "      <td>2020-12-27 16:38:44</td>\n",
       "      <td>2020-12-27 16:58:48</td>\n",
       "      <td>Clinton St &amp; Madison St</td>\n",
       "      <td>TA1305000032</td>\n",
       "      <td>Clinton St &amp; Madison St</td>\n",
       "      <td>TA1305000032</td>\n",
       "      <td>41.881853</td>\n",
       "      <td>-87.640984</td>\n",
       "      <td>41.882110</td>\n",
       "      <td>-87.641392</td>\n",
       "      <td>member</td>\n",
       "      <td>Sunday</td>\n",
       "      <td>27</td>\n",
       "      <td>12</td>\n",
       "      <td>2020</td>\n",
       "      <td>20.066667</td>\n",
       "      <td>2020 - 12 (December)</td>\n",
       "      <td>6 - Sunday</td>\n",
       "    </tr>\n",
       "    <tr>\n",
       "      <th>131421</th>\n",
       "      <td>FD056F832AF370A1</td>\n",
       "      <td>classic_bike</td>\n",
       "      <td>2020-12-27 13:47:37</td>\n",
       "      <td>2020-12-27 13:50:06</td>\n",
       "      <td>Sheffield Ave &amp; Webster Ave</td>\n",
       "      <td>TA1309000033</td>\n",
       "      <td>Bissell St &amp; Armitage Ave</td>\n",
       "      <td>13059</td>\n",
       "      <td>41.921540</td>\n",
       "      <td>-87.653818</td>\n",
       "      <td>41.918440</td>\n",
       "      <td>-87.652220</td>\n",
       "      <td>member</td>\n",
       "      <td>Sunday</td>\n",
       "      <td>27</td>\n",
       "      <td>12</td>\n",
       "      <td>2020</td>\n",
       "      <td>2.483333</td>\n",
       "      <td>2020 - 12 (December)</td>\n",
       "      <td>6 - Sunday</td>\n",
       "    </tr>\n",
       "    <tr>\n",
       "      <th>131422</th>\n",
       "      <td>2CD1E8DA4447BB9B</td>\n",
       "      <td>classic_bike</td>\n",
       "      <td>2020-12-27 14:21:55</td>\n",
       "      <td>2020-12-27 14:24:05</td>\n",
       "      <td>Bissell St &amp; Armitage Ave</td>\n",
       "      <td>13059</td>\n",
       "      <td>Sheffield Ave &amp; Webster Ave</td>\n",
       "      <td>TA1309000033</td>\n",
       "      <td>41.918440</td>\n",
       "      <td>-87.652220</td>\n",
       "      <td>41.921540</td>\n",
       "      <td>-87.653818</td>\n",
       "      <td>member</td>\n",
       "      <td>Sunday</td>\n",
       "      <td>27</td>\n",
       "      <td>12</td>\n",
       "      <td>2020</td>\n",
       "      <td>2.166667</td>\n",
       "      <td>2020 - 12 (December)</td>\n",
       "      <td>6 - Sunday</td>\n",
       "    </tr>\n",
       "    <tr>\n",
       "      <th>131561</th>\n",
       "      <td>99741BBCF3E82A6B</td>\n",
       "      <td>classic_bike</td>\n",
       "      <td>2020-12-27 12:14:30</td>\n",
       "      <td>2020-12-27 12:18:16</td>\n",
       "      <td>Rhodes Ave &amp; 32nd St</td>\n",
       "      <td>13215</td>\n",
       "      <td>Indiana Ave &amp; 31st St</td>\n",
       "      <td>TA1308000036</td>\n",
       "      <td>41.836208</td>\n",
       "      <td>-87.613533</td>\n",
       "      <td>41.838842</td>\n",
       "      <td>-87.621857</td>\n",
       "      <td>casual</td>\n",
       "      <td>Sunday</td>\n",
       "      <td>27</td>\n",
       "      <td>12</td>\n",
       "      <td>2020</td>\n",
       "      <td>3.766667</td>\n",
       "      <td>2020 - 12 (December)</td>\n",
       "      <td>6 - Sunday</td>\n",
       "    </tr>\n",
       "  </tbody>\n",
       "</table>\n",
       "<p>3489539 rows × 20 columns</p>\n",
       "</div>"
      ],
      "text/plain": [
       "                 ride_id  rideable_type          started_at  \\\n",
       "6       09275CC10F854E9E  electric_bike 2021-01-04 05:05:04   \n",
       "44      7297C6B623D5F03B   classic_bike 2021-01-04 18:56:13   \n",
       "105     D96D0A942E12C4D4   classic_bike 2021-01-04 10:05:49   \n",
       "175     2CE7583737A818C4   classic_bike 2021-01-04 14:03:49   \n",
       "186     C8AF1AFE70065085   classic_bike 2021-01-04 06:50:30   \n",
       "...                  ...            ...                 ...   \n",
       "131248  3249DEAAC998751A  electric_bike 2020-12-27 17:20:02   \n",
       "131249  BDB04AA7AE272588  electric_bike 2020-12-27 16:38:44   \n",
       "131421  FD056F832AF370A1   classic_bike 2020-12-27 13:47:37   \n",
       "131422  2CD1E8DA4447BB9B   classic_bike 2020-12-27 14:21:55   \n",
       "131561  99741BBCF3E82A6B   classic_bike 2020-12-27 12:14:30   \n",
       "\n",
       "                  ended_at            start_station_name start_station_id  \\\n",
       "6      2021-01-04 05:10:39    California Ave & Cortez St            17660   \n",
       "44     2021-01-04 19:23:34  Halsted St & North Branch St     KA1504000117   \n",
       "105    2021-01-04 10:29:53       Sedgwick St & North Ave     TA1307000038   \n",
       "175    2021-01-04 15:18:26         Rush St & Superior St            15530   \n",
       "186    2021-01-04 06:53:34       Franklin St & Monroe St     TA1309000007   \n",
       "...                    ...                           ...              ...   \n",
       "131248 2020-12-27 17:31:17       Clinton St & Madison St     TA1305000032   \n",
       "131249 2020-12-27 16:58:48       Clinton St & Madison St     TA1305000032   \n",
       "131421 2020-12-27 13:50:06   Sheffield Ave & Webster Ave     TA1309000033   \n",
       "131422 2020-12-27 14:24:05     Bissell St & Armitage Ave            13059   \n",
       "131561 2020-12-27 12:18:16          Rhodes Ave & 32nd St            13215   \n",
       "\n",
       "                    end_station_name end_station_id  start_lat  start_lng  \\\n",
       "6                                NaN            NaN  41.900391 -87.696757   \n",
       "44          Fairbanks Ct & Grand Ave   TA1305000003  41.899368 -87.648480   \n",
       "105     Sheridan Rd & Irving Park Rd          13063  41.911386 -87.638677   \n",
       "175            Dearborn St & Erie St          13045  41.895765 -87.625908   \n",
       "186        LaSalle St & Jackson Blvd   TA1309000004  41.880317 -87.635185   \n",
       "...                              ...            ...        ...        ...   \n",
       "131248       Clinton St & Madison St   TA1305000032  41.881766 -87.640935   \n",
       "131249       Clinton St & Madison St   TA1305000032  41.881853 -87.640984   \n",
       "131421     Bissell St & Armitage Ave          13059  41.921540 -87.653818   \n",
       "131422   Sheffield Ave & Webster Ave   TA1309000033  41.918440 -87.652220   \n",
       "131561         Indiana Ave & 31st St   TA1308000036  41.836208 -87.613533   \n",
       "\n",
       "          end_lat    end_lng member_casual weekday  day  month  year  \\\n",
       "6       41.900000 -87.710000        member  Monday    4      1  2021   \n",
       "44      41.891847 -87.620580        casual  Monday    4      1  2021   \n",
       "105     41.954245 -87.654406        casual  Monday    4      1  2021   \n",
       "175     41.893992 -87.629318        casual  Monday    4      1  2021   \n",
       "186     41.878166 -87.631929        member  Monday    4      1  2021   \n",
       "...           ...        ...           ...     ...  ...    ...   ...   \n",
       "131248  41.881445 -87.641443        member  Sunday   27     12  2020   \n",
       "131249  41.882110 -87.641392        member  Sunday   27     12  2020   \n",
       "131421  41.918440 -87.652220        member  Sunday   27     12  2020   \n",
       "131422  41.921540 -87.653818        member  Sunday   27     12  2020   \n",
       "131561  41.838842 -87.621857        casual  Sunday   27     12  2020   \n",
       "\n",
       "        ride_length_s            year_month dayofweek_weekday  \n",
       "6            5.583333    2021 - 1 (January)        0 - Monday  \n",
       "44          27.350000    2021 - 1 (January)        0 - Monday  \n",
       "105         24.066667    2021 - 1 (January)        0 - Monday  \n",
       "175         74.616667    2021 - 1 (January)        0 - Monday  \n",
       "186          3.066667    2021 - 1 (January)        0 - Monday  \n",
       "...               ...                   ...               ...  \n",
       "131248      11.250000  2020 - 12 (December)        6 - Sunday  \n",
       "131249      20.066667  2020 - 12 (December)        6 - Sunday  \n",
       "131421       2.483333  2020 - 12 (December)        6 - Sunday  \n",
       "131422       2.166667  2020 - 12 (December)        6 - Sunday  \n",
       "131561       3.766667  2020 - 12 (December)        6 - Sunday  \n",
       "\n",
       "[3489539 rows x 20 columns]"
      ]
     },
     "execution_count": 47,
     "metadata": {},
     "output_type": "execute_result"
    }
   ],
   "source": [
    "tripdataV2 = tripdataV2.sort_values(by=[\"dayofweek_weekday\", \"month\", \"day\"])\n",
    "\n",
    "\n",
    "tripdataV2\n"
   ]
  },
  {
   "cell_type": "code",
   "execution_count": 48,
   "id": "6137b9eb",
   "metadata": {
    "execution": {
     "iopub.execute_input": "2022-06-20T06:13:39.785540Z",
     "iopub.status.busy": "2022-06-20T06:13:39.785126Z",
     "iopub.status.idle": "2022-06-20T06:13:39.790857Z",
     "shell.execute_reply": "2022-06-20T06:13:39.789956Z"
    },
    "papermill": {
     "duration": 0.037779,
     "end_time": "2022-06-20T06:13:39.793166",
     "exception": false,
     "start_time": "2022-06-20T06:13:39.755387",
     "status": "completed"
    },
    "tags": []
   },
   "outputs": [
    {
     "data": {
      "text/plain": [
       "['Monday', 'Tuesday', 'Wednesday', 'Thursday', 'Friday', 'Saturday', 'Sunday']"
      ]
     },
     "execution_count": 48,
     "metadata": {},
     "output_type": "execute_result"
    }
   ],
   "source": [
    "# creating a new index so we can have the data properly sorted\n",
    "\n",
    "new_index = [\"Monday\", \"Tuesday\", \"Wednesday\", \"Thursday\", \"Friday\", \"Saturday\", \"Sunday\"]\n",
    "\n",
    "new_index\n"
   ]
  },
  {
   "cell_type": "code",
   "execution_count": 49,
   "id": "5e8318d4",
   "metadata": {
    "execution": {
     "iopub.execute_input": "2022-06-20T06:13:39.852721Z",
     "iopub.status.busy": "2022-06-20T06:13:39.851996Z",
     "iopub.status.idle": "2022-06-20T06:13:40.901951Z",
     "shell.execute_reply": "2022-06-20T06:13:40.900977Z"
    },
    "papermill": {
     "duration": 1.081677,
     "end_time": "2022-06-20T06:13:40.904030",
     "exception": false,
     "start_time": "2022-06-20T06:13:39.822353",
     "status": "completed"
    },
    "tags": []
   },
   "outputs": [
    {
     "data": {
      "text/html": [
       "<div>\n",
       "<style scoped>\n",
       "    .dataframe tbody tr th:only-of-type {\n",
       "        vertical-align: middle;\n",
       "    }\n",
       "\n",
       "    .dataframe tbody tr th {\n",
       "        vertical-align: top;\n",
       "    }\n",
       "\n",
       "    .dataframe thead tr th {\n",
       "        text-align: left;\n",
       "    }\n",
       "\n",
       "    .dataframe thead tr:last-of-type th {\n",
       "        text-align: right;\n",
       "    }\n",
       "</style>\n",
       "<table border=\"1\" class=\"dataframe\">\n",
       "  <thead>\n",
       "    <tr>\n",
       "      <th></th>\n",
       "      <th colspan=\"3\" halign=\"left\">ride_length_s</th>\n",
       "    </tr>\n",
       "    <tr>\n",
       "      <th></th>\n",
       "      <th>count</th>\n",
       "      <th>median</th>\n",
       "      <th>mean</th>\n",
       "    </tr>\n",
       "    <tr>\n",
       "      <th>weekday</th>\n",
       "      <th></th>\n",
       "      <th></th>\n",
       "      <th></th>\n",
       "    </tr>\n",
       "  </thead>\n",
       "  <tbody>\n",
       "    <tr>\n",
       "      <th>Monday</th>\n",
       "      <td>419556</td>\n",
       "      <td>13.450000</td>\n",
       "      <td>26.286407</td>\n",
       "    </tr>\n",
       "    <tr>\n",
       "      <th>Tuesday</th>\n",
       "      <td>431083</td>\n",
       "      <td>12.983333</td>\n",
       "      <td>25.640836</td>\n",
       "    </tr>\n",
       "    <tr>\n",
       "      <th>Wednesday</th>\n",
       "      <td>464804</td>\n",
       "      <td>13.000000</td>\n",
       "      <td>25.054509</td>\n",
       "    </tr>\n",
       "    <tr>\n",
       "      <th>Thursday</th>\n",
       "      <td>467993</td>\n",
       "      <td>13.150000</td>\n",
       "      <td>25.023554</td>\n",
       "    </tr>\n",
       "    <tr>\n",
       "      <th>Friday</th>\n",
       "      <td>516802</td>\n",
       "      <td>14.066667</td>\n",
       "      <td>28.536724</td>\n",
       "    </tr>\n",
       "    <tr>\n",
       "      <th>Saturday</th>\n",
       "      <td>660184</td>\n",
       "      <td>17.450000</td>\n",
       "      <td>32.968669</td>\n",
       "    </tr>\n",
       "    <tr>\n",
       "      <th>Sunday</th>\n",
       "      <td>529117</td>\n",
       "      <td>17.733333</td>\n",
       "      <td>33.466815</td>\n",
       "    </tr>\n",
       "  </tbody>\n",
       "</table>\n",
       "</div>"
      ],
      "text/plain": [
       "          ride_length_s                      \n",
       "                  count     median       mean\n",
       "weekday                                      \n",
       "Monday           419556  13.450000  26.286407\n",
       "Tuesday          431083  12.983333  25.640836\n",
       "Wednesday        464804  13.000000  25.054509\n",
       "Thursday         467993  13.150000  25.023554\n",
       "Friday           516802  14.066667  28.536724\n",
       "Saturday         660184  17.450000  32.968669\n",
       "Sunday           529117  17.733333  33.466815"
      ]
     },
     "execution_count": 49,
     "metadata": {},
     "output_type": "execute_result"
    }
   ],
   "source": [
    "# Making the data ordered by using the new index of days\n",
    "\n",
    "tripdataV2.groupby(\"weekday\").aggregate({\"ride_length_s\":['count', 'median', \"mean\"]}).reindex(new_index)\n"
   ]
  },
  {
   "cell_type": "code",
   "execution_count": 50,
   "id": "a1ed6226",
   "metadata": {
    "execution": {
     "iopub.execute_input": "2022-06-20T06:13:40.963309Z",
     "iopub.status.busy": "2022-06-20T06:13:40.962923Z",
     "iopub.status.idle": "2022-06-20T06:13:41.334275Z",
     "shell.execute_reply": "2022-06-20T06:13:41.333256Z"
    },
    "papermill": {
     "duration": 0.403021,
     "end_time": "2022-06-20T06:13:41.336596",
     "exception": false,
     "start_time": "2022-06-20T06:13:40.933575",
     "status": "completed"
    },
    "tags": []
   },
   "outputs": [
    {
     "data": {
      "text/html": [
       "<div>\n",
       "<style scoped>\n",
       "    .dataframe tbody tr th:only-of-type {\n",
       "        vertical-align: middle;\n",
       "    }\n",
       "\n",
       "    .dataframe tbody tr th {\n",
       "        vertical-align: top;\n",
       "    }\n",
       "\n",
       "    .dataframe thead tr th {\n",
       "        text-align: left;\n",
       "    }\n",
       "\n",
       "    .dataframe thead tr:last-of-type th {\n",
       "        text-align: right;\n",
       "    }\n",
       "</style>\n",
       "<table border=\"1\" class=\"dataframe\">\n",
       "  <thead>\n",
       "    <tr>\n",
       "      <th></th>\n",
       "      <th colspan=\"3\" halign=\"left\">ride_length_s</th>\n",
       "    </tr>\n",
       "    <tr>\n",
       "      <th></th>\n",
       "      <th>count</th>\n",
       "      <th>median</th>\n",
       "      <th>mean</th>\n",
       "    </tr>\n",
       "    <tr>\n",
       "      <th>member_casual</th>\n",
       "      <th></th>\n",
       "      <th></th>\n",
       "      <th></th>\n",
       "    </tr>\n",
       "  </thead>\n",
       "  <tbody>\n",
       "    <tr>\n",
       "      <th>casual</th>\n",
       "      <td>1430351</td>\n",
       "      <td>21.266667</td>\n",
       "      <td>40.172548</td>\n",
       "    </tr>\n",
       "    <tr>\n",
       "      <th>member</th>\n",
       "      <td>2059188</td>\n",
       "      <td>11.533333</td>\n",
       "      <td>20.492773</td>\n",
       "    </tr>\n",
       "  </tbody>\n",
       "</table>\n",
       "</div>"
      ],
      "text/plain": [
       "              ride_length_s                      \n",
       "                      count     median       mean\n",
       "member_casual                                    \n",
       "casual              1430351  21.266667  40.172548\n",
       "member              2059188  11.533333  20.492773"
      ]
     },
     "execution_count": 50,
     "metadata": {},
     "output_type": "execute_result"
    }
   ],
   "source": [
    "tripdataV2.groupby(\"member_casual\").aggregate({\"ride_length_s\":['count', 'median', \"mean\"]})"
   ]
  },
  {
   "cell_type": "code",
   "execution_count": 51,
   "id": "cd1a2d6d",
   "metadata": {
    "execution": {
     "iopub.execute_input": "2022-06-20T06:13:41.395580Z",
     "iopub.status.busy": "2022-06-20T06:13:41.395164Z",
     "iopub.status.idle": "2022-06-20T06:13:42.729245Z",
     "shell.execute_reply": "2022-06-20T06:13:42.728211Z"
    },
    "papermill": {
     "duration": 1.36625,
     "end_time": "2022-06-20T06:13:42.731462",
     "exception": false,
     "start_time": "2022-06-20T06:13:41.365212",
     "status": "completed"
    },
    "tags": []
   },
   "outputs": [
    {
     "data": {
      "text/html": [
       "<div>\n",
       "<style scoped>\n",
       "    .dataframe tbody tr th:only-of-type {\n",
       "        vertical-align: middle;\n",
       "    }\n",
       "\n",
       "    .dataframe tbody tr th {\n",
       "        vertical-align: top;\n",
       "    }\n",
       "\n",
       "    .dataframe thead tr th {\n",
       "        text-align: left;\n",
       "    }\n",
       "\n",
       "    .dataframe thead tr:last-of-type th {\n",
       "        text-align: right;\n",
       "    }\n",
       "</style>\n",
       "<table border=\"1\" class=\"dataframe\">\n",
       "  <thead>\n",
       "    <tr>\n",
       "      <th></th>\n",
       "      <th></th>\n",
       "      <th colspan=\"3\" halign=\"left\">ride_length_s</th>\n",
       "    </tr>\n",
       "    <tr>\n",
       "      <th></th>\n",
       "      <th></th>\n",
       "      <th>count</th>\n",
       "      <th>median</th>\n",
       "      <th>mean</th>\n",
       "    </tr>\n",
       "    <tr>\n",
       "      <th>weekday</th>\n",
       "      <th>member_casual</th>\n",
       "      <th></th>\n",
       "      <th></th>\n",
       "      <th></th>\n",
       "    </tr>\n",
       "  </thead>\n",
       "  <tbody>\n",
       "    <tr>\n",
       "      <th rowspan=\"2\" valign=\"top\">Friday</th>\n",
       "      <th>casual</th>\n",
       "      <td>209131</td>\n",
       "      <td>19.866667</td>\n",
       "      <td>39.188121</td>\n",
       "    </tr>\n",
       "    <tr>\n",
       "      <th>member</th>\n",
       "      <td>307671</td>\n",
       "      <td>11.333333</td>\n",
       "      <td>21.296726</td>\n",
       "    </tr>\n",
       "    <tr>\n",
       "      <th rowspan=\"2\" valign=\"top\">Monday</th>\n",
       "      <th>casual</th>\n",
       "      <td>151460</td>\n",
       "      <td>20.766667</td>\n",
       "      <td>39.383136</td>\n",
       "    </tr>\n",
       "    <tr>\n",
       "      <th>member</th>\n",
       "      <td>268096</td>\n",
       "      <td>10.850000</td>\n",
       "      <td>18.887450</td>\n",
       "    </tr>\n",
       "    <tr>\n",
       "      <th rowspan=\"2\" valign=\"top\">Saturday</th>\n",
       "      <th>casual</th>\n",
       "      <td>335901</td>\n",
       "      <td>23.516667</td>\n",
       "      <td>43.176450</td>\n",
       "    </tr>\n",
       "    <tr>\n",
       "      <th>member</th>\n",
       "      <td>324283</td>\n",
       "      <td>12.983333</td>\n",
       "      <td>22.395178</td>\n",
       "    </tr>\n",
       "    <tr>\n",
       "      <th rowspan=\"2\" valign=\"top\">Sunday</th>\n",
       "      <th>casual</th>\n",
       "      <td>262861</td>\n",
       "      <td>24.583333</td>\n",
       "      <td>44.528546</td>\n",
       "    </tr>\n",
       "    <tr>\n",
       "      <th>member</th>\n",
       "      <td>266256</td>\n",
       "      <td>13.050000</td>\n",
       "      <td>22.546131</td>\n",
       "    </tr>\n",
       "    <tr>\n",
       "      <th rowspan=\"2\" valign=\"top\">Thursday</th>\n",
       "      <th>casual</th>\n",
       "      <td>166672</td>\n",
       "      <td>18.700000</td>\n",
       "      <td>36.038682</td>\n",
       "    </tr>\n",
       "    <tr>\n",
       "      <th>member</th>\n",
       "      <td>301321</td>\n",
       "      <td>10.983333</td>\n",
       "      <td>18.930671</td>\n",
       "    </tr>\n",
       "    <tr>\n",
       "      <th rowspan=\"2\" valign=\"top\">Tuesday</th>\n",
       "      <th>casual</th>\n",
       "      <td>145635</td>\n",
       "      <td>19.133333</td>\n",
       "      <td>37.277237</td>\n",
       "    </tr>\n",
       "    <tr>\n",
       "      <th>member</th>\n",
       "      <td>285448</td>\n",
       "      <td>10.900000</td>\n",
       "      <td>19.703968</td>\n",
       "    </tr>\n",
       "    <tr>\n",
       "      <th rowspan=\"2\" valign=\"top\">Wednesday</th>\n",
       "      <th>casual</th>\n",
       "      <td>158691</td>\n",
       "      <td>18.583333</td>\n",
       "      <td>35.648418</td>\n",
       "    </tr>\n",
       "    <tr>\n",
       "      <th>member</th>\n",
       "      <td>306113</td>\n",
       "      <td>10.983333</td>\n",
       "      <td>19.562557</td>\n",
       "    </tr>\n",
       "  </tbody>\n",
       "</table>\n",
       "</div>"
      ],
      "text/plain": [
       "                        ride_length_s                      \n",
       "                                count     median       mean\n",
       "weekday   member_casual                                    \n",
       "Friday    casual               209131  19.866667  39.188121\n",
       "          member               307671  11.333333  21.296726\n",
       "Monday    casual               151460  20.766667  39.383136\n",
       "          member               268096  10.850000  18.887450\n",
       "Saturday  casual               335901  23.516667  43.176450\n",
       "          member               324283  12.983333  22.395178\n",
       "Sunday    casual               262861  24.583333  44.528546\n",
       "          member               266256  13.050000  22.546131\n",
       "Thursday  casual               166672  18.700000  36.038682\n",
       "          member               301321  10.983333  18.930671\n",
       "Tuesday   casual               145635  19.133333  37.277237\n",
       "          member               285448  10.900000  19.703968\n",
       "Wednesday casual               158691  18.583333  35.648418\n",
       "          member               306113  10.983333  19.562557"
      ]
     },
     "execution_count": 51,
     "metadata": {},
     "output_type": "execute_result"
    }
   ],
   "source": [
    "# Now combining the week day and member_casual columns to analyze them grouped\n",
    "\n",
    "tripdataV2.groupby([\"weekday\", \"member_casual\"]).aggregate({\"ride_length_s\":['count', 'median', \"mean\"]})\n"
   ]
  },
  {
   "cell_type": "code",
   "execution_count": 52,
   "id": "23461bdb",
   "metadata": {
    "execution": {
     "iopub.execute_input": "2022-06-20T06:13:42.790795Z",
     "iopub.status.busy": "2022-06-20T06:13:42.790432Z",
     "iopub.status.idle": "2022-06-20T06:13:44.203919Z",
     "shell.execute_reply": "2022-06-20T06:13:44.202946Z"
    },
    "papermill": {
     "duration": 1.445378,
     "end_time": "2022-06-20T06:13:44.205991",
     "exception": false,
     "start_time": "2022-06-20T06:13:42.760613",
     "status": "completed"
    },
    "tags": []
   },
   "outputs": [
    {
     "data": {
      "text/html": [
       "<div>\n",
       "<style scoped>\n",
       "    .dataframe tbody tr th:only-of-type {\n",
       "        vertical-align: middle;\n",
       "    }\n",
       "\n",
       "    .dataframe tbody tr th {\n",
       "        vertical-align: top;\n",
       "    }\n",
       "\n",
       "    .dataframe thead tr th {\n",
       "        text-align: left;\n",
       "    }\n",
       "\n",
       "    .dataframe thead tr:last-of-type th {\n",
       "        text-align: right;\n",
       "    }\n",
       "</style>\n",
       "<table border=\"1\" class=\"dataframe\">\n",
       "  <thead>\n",
       "    <tr>\n",
       "      <th></th>\n",
       "      <th></th>\n",
       "      <th colspan=\"3\" halign=\"left\">ride_length_s</th>\n",
       "    </tr>\n",
       "    <tr>\n",
       "      <th></th>\n",
       "      <th></th>\n",
       "      <th>count</th>\n",
       "      <th>median</th>\n",
       "      <th>mean</th>\n",
       "    </tr>\n",
       "    <tr>\n",
       "      <th>dayofweek_weekday</th>\n",
       "      <th>member_casual</th>\n",
       "      <th></th>\n",
       "      <th></th>\n",
       "      <th></th>\n",
       "    </tr>\n",
       "  </thead>\n",
       "  <tbody>\n",
       "    <tr>\n",
       "      <th rowspan=\"2\" valign=\"top\">0 - Monday</th>\n",
       "      <th>casual</th>\n",
       "      <td>151460</td>\n",
       "      <td>20.766667</td>\n",
       "      <td>39.383136</td>\n",
       "    </tr>\n",
       "    <tr>\n",
       "      <th>member</th>\n",
       "      <td>268096</td>\n",
       "      <td>10.850000</td>\n",
       "      <td>18.887450</td>\n",
       "    </tr>\n",
       "    <tr>\n",
       "      <th rowspan=\"2\" valign=\"top\">1 - Tuesday</th>\n",
       "      <th>casual</th>\n",
       "      <td>145635</td>\n",
       "      <td>19.133333</td>\n",
       "      <td>37.277237</td>\n",
       "    </tr>\n",
       "    <tr>\n",
       "      <th>member</th>\n",
       "      <td>285448</td>\n",
       "      <td>10.900000</td>\n",
       "      <td>19.703968</td>\n",
       "    </tr>\n",
       "    <tr>\n",
       "      <th rowspan=\"2\" valign=\"top\">2 - Wednesday</th>\n",
       "      <th>casual</th>\n",
       "      <td>158691</td>\n",
       "      <td>18.583333</td>\n",
       "      <td>35.648418</td>\n",
       "    </tr>\n",
       "    <tr>\n",
       "      <th>member</th>\n",
       "      <td>306113</td>\n",
       "      <td>10.983333</td>\n",
       "      <td>19.562557</td>\n",
       "    </tr>\n",
       "    <tr>\n",
       "      <th rowspan=\"2\" valign=\"top\">3 - Thursday</th>\n",
       "      <th>casual</th>\n",
       "      <td>166672</td>\n",
       "      <td>18.700000</td>\n",
       "      <td>36.038682</td>\n",
       "    </tr>\n",
       "    <tr>\n",
       "      <th>member</th>\n",
       "      <td>301321</td>\n",
       "      <td>10.983333</td>\n",
       "      <td>18.930671</td>\n",
       "    </tr>\n",
       "    <tr>\n",
       "      <th rowspan=\"2\" valign=\"top\">4 - Friday</th>\n",
       "      <th>casual</th>\n",
       "      <td>209131</td>\n",
       "      <td>19.866667</td>\n",
       "      <td>39.188121</td>\n",
       "    </tr>\n",
       "    <tr>\n",
       "      <th>member</th>\n",
       "      <td>307671</td>\n",
       "      <td>11.333333</td>\n",
       "      <td>21.296726</td>\n",
       "    </tr>\n",
       "    <tr>\n",
       "      <th rowspan=\"2\" valign=\"top\">5 - Saturday</th>\n",
       "      <th>casual</th>\n",
       "      <td>335901</td>\n",
       "      <td>23.516667</td>\n",
       "      <td>43.176450</td>\n",
       "    </tr>\n",
       "    <tr>\n",
       "      <th>member</th>\n",
       "      <td>324283</td>\n",
       "      <td>12.983333</td>\n",
       "      <td>22.395178</td>\n",
       "    </tr>\n",
       "    <tr>\n",
       "      <th rowspan=\"2\" valign=\"top\">6 - Sunday</th>\n",
       "      <th>casual</th>\n",
       "      <td>262861</td>\n",
       "      <td>24.583333</td>\n",
       "      <td>44.528546</td>\n",
       "    </tr>\n",
       "    <tr>\n",
       "      <th>member</th>\n",
       "      <td>266256</td>\n",
       "      <td>13.050000</td>\n",
       "      <td>22.546131</td>\n",
       "    </tr>\n",
       "  </tbody>\n",
       "</table>\n",
       "</div>"
      ],
      "text/plain": [
       "                                ride_length_s                      \n",
       "                                        count     median       mean\n",
       "dayofweek_weekday member_casual                                    \n",
       "0 - Monday        casual               151460  20.766667  39.383136\n",
       "                  member               268096  10.850000  18.887450\n",
       "1 - Tuesday       casual               145635  19.133333  37.277237\n",
       "                  member               285448  10.900000  19.703968\n",
       "2 - Wednesday     casual               158691  18.583333  35.648418\n",
       "                  member               306113  10.983333  19.562557\n",
       "3 - Thursday      casual               166672  18.700000  36.038682\n",
       "                  member               301321  10.983333  18.930671\n",
       "4 - Friday        casual               209131  19.866667  39.188121\n",
       "                  member               307671  11.333333  21.296726\n",
       "5 - Saturday      casual               335901  23.516667  43.176450\n",
       "                  member               324283  12.983333  22.395178\n",
       "6 - Sunday        casual               262861  24.583333  44.528546\n",
       "                  member               266256  13.050000  22.546131"
      ]
     },
     "execution_count": 52,
     "metadata": {},
     "output_type": "execute_result"
    }
   ],
   "source": [
    "# Sort the values by dayofweek_weekday, group them by dayofweek_weekday and member_casual and used the agregate function to find the count median and mean.\n",
    "\n",
    "tripdataV2.groupby([\"dayofweek_weekday\", \"member_casual\"]).aggregate({\"ride_length_s\":['count', 'median', \"mean\"]}).sort_values(\"dayofweek_weekday\")\n"
   ]
  },
  {
   "cell_type": "markdown",
   "id": "f78c0285",
   "metadata": {
    "papermill": {
     "duration": 0.028882,
     "end_time": "2022-06-20T06:13:44.264089",
     "exception": false,
     "start_time": "2022-06-20T06:13:44.235207",
     "status": "completed"
    },
    "tags": []
   },
   "source": [
    "**Analizing the rideable type by ride length in seconds**"
   ]
  },
  {
   "cell_type": "code",
   "execution_count": 53,
   "id": "6132f6af",
   "metadata": {
    "execution": {
     "iopub.execute_input": "2022-06-20T06:13:44.325812Z",
     "iopub.status.busy": "2022-06-20T06:13:44.325408Z",
     "iopub.status.idle": "2022-06-20T06:13:44.756926Z",
     "shell.execute_reply": "2022-06-20T06:13:44.755760Z"
    },
    "papermill": {
     "duration": 0.46544,
     "end_time": "2022-06-20T06:13:44.759479",
     "exception": false,
     "start_time": "2022-06-20T06:13:44.294039",
     "status": "completed"
    },
    "tags": []
   },
   "outputs": [
    {
     "data": {
      "text/html": [
       "<div>\n",
       "<style scoped>\n",
       "    .dataframe tbody tr th:only-of-type {\n",
       "        vertical-align: middle;\n",
       "    }\n",
       "\n",
       "    .dataframe tbody tr th {\n",
       "        vertical-align: top;\n",
       "    }\n",
       "\n",
       "    .dataframe thead tr th {\n",
       "        text-align: left;\n",
       "    }\n",
       "\n",
       "    .dataframe thead tr:last-of-type th {\n",
       "        text-align: right;\n",
       "    }\n",
       "</style>\n",
       "<table border=\"1\" class=\"dataframe\">\n",
       "  <thead>\n",
       "    <tr>\n",
       "      <th></th>\n",
       "      <th colspan=\"3\" halign=\"left\">ride_length_s</th>\n",
       "    </tr>\n",
       "    <tr>\n",
       "      <th></th>\n",
       "      <th>count</th>\n",
       "      <th>median</th>\n",
       "      <th>mean</th>\n",
       "    </tr>\n",
       "    <tr>\n",
       "      <th>rideable_type</th>\n",
       "      <th></th>\n",
       "      <th></th>\n",
       "      <th></th>\n",
       "    </tr>\n",
       "  </thead>\n",
       "  <tbody>\n",
       "    <tr>\n",
       "      <th>classic_bike</th>\n",
       "      <td>319873</td>\n",
       "      <td>10.883333</td>\n",
       "      <td>17.038735</td>\n",
       "    </tr>\n",
       "    <tr>\n",
       "      <th>docked_bike</th>\n",
       "      <td>2558260</td>\n",
       "      <td>16.316667</td>\n",
       "      <td>32.826723</td>\n",
       "    </tr>\n",
       "    <tr>\n",
       "      <th>electric_bike</th>\n",
       "      <td>611406</td>\n",
       "      <td>10.916667</td>\n",
       "      <td>16.731588</td>\n",
       "    </tr>\n",
       "  </tbody>\n",
       "</table>\n",
       "</div>"
      ],
      "text/plain": [
       "              ride_length_s                      \n",
       "                      count     median       mean\n",
       "rideable_type                                    \n",
       "classic_bike         319873  10.883333  17.038735\n",
       "docked_bike         2558260  16.316667  32.826723\n",
       "electric_bike        611406  10.916667  16.731588"
      ]
     },
     "execution_count": 53,
     "metadata": {},
     "output_type": "execute_result"
    }
   ],
   "source": [
    "tripdataV2.groupby([\"rideable_type\"]).aggregate({\"ride_length_s\":['count', 'median', \"mean\"]})"
   ]
  },
  {
   "cell_type": "markdown",
   "id": "c7eb13b7",
   "metadata": {
    "papermill": {
     "duration": 0.031124,
     "end_time": "2022-06-20T06:13:44.821676",
     "exception": false,
     "start_time": "2022-06-20T06:13:44.790552",
     "status": "completed"
    },
    "tags": []
   },
   "source": [
    "**Showing the percenatage of ride length in seconds by rideable type**"
   ]
  },
  {
   "cell_type": "code",
   "execution_count": 54,
   "id": "535f39a6",
   "metadata": {
    "execution": {
     "iopub.execute_input": "2022-06-20T06:13:44.881451Z",
     "iopub.status.busy": "2022-06-20T06:13:44.881067Z",
     "iopub.status.idle": "2022-06-20T06:13:45.183272Z",
     "shell.execute_reply": "2022-06-20T06:13:45.182263Z"
    },
    "papermill": {
     "duration": 0.334524,
     "end_time": "2022-06-20T06:13:45.185428",
     "exception": false,
     "start_time": "2022-06-20T06:13:44.850904",
     "status": "completed"
    },
    "tags": []
   },
   "outputs": [
    {
     "data": {
      "text/html": [
       "<div>\n",
       "<style scoped>\n",
       "    .dataframe tbody tr th:only-of-type {\n",
       "        vertical-align: middle;\n",
       "    }\n",
       "\n",
       "    .dataframe tbody tr th {\n",
       "        vertical-align: top;\n",
       "    }\n",
       "\n",
       "    .dataframe thead tr th {\n",
       "        text-align: left;\n",
       "    }\n",
       "\n",
       "    .dataframe thead tr:last-of-type th {\n",
       "        text-align: right;\n",
       "    }\n",
       "</style>\n",
       "<table border=\"1\" class=\"dataframe\">\n",
       "  <thead>\n",
       "    <tr>\n",
       "      <th></th>\n",
       "      <th>ride_length_s</th>\n",
       "    </tr>\n",
       "    <tr>\n",
       "      <th></th>\n",
       "      <th>count</th>\n",
       "    </tr>\n",
       "    <tr>\n",
       "      <th>rideable_type</th>\n",
       "      <th></th>\n",
       "    </tr>\n",
       "  </thead>\n",
       "  <tbody>\n",
       "    <tr>\n",
       "      <th>classic_bike</th>\n",
       "      <td>9.166626</td>\n",
       "    </tr>\n",
       "    <tr>\n",
       "      <th>docked_bike</th>\n",
       "      <td>73.312263</td>\n",
       "    </tr>\n",
       "    <tr>\n",
       "      <th>electric_bike</th>\n",
       "      <td>17.521111</td>\n",
       "    </tr>\n",
       "  </tbody>\n",
       "</table>\n",
       "</div>"
      ],
      "text/plain": [
       "              ride_length_s\n",
       "                      count\n",
       "rideable_type              \n",
       "classic_bike       9.166626\n",
       "docked_bike       73.312263\n",
       "electric_bike     17.521111"
      ]
     },
     "execution_count": 54,
     "metadata": {},
     "output_type": "execute_result"
    }
   ],
   "source": [
    "\n",
    "\n",
    "tripdataV2.groupby(\"rideable_type\").aggregate({\"ride_length_s\":['count']}) / len(compare_ride_length) * 100"
   ]
  },
  {
   "cell_type": "markdown",
   "id": "c62befab",
   "metadata": {
    "papermill": {
     "duration": 0.030023,
     "end_time": "2022-06-20T06:13:45.245403",
     "exception": false,
     "start_time": "2022-06-20T06:13:45.215380",
     "status": "completed"
    },
    "tags": []
   },
   "source": [
    "**Analizing the rideable type between members and casulas by ride_length in seconds**"
   ]
  },
  {
   "cell_type": "code",
   "execution_count": 55,
   "id": "d21f59f3",
   "metadata": {
    "execution": {
     "iopub.execute_input": "2022-06-20T06:13:45.307012Z",
     "iopub.status.busy": "2022-06-20T06:13:45.306644Z",
     "iopub.status.idle": "2022-06-20T06:13:46.012266Z",
     "shell.execute_reply": "2022-06-20T06:13:46.011310Z"
    },
    "papermill": {
     "duration": 0.738622,
     "end_time": "2022-06-20T06:13:46.014258",
     "exception": false,
     "start_time": "2022-06-20T06:13:45.275636",
     "status": "completed"
    },
    "tags": []
   },
   "outputs": [
    {
     "data": {
      "text/html": [
       "<div>\n",
       "<style scoped>\n",
       "    .dataframe tbody tr th:only-of-type {\n",
       "        vertical-align: middle;\n",
       "    }\n",
       "\n",
       "    .dataframe tbody tr th {\n",
       "        vertical-align: top;\n",
       "    }\n",
       "\n",
       "    .dataframe thead tr th {\n",
       "        text-align: left;\n",
       "    }\n",
       "\n",
       "    .dataframe thead tr:last-of-type th {\n",
       "        text-align: right;\n",
       "    }\n",
       "</style>\n",
       "<table border=\"1\" class=\"dataframe\">\n",
       "  <thead>\n",
       "    <tr>\n",
       "      <th></th>\n",
       "      <th></th>\n",
       "      <th colspan=\"3\" halign=\"left\">ride_length_s</th>\n",
       "    </tr>\n",
       "    <tr>\n",
       "      <th></th>\n",
       "      <th></th>\n",
       "      <th>count</th>\n",
       "      <th>median</th>\n",
       "      <th>mean</th>\n",
       "    </tr>\n",
       "    <tr>\n",
       "      <th>member_casual</th>\n",
       "      <th>rideable_type</th>\n",
       "      <th></th>\n",
       "      <th></th>\n",
       "      <th></th>\n",
       "    </tr>\n",
       "  </thead>\n",
       "  <tbody>\n",
       "    <tr>\n",
       "      <th rowspan=\"3\" valign=\"top\">casual</th>\n",
       "      <th>classic_bike</th>\n",
       "      <td>70801</td>\n",
       "      <td>16.533333</td>\n",
       "      <td>28.041068</td>\n",
       "    </tr>\n",
       "    <tr>\n",
       "      <th>docked_bike</th>\n",
       "      <td>1116558</td>\n",
       "      <td>23.550000</td>\n",
       "      <td>44.977184</td>\n",
       "    </tr>\n",
       "    <tr>\n",
       "      <th>electric_bike</th>\n",
       "      <td>242992</td>\n",
       "      <td>13.766667</td>\n",
       "      <td>21.629821</td>\n",
       "    </tr>\n",
       "    <tr>\n",
       "      <th rowspan=\"3\" valign=\"top\">member</th>\n",
       "      <th>classic_bike</th>\n",
       "      <td>249072</td>\n",
       "      <td>9.733333</td>\n",
       "      <td>13.911221</td>\n",
       "    </tr>\n",
       "    <tr>\n",
       "      <th>docked_bike</th>\n",
       "      <td>1441702</td>\n",
       "      <td>12.516667</td>\n",
       "      <td>23.416529</td>\n",
       "    </tr>\n",
       "    <tr>\n",
       "      <th>electric_bike</th>\n",
       "      <td>368414</td>\n",
       "      <td>9.400000</td>\n",
       "      <td>13.500897</td>\n",
       "    </tr>\n",
       "  </tbody>\n",
       "</table>\n",
       "</div>"
      ],
      "text/plain": [
       "                            ride_length_s                      \n",
       "                                    count     median       mean\n",
       "member_casual rideable_type                                    \n",
       "casual        classic_bike          70801  16.533333  28.041068\n",
       "              docked_bike         1116558  23.550000  44.977184\n",
       "              electric_bike        242992  13.766667  21.629821\n",
       "member        classic_bike         249072   9.733333  13.911221\n",
       "              docked_bike         1441702  12.516667  23.416529\n",
       "              electric_bike        368414   9.400000  13.500897"
      ]
     },
     "execution_count": 55,
     "metadata": {},
     "output_type": "execute_result"
    }
   ],
   "source": [
    "tripdataV2.groupby([\"member_casual\", \"rideable_type\"]).aggregate({\"ride_length_s\":['count', 'median', \"mean\"]})"
   ]
  },
  {
   "cell_type": "markdown",
   "id": "437ac20b",
   "metadata": {
    "papermill": {
     "duration": 0.029408,
     "end_time": "2022-06-20T06:13:46.073784",
     "exception": false,
     "start_time": "2022-06-20T06:13:46.044376",
     "status": "completed"
    },
    "tags": []
   },
   "source": [
    "**Watching the main differences between casual and member by weekday by ride_length in seconds**"
   ]
  },
  {
   "cell_type": "code",
   "execution_count": 56,
   "id": "e964de7e",
   "metadata": {
    "execution": {
     "iopub.execute_input": "2022-06-20T06:13:46.135490Z",
     "iopub.status.busy": "2022-06-20T06:13:46.135069Z",
     "iopub.status.idle": "2022-06-20T06:13:47.816605Z",
     "shell.execute_reply": "2022-06-20T06:13:47.815868Z"
    },
    "papermill": {
     "duration": 1.714752,
     "end_time": "2022-06-20T06:13:47.818445",
     "exception": false,
     "start_time": "2022-06-20T06:13:46.103693",
     "status": "completed"
    },
    "tags": []
   },
   "outputs": [
    {
     "data": {
      "text/html": [
       "<div>\n",
       "<style scoped>\n",
       "    .dataframe tbody tr th:only-of-type {\n",
       "        vertical-align: middle;\n",
       "    }\n",
       "\n",
       "    .dataframe tbody tr th {\n",
       "        vertical-align: top;\n",
       "    }\n",
       "\n",
       "    .dataframe thead tr th {\n",
       "        text-align: left;\n",
       "    }\n",
       "\n",
       "    .dataframe thead tr:last-of-type th {\n",
       "        text-align: right;\n",
       "    }\n",
       "</style>\n",
       "<table border=\"1\" class=\"dataframe\">\n",
       "  <thead>\n",
       "    <tr>\n",
       "      <th></th>\n",
       "      <th></th>\n",
       "      <th></th>\n",
       "      <th colspan=\"3\" halign=\"left\">ride_length_s</th>\n",
       "    </tr>\n",
       "    <tr>\n",
       "      <th></th>\n",
       "      <th></th>\n",
       "      <th></th>\n",
       "      <th>count</th>\n",
       "      <th>median</th>\n",
       "      <th>mean</th>\n",
       "    </tr>\n",
       "    <tr>\n",
       "      <th>dayofweek_weekday</th>\n",
       "      <th>member_casual</th>\n",
       "      <th>rideable_type</th>\n",
       "      <th></th>\n",
       "      <th></th>\n",
       "      <th></th>\n",
       "    </tr>\n",
       "  </thead>\n",
       "  <tbody>\n",
       "    <tr>\n",
       "      <th rowspan=\"6\" valign=\"top\">0 - Monday</th>\n",
       "      <th rowspan=\"3\" valign=\"top\">casual</th>\n",
       "      <th>classic_bike</th>\n",
       "      <td>8992</td>\n",
       "      <td>17.208333</td>\n",
       "      <td>28.997201</td>\n",
       "    </tr>\n",
       "    <tr>\n",
       "      <th>docked_bike</th>\n",
       "      <td>114928</td>\n",
       "      <td>23.450000</td>\n",
       "      <td>44.666902</td>\n",
       "    </tr>\n",
       "    <tr>\n",
       "      <th>electric_bike</th>\n",
       "      <td>27540</td>\n",
       "      <td>12.900000</td>\n",
       "      <td>20.724375</td>\n",
       "    </tr>\n",
       "    <tr>\n",
       "      <th rowspan=\"3\" valign=\"top\">member</th>\n",
       "      <th>classic_bike</th>\n",
       "      <td>37144</td>\n",
       "      <td>9.550000</td>\n",
       "      <td>14.009176</td>\n",
       "    </tr>\n",
       "    <tr>\n",
       "      <th>docked_bike</th>\n",
       "      <td>182339</td>\n",
       "      <td>11.750000</td>\n",
       "      <td>21.538065</td>\n",
       "    </tr>\n",
       "    <tr>\n",
       "      <th>electric_bike</th>\n",
       "      <td>48613</td>\n",
       "      <td>8.833333</td>\n",
       "      <td>12.672820</td>\n",
       "    </tr>\n",
       "    <tr>\n",
       "      <th rowspan=\"6\" valign=\"top\">1 - Tuesday</th>\n",
       "      <th rowspan=\"3\" valign=\"top\">member</th>\n",
       "      <th>electric_bike</th>\n",
       "      <td>51477</td>\n",
       "      <td>8.900000</td>\n",
       "      <td>13.411097</td>\n",
       "    </tr>\n",
       "    <tr>\n",
       "      <th>classic_bike</th>\n",
       "      <td>37956</td>\n",
       "      <td>9.500000</td>\n",
       "      <td>13.349931</td>\n",
       "    </tr>\n",
       "    <tr>\n",
       "      <th>docked_bike</th>\n",
       "      <td>196015</td>\n",
       "      <td>11.800000</td>\n",
       "      <td>22.586971</td>\n",
       "    </tr>\n",
       "    <tr>\n",
       "      <th rowspan=\"3\" valign=\"top\">casual</th>\n",
       "      <th>docked_bike</th>\n",
       "      <td>109558</td>\n",
       "      <td>21.766667</td>\n",
       "      <td>42.447791</td>\n",
       "    </tr>\n",
       "    <tr>\n",
       "      <th>classic_bike</th>\n",
       "      <td>8370</td>\n",
       "      <td>15.375000</td>\n",
       "      <td>26.701006</td>\n",
       "    </tr>\n",
       "    <tr>\n",
       "      <th>electric_bike</th>\n",
       "      <td>27707</td>\n",
       "      <td>12.466667</td>\n",
       "      <td>20.026992</td>\n",
       "    </tr>\n",
       "    <tr>\n",
       "      <th rowspan=\"6\" valign=\"top\">2 - Wednesday</th>\n",
       "      <th rowspan=\"3\" valign=\"top\">casual</th>\n",
       "      <th>classic_bike</th>\n",
       "      <td>7586</td>\n",
       "      <td>14.483333</td>\n",
       "      <td>24.500475</td>\n",
       "    </tr>\n",
       "    <tr>\n",
       "      <th>docked_bike</th>\n",
       "      <td>120174</td>\n",
       "      <td>20.900000</td>\n",
       "      <td>40.569878</td>\n",
       "    </tr>\n",
       "    <tr>\n",
       "      <th>electric_bike</th>\n",
       "      <td>30931</td>\n",
       "      <td>12.516667</td>\n",
       "      <td>19.261516</td>\n",
       "    </tr>\n",
       "    <tr>\n",
       "      <th rowspan=\"3\" valign=\"top\">member</th>\n",
       "      <th>classic_bike</th>\n",
       "      <td>38304</td>\n",
       "      <td>9.400000</td>\n",
       "      <td>13.303673</td>\n",
       "    </tr>\n",
       "    <tr>\n",
       "      <th>docked_bike</th>\n",
       "      <td>212367</td>\n",
       "      <td>11.800000</td>\n",
       "      <td>22.407679</td>\n",
       "    </tr>\n",
       "    <tr>\n",
       "      <th>electric_bike</th>\n",
       "      <td>55442</td>\n",
       "      <td>9.266667</td>\n",
       "      <td>12.988666</td>\n",
       "    </tr>\n",
       "    <tr>\n",
       "      <th rowspan=\"6\" valign=\"top\">3 - Thursday</th>\n",
       "      <th rowspan=\"3\" valign=\"top\">member</th>\n",
       "      <th>docked_bike</th>\n",
       "      <td>212305</td>\n",
       "      <td>11.916667</td>\n",
       "      <td>21.554567</td>\n",
       "    </tr>\n",
       "    <tr>\n",
       "      <th>electric_bike</th>\n",
       "      <td>55865</td>\n",
       "      <td>9.033333</td>\n",
       "      <td>12.602097</td>\n",
       "    </tr>\n",
       "    <tr>\n",
       "      <th>classic_bike</th>\n",
       "      <td>33151</td>\n",
       "      <td>9.116667</td>\n",
       "      <td>12.791478</td>\n",
       "    </tr>\n",
       "    <tr>\n",
       "      <th rowspan=\"3\" valign=\"top\">casual</th>\n",
       "      <th>electric_bike</th>\n",
       "      <td>32035</td>\n",
       "      <td>12.450000</td>\n",
       "      <td>19.288214</td>\n",
       "    </tr>\n",
       "    <tr>\n",
       "      <th>docked_bike</th>\n",
       "      <td>128477</td>\n",
       "      <td>21.133333</td>\n",
       "      <td>40.844973</td>\n",
       "    </tr>\n",
       "    <tr>\n",
       "      <th>classic_bike</th>\n",
       "      <td>6160</td>\n",
       "      <td>13.450000</td>\n",
       "      <td>22.906120</td>\n",
       "    </tr>\n",
       "    <tr>\n",
       "      <th rowspan=\"6\" valign=\"top\">4 - Friday</th>\n",
       "      <th rowspan=\"3\" valign=\"top\">casual</th>\n",
       "      <th>classic_bike</th>\n",
       "      <td>7507</td>\n",
       "      <td>13.600000</td>\n",
       "      <td>24.253534</td>\n",
       "    </tr>\n",
       "    <tr>\n",
       "      <th>docked_bike</th>\n",
       "      <td>164271</td>\n",
       "      <td>22.100000</td>\n",
       "      <td>44.145811</td>\n",
       "    </tr>\n",
       "    <tr>\n",
       "      <th>electric_bike</th>\n",
       "      <td>37353</td>\n",
       "      <td>13.233333</td>\n",
       "      <td>20.386666</td>\n",
       "    </tr>\n",
       "    <tr>\n",
       "      <th rowspan=\"3\" valign=\"top\">member</th>\n",
       "      <th>classic_bike</th>\n",
       "      <td>33911</td>\n",
       "      <td>9.266667</td>\n",
       "      <td>13.187411</td>\n",
       "    </tr>\n",
       "    <tr>\n",
       "      <th>docked_bike</th>\n",
       "      <td>216794</td>\n",
       "      <td>12.283333</td>\n",
       "      <td>24.659889</td>\n",
       "    </tr>\n",
       "    <tr>\n",
       "      <th>electric_bike</th>\n",
       "      <td>56966</td>\n",
       "      <td>9.366667</td>\n",
       "      <td>13.324976</td>\n",
       "    </tr>\n",
       "    <tr>\n",
       "      <th rowspan=\"6\" valign=\"top\">5 - Saturday</th>\n",
       "      <th rowspan=\"3\" valign=\"top\">member</th>\n",
       "      <th>electric_bike</th>\n",
       "      <td>55594</td>\n",
       "      <td>10.516667</td>\n",
       "      <td>14.740938</td>\n",
       "    </tr>\n",
       "    <tr>\n",
       "      <th>docked_bike</th>\n",
       "      <td>230831</td>\n",
       "      <td>14.050000</td>\n",
       "      <td>25.402722</td>\n",
       "    </tr>\n",
       "    <tr>\n",
       "      <th>classic_bike</th>\n",
       "      <td>37858</td>\n",
       "      <td>10.933333</td>\n",
       "      <td>15.297480</td>\n",
       "    </tr>\n",
       "    <tr>\n",
       "      <th rowspan=\"3\" valign=\"top\">casual</th>\n",
       "      <th>docked_bike</th>\n",
       "      <td>268363</td>\n",
       "      <td>25.333333</td>\n",
       "      <td>47.555134</td>\n",
       "    </tr>\n",
       "    <tr>\n",
       "      <th>classic_bike</th>\n",
       "      <td>18159</td>\n",
       "      <td>18.483333</td>\n",
       "      <td>29.786651</td>\n",
       "    </tr>\n",
       "    <tr>\n",
       "      <th>electric_bike</th>\n",
       "      <td>49379</td>\n",
       "      <td>15.966667</td>\n",
       "      <td>24.303418</td>\n",
       "    </tr>\n",
       "    <tr>\n",
       "      <th rowspan=\"6\" valign=\"top\">6 - Sunday</th>\n",
       "      <th>member</th>\n",
       "      <th>docked_bike</th>\n",
       "      <td>191051</td>\n",
       "      <td>14.216667</td>\n",
       "      <td>25.440315</td>\n",
       "    </tr>\n",
       "    <tr>\n",
       "      <th rowspan=\"3\" valign=\"top\">casual</th>\n",
       "      <th>classic_bike</th>\n",
       "      <td>14027</td>\n",
       "      <td>19.366667</td>\n",
       "      <td>32.164826</td>\n",
       "    </tr>\n",
       "    <tr>\n",
       "      <th>docked_bike</th>\n",
       "      <td>210787</td>\n",
       "      <td>26.633333</td>\n",
       "      <td>48.858152</td>\n",
       "    </tr>\n",
       "    <tr>\n",
       "      <th>electric_bike</th>\n",
       "      <td>38047</td>\n",
       "      <td>15.783333</td>\n",
       "      <td>25.099977</td>\n",
       "    </tr>\n",
       "    <tr>\n",
       "      <th rowspan=\"2\" valign=\"top\">member</th>\n",
       "      <th>classic_bike</th>\n",
       "      <td>30748</td>\n",
       "      <td>10.783333</td>\n",
       "      <td>15.541313</td>\n",
       "    </tr>\n",
       "    <tr>\n",
       "      <th>electric_bike</th>\n",
       "      <td>44457</td>\n",
       "      <td>10.100000</td>\n",
       "      <td>14.953342</td>\n",
       "    </tr>\n",
       "  </tbody>\n",
       "</table>\n",
       "</div>"
      ],
      "text/plain": [
       "                                              ride_length_s             \\\n",
       "                                                      count     median   \n",
       "dayofweek_weekday member_casual rideable_type                            \n",
       "0 - Monday        casual        classic_bike           8992  17.208333   \n",
       "                                docked_bike          114928  23.450000   \n",
       "                                electric_bike         27540  12.900000   \n",
       "                  member        classic_bike          37144   9.550000   \n",
       "                                docked_bike          182339  11.750000   \n",
       "                                electric_bike         48613   8.833333   \n",
       "1 - Tuesday       member        electric_bike         51477   8.900000   \n",
       "                                classic_bike          37956   9.500000   \n",
       "                                docked_bike          196015  11.800000   \n",
       "                  casual        docked_bike          109558  21.766667   \n",
       "                                classic_bike           8370  15.375000   \n",
       "                                electric_bike         27707  12.466667   \n",
       "2 - Wednesday     casual        classic_bike           7586  14.483333   \n",
       "                                docked_bike          120174  20.900000   \n",
       "                                electric_bike         30931  12.516667   \n",
       "                  member        classic_bike          38304   9.400000   \n",
       "                                docked_bike          212367  11.800000   \n",
       "                                electric_bike         55442   9.266667   \n",
       "3 - Thursday      member        docked_bike          212305  11.916667   \n",
       "                                electric_bike         55865   9.033333   \n",
       "                                classic_bike          33151   9.116667   \n",
       "                  casual        electric_bike         32035  12.450000   \n",
       "                                docked_bike          128477  21.133333   \n",
       "                                classic_bike           6160  13.450000   \n",
       "4 - Friday        casual        classic_bike           7507  13.600000   \n",
       "                                docked_bike          164271  22.100000   \n",
       "                                electric_bike         37353  13.233333   \n",
       "                  member        classic_bike          33911   9.266667   \n",
       "                                docked_bike          216794  12.283333   \n",
       "                                electric_bike         56966   9.366667   \n",
       "5 - Saturday      member        electric_bike         55594  10.516667   \n",
       "                                docked_bike          230831  14.050000   \n",
       "                                classic_bike          37858  10.933333   \n",
       "                  casual        docked_bike          268363  25.333333   \n",
       "                                classic_bike          18159  18.483333   \n",
       "                                electric_bike         49379  15.966667   \n",
       "6 - Sunday        member        docked_bike          191051  14.216667   \n",
       "                  casual        classic_bike          14027  19.366667   \n",
       "                                docked_bike          210787  26.633333   \n",
       "                                electric_bike         38047  15.783333   \n",
       "                  member        classic_bike          30748  10.783333   \n",
       "                                electric_bike         44457  10.100000   \n",
       "\n",
       "                                                          \n",
       "                                                    mean  \n",
       "dayofweek_weekday member_casual rideable_type             \n",
       "0 - Monday        casual        classic_bike   28.997201  \n",
       "                                docked_bike    44.666902  \n",
       "                                electric_bike  20.724375  \n",
       "                  member        classic_bike   14.009176  \n",
       "                                docked_bike    21.538065  \n",
       "                                electric_bike  12.672820  \n",
       "1 - Tuesday       member        electric_bike  13.411097  \n",
       "                                classic_bike   13.349931  \n",
       "                                docked_bike    22.586971  \n",
       "                  casual        docked_bike    42.447791  \n",
       "                                classic_bike   26.701006  \n",
       "                                electric_bike  20.026992  \n",
       "2 - Wednesday     casual        classic_bike   24.500475  \n",
       "                                docked_bike    40.569878  \n",
       "                                electric_bike  19.261516  \n",
       "                  member        classic_bike   13.303673  \n",
       "                                docked_bike    22.407679  \n",
       "                                electric_bike  12.988666  \n",
       "3 - Thursday      member        docked_bike    21.554567  \n",
       "                                electric_bike  12.602097  \n",
       "                                classic_bike   12.791478  \n",
       "                  casual        electric_bike  19.288214  \n",
       "                                docked_bike    40.844973  \n",
       "                                classic_bike   22.906120  \n",
       "4 - Friday        casual        classic_bike   24.253534  \n",
       "                                docked_bike    44.145811  \n",
       "                                electric_bike  20.386666  \n",
       "                  member        classic_bike   13.187411  \n",
       "                                docked_bike    24.659889  \n",
       "                                electric_bike  13.324976  \n",
       "5 - Saturday      member        electric_bike  14.740938  \n",
       "                                docked_bike    25.402722  \n",
       "                                classic_bike   15.297480  \n",
       "                  casual        docked_bike    47.555134  \n",
       "                                classic_bike   29.786651  \n",
       "                                electric_bike  24.303418  \n",
       "6 - Sunday        member        docked_bike    25.440315  \n",
       "                  casual        classic_bike   32.164826  \n",
       "                                docked_bike    48.858152  \n",
       "                                electric_bike  25.099977  \n",
       "                  member        classic_bike   15.541313  \n",
       "                                electric_bike  14.953342  "
      ]
     },
     "execution_count": 56,
     "metadata": {},
     "output_type": "execute_result"
    }
   ],
   "source": [
    "\n",
    "tripdataV2.groupby([\"dayofweek_weekday\", \"member_casual\", \"rideable_type\"]).aggregate({\"ride_length_s\":['count', 'median', \"mean\"]}).sort_values(\"dayofweek_weekday\")"
   ]
  },
  {
   "cell_type": "markdown",
   "id": "e4661778",
   "metadata": {
    "papermill": {
     "duration": 0.031109,
     "end_time": "2022-06-20T06:13:47.880707",
     "exception": false,
     "start_time": "2022-06-20T06:13:47.849598",
     "status": "completed"
    },
    "tags": []
   },
   "source": [
    "**Watching the main differences between casual and member by year_month by ride_length in seconds**"
   ]
  },
  {
   "cell_type": "markdown",
   "id": "ed3fa85c",
   "metadata": {
    "papermill": {
     "duration": 0.029912,
     "end_time": "2022-06-20T06:13:47.941290",
     "exception": false,
     "start_time": "2022-06-20T06:13:47.911378",
     "status": "completed"
    },
    "tags": []
   },
   "source": [
    "* **Using only the count to show it as percentages**\n",
    "* **So we had to assign it into a new variable**"
   ]
  },
  {
   "cell_type": "code",
   "execution_count": 57,
   "id": "38bd74de",
   "metadata": {
    "execution": {
     "iopub.execute_input": "2022-06-20T06:13:48.004948Z",
     "iopub.status.busy": "2022-06-20T06:13:48.004564Z",
     "iopub.status.idle": "2022-06-20T06:13:49.597463Z",
     "shell.execute_reply": "2022-06-20T06:13:49.596452Z"
    },
    "papermill": {
     "duration": 1.627498,
     "end_time": "2022-06-20T06:13:49.599675",
     "exception": false,
     "start_time": "2022-06-20T06:13:47.972177",
     "status": "completed"
    },
    "tags": []
   },
   "outputs": [],
   "source": [
    "# assigning the count grouped by year_month, rideable_type and member_casual to a variable so we can then see them by percentage\n",
    "\n",
    "\n",
    "perc_overtime = tripdataV2.groupby([\"year_month\", \"member_casual\", \"rideable_type\"]).aggregate({\"ride_length_s\": 'count'})\n"
   ]
  },
  {
   "cell_type": "code",
   "execution_count": 58,
   "id": "dc9a7b10",
   "metadata": {
    "execution": {
     "iopub.execute_input": "2022-06-20T06:13:49.661761Z",
     "iopub.status.busy": "2022-06-20T06:13:49.661367Z",
     "iopub.status.idle": "2022-06-20T06:13:49.676343Z",
     "shell.execute_reply": "2022-06-20T06:13:49.675441Z"
    },
    "papermill": {
     "duration": 0.048933,
     "end_time": "2022-06-20T06:13:49.678405",
     "exception": false,
     "start_time": "2022-06-20T06:13:49.629472",
     "status": "completed"
    },
    "tags": []
   },
   "outputs": [
    {
     "data": {
      "text/html": [
       "<div>\n",
       "<style scoped>\n",
       "    .dataframe tbody tr th:only-of-type {\n",
       "        vertical-align: middle;\n",
       "    }\n",
       "\n",
       "    .dataframe tbody tr th {\n",
       "        vertical-align: top;\n",
       "    }\n",
       "\n",
       "    .dataframe thead th {\n",
       "        text-align: right;\n",
       "    }\n",
       "</style>\n",
       "<table border=\"1\" class=\"dataframe\">\n",
       "  <thead>\n",
       "    <tr style=\"text-align: right;\">\n",
       "      <th></th>\n",
       "      <th></th>\n",
       "      <th></th>\n",
       "      <th>ride_length_s</th>\n",
       "    </tr>\n",
       "    <tr>\n",
       "      <th>year_month</th>\n",
       "      <th>member_casual</th>\n",
       "      <th>rideable_type</th>\n",
       "      <th></th>\n",
       "    </tr>\n",
       "  </thead>\n",
       "  <tbody>\n",
       "    <tr>\n",
       "      <th rowspan=\"4\" valign=\"top\">2020 - 10 (October)</th>\n",
       "      <th rowspan=\"2\" valign=\"top\">casual</th>\n",
       "      <th>docked_bike</th>\n",
       "      <td>2.289214</td>\n",
       "    </tr>\n",
       "    <tr>\n",
       "      <th>electric_bike</th>\n",
       "      <td>1.866407</td>\n",
       "    </tr>\n",
       "    <tr>\n",
       "      <th rowspan=\"2\" valign=\"top\">member</th>\n",
       "      <th>docked_bike</th>\n",
       "      <td>4.487527</td>\n",
       "    </tr>\n",
       "    <tr>\n",
       "      <th>electric_bike</th>\n",
       "      <td>2.494513</td>\n",
       "    </tr>\n",
       "    <tr>\n",
       "      <th rowspan=\"4\" valign=\"top\">2020 - 11 (November)</th>\n",
       "      <th rowspan=\"2\" valign=\"top\">casual</th>\n",
       "      <th>docked_bike</th>\n",
       "      <td>1.318598</td>\n",
       "    </tr>\n",
       "    <tr>\n",
       "      <th>electric_bike</th>\n",
       "      <td>1.206062</td>\n",
       "    </tr>\n",
       "    <tr>\n",
       "      <th rowspan=\"2\" valign=\"top\">member</th>\n",
       "      <th>docked_bike</th>\n",
       "      <td>3.025299</td>\n",
       "    </tr>\n",
       "    <tr>\n",
       "      <th>electric_bike</th>\n",
       "      <td>1.892743</td>\n",
       "    </tr>\n",
       "    <tr>\n",
       "      <th rowspan=\"6\" valign=\"top\">2020 - 12 (December)</th>\n",
       "      <th rowspan=\"3\" valign=\"top\">casual</th>\n",
       "      <th>classic_bike</th>\n",
       "      <td>0.324369</td>\n",
       "    </tr>\n",
       "    <tr>\n",
       "      <th>docked_bike</th>\n",
       "      <td>0.141652</td>\n",
       "    </tr>\n",
       "    <tr>\n",
       "      <th>electric_bike</th>\n",
       "      <td>0.395267</td>\n",
       "    </tr>\n",
       "    <tr>\n",
       "      <th rowspan=\"3\" valign=\"top\">member</th>\n",
       "      <th>classic_bike</th>\n",
       "      <td>1.699279</td>\n",
       "    </tr>\n",
       "    <tr>\n",
       "      <th>docked_bike</th>\n",
       "      <td>0.225015</td>\n",
       "    </tr>\n",
       "    <tr>\n",
       "      <th>electric_bike</th>\n",
       "      <td>0.978926</td>\n",
       "    </tr>\n",
       "    <tr>\n",
       "      <th rowspan=\"2\" valign=\"top\">2020 - 4 (April)</th>\n",
       "      <th>casual</th>\n",
       "      <th>docked_bike</th>\n",
       "      <td>0.677109</td>\n",
       "    </tr>\n",
       "    <tr>\n",
       "      <th>member</th>\n",
       "      <th>docked_bike</th>\n",
       "      <td>1.752323</td>\n",
       "    </tr>\n",
       "    <tr>\n",
       "      <th rowspan=\"2\" valign=\"top\">2020 - 5 (May)</th>\n",
       "      <th>casual</th>\n",
       "      <th>docked_bike</th>\n",
       "      <td>2.490558</td>\n",
       "    </tr>\n",
       "    <tr>\n",
       "      <th>member</th>\n",
       "      <th>docked_bike</th>\n",
       "      <td>3.248710</td>\n",
       "    </tr>\n",
       "    <tr>\n",
       "      <th rowspan=\"2\" valign=\"top\">2020 - 6 (June)</th>\n",
       "      <th>casual</th>\n",
       "      <th>docked_bike</th>\n",
       "      <td>4.433766</td>\n",
       "    </tr>\n",
       "    <tr>\n",
       "      <th>member</th>\n",
       "      <th>docked_bike</th>\n",
       "      <td>5.395756</td>\n",
       "    </tr>\n",
       "    <tr>\n",
       "      <th rowspan=\"4\" valign=\"top\">2020 - 7 (July)</th>\n",
       "      <th rowspan=\"2\" valign=\"top\">casual</th>\n",
       "      <th>docked_bike</th>\n",
       "      <td>7.693165</td>\n",
       "    </tr>\n",
       "    <tr>\n",
       "      <th>electric_bike</th>\n",
       "      <td>0.024072</td>\n",
       "    </tr>\n",
       "    <tr>\n",
       "      <th rowspan=\"2\" valign=\"top\">member</th>\n",
       "      <th>docked_bike</th>\n",
       "      <td>8.055190</td>\n",
       "    </tr>\n",
       "    <tr>\n",
       "      <th>electric_bike</th>\n",
       "      <td>0.031380</td>\n",
       "    </tr>\n",
       "    <tr>\n",
       "      <th rowspan=\"4\" valign=\"top\">2020 - 8 (August)</th>\n",
       "      <th rowspan=\"2\" valign=\"top\">casual</th>\n",
       "      <th>docked_bike</th>\n",
       "      <td>7.485258</td>\n",
       "    </tr>\n",
       "    <tr>\n",
       "      <th>electric_bike</th>\n",
       "      <td>0.815581</td>\n",
       "    </tr>\n",
       "    <tr>\n",
       "      <th rowspan=\"2\" valign=\"top\">member</th>\n",
       "      <th>docked_bike</th>\n",
       "      <td>8.452836</td>\n",
       "    </tr>\n",
       "    <tr>\n",
       "      <th>electric_bike</th>\n",
       "      <td>1.081375</td>\n",
       "    </tr>\n",
       "    <tr>\n",
       "      <th rowspan=\"4\" valign=\"top\">2020 - 9 (September)</th>\n",
       "      <th rowspan=\"2\" valign=\"top\">casual</th>\n",
       "      <th>docked_bike</th>\n",
       "      <td>4.922541</td>\n",
       "    </tr>\n",
       "    <tr>\n",
       "      <th>electric_bike</th>\n",
       "      <td>1.688418</td>\n",
       "    </tr>\n",
       "    <tr>\n",
       "      <th rowspan=\"2\" valign=\"top\">member</th>\n",
       "      <th>docked_bike</th>\n",
       "      <td>6.672285</td>\n",
       "    </tr>\n",
       "    <tr>\n",
       "      <th>electric_bike</th>\n",
       "      <td>1.989776</td>\n",
       "    </tr>\n",
       "    <tr>\n",
       "      <th rowspan=\"6\" valign=\"top\">2021 - 1 (January)</th>\n",
       "      <th rowspan=\"3\" valign=\"top\">casual</th>\n",
       "      <th>classic_bike</th>\n",
       "      <td>0.236679</td>\n",
       "    </tr>\n",
       "    <tr>\n",
       "      <th>docked_bike</th>\n",
       "      <td>0.060323</td>\n",
       "    </tr>\n",
       "    <tr>\n",
       "      <th>electric_bike</th>\n",
       "      <td>0.222178</td>\n",
       "    </tr>\n",
       "    <tr>\n",
       "      <th rowspan=\"3\" valign=\"top\">member</th>\n",
       "      <th>classic_bike</th>\n",
       "      <td>1.531463</td>\n",
       "    </tr>\n",
       "    <tr>\n",
       "      <th>docked_bike</th>\n",
       "      <td>0.000029</td>\n",
       "    </tr>\n",
       "    <tr>\n",
       "      <th>electric_bike</th>\n",
       "      <td>0.724308</td>\n",
       "    </tr>\n",
       "    <tr>\n",
       "      <th rowspan=\"5\" valign=\"top\">2021 - 2 (February)</th>\n",
       "      <th rowspan=\"3\" valign=\"top\">casual</th>\n",
       "      <th>classic_bike</th>\n",
       "      <td>0.163202</td>\n",
       "    </tr>\n",
       "    <tr>\n",
       "      <th>docked_bike</th>\n",
       "      <td>0.036423</td>\n",
       "    </tr>\n",
       "    <tr>\n",
       "      <th>electric_bike</th>\n",
       "      <td>0.090700</td>\n",
       "    </tr>\n",
       "    <tr>\n",
       "      <th rowspan=\"2\" valign=\"top\">member</th>\n",
       "      <th>classic_bike</th>\n",
       "      <td>0.840140</td>\n",
       "    </tr>\n",
       "    <tr>\n",
       "      <th>electric_bike</th>\n",
       "      <td>0.291557</td>\n",
       "    </tr>\n",
       "    <tr>\n",
       "      <th rowspan=\"5\" valign=\"top\">2021 - 3 (March)</th>\n",
       "      <th rowspan=\"3\" valign=\"top\">casual</th>\n",
       "      <th>classic_bike</th>\n",
       "      <td>1.304700</td>\n",
       "    </tr>\n",
       "    <tr>\n",
       "      <th>docked_bike</th>\n",
       "      <td>0.448684</td>\n",
       "    </tr>\n",
       "    <tr>\n",
       "      <th>electric_bike</th>\n",
       "      <td>0.654757</td>\n",
       "    </tr>\n",
       "    <tr>\n",
       "      <th rowspan=\"2\" valign=\"top\">member</th>\n",
       "      <th>classic_bike</th>\n",
       "      <td>3.066795</td>\n",
       "    </tr>\n",
       "    <tr>\n",
       "      <th>electric_bike</th>\n",
       "      <td>1.073093</td>\n",
       "    </tr>\n",
       "  </tbody>\n",
       "</table>\n",
       "</div>"
      ],
      "text/plain": [
       "                                                  ride_length_s\n",
       "year_month           member_casual rideable_type               \n",
       "2020 - 10 (October)  casual        docked_bike         2.289214\n",
       "                                   electric_bike       1.866407\n",
       "                     member        docked_bike         4.487527\n",
       "                                   electric_bike       2.494513\n",
       "2020 - 11 (November) casual        docked_bike         1.318598\n",
       "                                   electric_bike       1.206062\n",
       "                     member        docked_bike         3.025299\n",
       "                                   electric_bike       1.892743\n",
       "2020 - 12 (December) casual        classic_bike        0.324369\n",
       "                                   docked_bike         0.141652\n",
       "                                   electric_bike       0.395267\n",
       "                     member        classic_bike        1.699279\n",
       "                                   docked_bike         0.225015\n",
       "                                   electric_bike       0.978926\n",
       "2020 - 4 (April)     casual        docked_bike         0.677109\n",
       "                     member        docked_bike         1.752323\n",
       "2020 - 5 (May)       casual        docked_bike         2.490558\n",
       "                     member        docked_bike         3.248710\n",
       "2020 - 6 (June)      casual        docked_bike         4.433766\n",
       "                     member        docked_bike         5.395756\n",
       "2020 - 7 (July)      casual        docked_bike         7.693165\n",
       "                                   electric_bike       0.024072\n",
       "                     member        docked_bike         8.055190\n",
       "                                   electric_bike       0.031380\n",
       "2020 - 8 (August)    casual        docked_bike         7.485258\n",
       "                                   electric_bike       0.815581\n",
       "                     member        docked_bike         8.452836\n",
       "                                   electric_bike       1.081375\n",
       "2020 - 9 (September) casual        docked_bike         4.922541\n",
       "                                   electric_bike       1.688418\n",
       "                     member        docked_bike         6.672285\n",
       "                                   electric_bike       1.989776\n",
       "2021 - 1 (January)   casual        classic_bike        0.236679\n",
       "                                   docked_bike         0.060323\n",
       "                                   electric_bike       0.222178\n",
       "                     member        classic_bike        1.531463\n",
       "                                   docked_bike         0.000029\n",
       "                                   electric_bike       0.724308\n",
       "2021 - 2 (February)  casual        classic_bike        0.163202\n",
       "                                   docked_bike         0.036423\n",
       "                                   electric_bike       0.090700\n",
       "                     member        classic_bike        0.840140\n",
       "                                   electric_bike       0.291557\n",
       "2021 - 3 (March)     casual        classic_bike        1.304700\n",
       "                                   docked_bike         0.448684\n",
       "                                   electric_bike       0.654757\n",
       "                     member        classic_bike        3.066795\n",
       "                                   electric_bike       1.073093"
      ]
     },
     "execution_count": 58,
     "metadata": {},
     "output_type": "execute_result"
    }
   ],
   "source": [
    "# using the new variable so we can see the result in percentage\n",
    "\n",
    "\n",
    "perc_overtime/ len(tripdataV2) * 100\n"
   ]
  },
  {
   "cell_type": "code",
   "execution_count": 59,
   "id": "08734f4e",
   "metadata": {
    "execution": {
     "iopub.execute_input": "2022-06-20T06:13:49.741291Z",
     "iopub.status.busy": "2022-06-20T06:13:49.740902Z",
     "iopub.status.idle": "2022-06-20T06:13:51.199016Z",
     "shell.execute_reply": "2022-06-20T06:13:51.197972Z"
    },
    "papermill": {
     "duration": 1.492104,
     "end_time": "2022-06-20T06:13:51.201011",
     "exception": false,
     "start_time": "2022-06-20T06:13:49.708907",
     "status": "completed"
    },
    "tags": []
   },
   "outputs": [
    {
     "data": {
      "text/html": [
       "<div>\n",
       "<style scoped>\n",
       "    .dataframe tbody tr th:only-of-type {\n",
       "        vertical-align: middle;\n",
       "    }\n",
       "\n",
       "    .dataframe tbody tr th {\n",
       "        vertical-align: top;\n",
       "    }\n",
       "\n",
       "    .dataframe thead tr th {\n",
       "        text-align: left;\n",
       "    }\n",
       "\n",
       "    .dataframe thead tr:last-of-type th {\n",
       "        text-align: right;\n",
       "    }\n",
       "</style>\n",
       "<table border=\"1\" class=\"dataframe\">\n",
       "  <thead>\n",
       "    <tr>\n",
       "      <th></th>\n",
       "      <th></th>\n",
       "      <th colspan=\"3\" halign=\"left\">ride_length_s</th>\n",
       "    </tr>\n",
       "    <tr>\n",
       "      <th></th>\n",
       "      <th></th>\n",
       "      <th>count</th>\n",
       "      <th>median</th>\n",
       "      <th>mean</th>\n",
       "    </tr>\n",
       "    <tr>\n",
       "      <th>year_month</th>\n",
       "      <th>member_casual</th>\n",
       "      <th></th>\n",
       "      <th></th>\n",
       "      <th></th>\n",
       "    </tr>\n",
       "  </thead>\n",
       "  <tbody>\n",
       "    <tr>\n",
       "      <th rowspan=\"2\" valign=\"top\">2020 - 10 (October)</th>\n",
       "      <th>casual</th>\n",
       "      <td>145012</td>\n",
       "      <td>16.116667</td>\n",
       "      <td>31.995124</td>\n",
       "    </tr>\n",
       "    <tr>\n",
       "      <th>member</th>\n",
       "      <td>243641</td>\n",
       "      <td>9.950000</td>\n",
       "      <td>22.076623</td>\n",
       "    </tr>\n",
       "    <tr>\n",
       "      <th rowspan=\"2\" valign=\"top\">2020 - 11 (November)</th>\n",
       "      <th>casual</th>\n",
       "      <td>88099</td>\n",
       "      <td>16.450000</td>\n",
       "      <td>31.137303</td>\n",
       "    </tr>\n",
       "    <tr>\n",
       "      <th>member</th>\n",
       "      <td>171617</td>\n",
       "      <td>9.633333</td>\n",
       "      <td>19.043072</td>\n",
       "    </tr>\n",
       "    <tr>\n",
       "      <th rowspan=\"2\" valign=\"top\">2020 - 12 (December)</th>\n",
       "      <th>casual</th>\n",
       "      <td>30055</td>\n",
       "      <td>13.500000</td>\n",
       "      <td>24.254744</td>\n",
       "    </tr>\n",
       "    <tr>\n",
       "      <th>member</th>\n",
       "      <td>101309</td>\n",
       "      <td>8.983333</td>\n",
       "      <td>13.803581</td>\n",
       "    </tr>\n",
       "    <tr>\n",
       "      <th rowspan=\"2\" valign=\"top\">2020 - 4 (April)</th>\n",
       "      <th>casual</th>\n",
       "      <td>23628</td>\n",
       "      <td>25.283333</td>\n",
       "      <td>43.147367</td>\n",
       "    </tr>\n",
       "    <tr>\n",
       "      <th>member</th>\n",
       "      <td>61148</td>\n",
       "      <td>13.716667</td>\n",
       "      <td>19.018361</td>\n",
       "    </tr>\n",
       "    <tr>\n",
       "      <th rowspan=\"2\" valign=\"top\">2020 - 5 (May)</th>\n",
       "      <th>casual</th>\n",
       "      <td>86909</td>\n",
       "      <td>26.600000</td>\n",
       "      <td>46.307785</td>\n",
       "    </tr>\n",
       "    <tr>\n",
       "      <th>member</th>\n",
       "      <td>113365</td>\n",
       "      <td>15.233333</td>\n",
       "      <td>20.744289</td>\n",
       "    </tr>\n",
       "    <tr>\n",
       "      <th rowspan=\"2\" valign=\"top\">2020 - 6 (June)</th>\n",
       "      <th>member</th>\n",
       "      <td>188287</td>\n",
       "      <td>14.350000</td>\n",
       "      <td>20.597896</td>\n",
       "    </tr>\n",
       "    <tr>\n",
       "      <th>casual</th>\n",
       "      <td>154718</td>\n",
       "      <td>24.666667</td>\n",
       "      <td>44.751047</td>\n",
       "    </tr>\n",
       "    <tr>\n",
       "      <th rowspan=\"2\" valign=\"top\">2020 - 7 (July)</th>\n",
       "      <th>casual</th>\n",
       "      <td>269296</td>\n",
       "      <td>25.483333</td>\n",
       "      <td>48.844506</td>\n",
       "    </tr>\n",
       "    <tr>\n",
       "      <th>member</th>\n",
       "      <td>282184</td>\n",
       "      <td>13.450000</td>\n",
       "      <td>23.103759</td>\n",
       "    </tr>\n",
       "    <tr>\n",
       "      <th rowspan=\"2\" valign=\"top\">2020 - 8 (August)</th>\n",
       "      <th>casual</th>\n",
       "      <td>289661</td>\n",
       "      <td>22.250000</td>\n",
       "      <td>42.947653</td>\n",
       "    </tr>\n",
       "    <tr>\n",
       "      <th>member</th>\n",
       "      <td>332700</td>\n",
       "      <td>12.383333</td>\n",
       "      <td>23.763902</td>\n",
       "    </tr>\n",
       "    <tr>\n",
       "      <th rowspan=\"2\" valign=\"top\">2020 - 9 (September)</th>\n",
       "      <th>casual</th>\n",
       "      <td>230692</td>\n",
       "      <td>19.333333</td>\n",
       "      <td>36.268502</td>\n",
       "    </tr>\n",
       "    <tr>\n",
       "      <th>member</th>\n",
       "      <td>302266</td>\n",
       "      <td>11.166667</td>\n",
       "      <td>22.168619</td>\n",
       "    </tr>\n",
       "    <tr>\n",
       "      <th rowspan=\"2\" valign=\"top\">2021 - 1 (January)</th>\n",
       "      <th>casual</th>\n",
       "      <td>18117</td>\n",
       "      <td>12.283333</td>\n",
       "      <td>21.869389</td>\n",
       "    </tr>\n",
       "    <tr>\n",
       "      <th>member</th>\n",
       "      <td>78717</td>\n",
       "      <td>8.700000</td>\n",
       "      <td>12.725589</td>\n",
       "    </tr>\n",
       "    <tr>\n",
       "      <th rowspan=\"2\" valign=\"top\">2021 - 2 (February)</th>\n",
       "      <th>casual</th>\n",
       "      <td>10131</td>\n",
       "      <td>16.116667</td>\n",
       "      <td>31.890256</td>\n",
       "    </tr>\n",
       "    <tr>\n",
       "      <th>member</th>\n",
       "      <td>39491</td>\n",
       "      <td>10.133333</td>\n",
       "      <td>15.870709</td>\n",
       "    </tr>\n",
       "    <tr>\n",
       "      <th rowspan=\"2\" valign=\"top\">2021 - 3 (March)</th>\n",
       "      <th>casual</th>\n",
       "      <td>84033</td>\n",
       "      <td>18.716667</td>\n",
       "      <td>32.143952</td>\n",
       "    </tr>\n",
       "    <tr>\n",
       "      <th>member</th>\n",
       "      <td>144463</td>\n",
       "      <td>9.983333</td>\n",
       "      <td>13.880244</td>\n",
       "    </tr>\n",
       "  </tbody>\n",
       "</table>\n",
       "</div>"
      ],
      "text/plain": [
       "                                   ride_length_s                      \n",
       "                                           count     median       mean\n",
       "year_month           member_casual                                    \n",
       "2020 - 10 (October)  casual               145012  16.116667  31.995124\n",
       "                     member               243641   9.950000  22.076623\n",
       "2020 - 11 (November) casual                88099  16.450000  31.137303\n",
       "                     member               171617   9.633333  19.043072\n",
       "2020 - 12 (December) casual                30055  13.500000  24.254744\n",
       "                     member               101309   8.983333  13.803581\n",
       "2020 - 4 (April)     casual                23628  25.283333  43.147367\n",
       "                     member                61148  13.716667  19.018361\n",
       "2020 - 5 (May)       casual                86909  26.600000  46.307785\n",
       "                     member               113365  15.233333  20.744289\n",
       "2020 - 6 (June)      member               188287  14.350000  20.597896\n",
       "                     casual               154718  24.666667  44.751047\n",
       "2020 - 7 (July)      casual               269296  25.483333  48.844506\n",
       "                     member               282184  13.450000  23.103759\n",
       "2020 - 8 (August)    casual               289661  22.250000  42.947653\n",
       "                     member               332700  12.383333  23.763902\n",
       "2020 - 9 (September) casual               230692  19.333333  36.268502\n",
       "                     member               302266  11.166667  22.168619\n",
       "2021 - 1 (January)   casual                18117  12.283333  21.869389\n",
       "                     member                78717   8.700000  12.725589\n",
       "2021 - 2 (February)  casual                10131  16.116667  31.890256\n",
       "                     member                39491  10.133333  15.870709\n",
       "2021 - 3 (March)     casual                84033  18.716667  32.143952\n",
       "                     member               144463   9.983333  13.880244"
      ]
     },
     "execution_count": 59,
     "metadata": {},
     "output_type": "execute_result"
    }
   ],
   "source": [
    "# dive deep into the analysis of member and casual over time\n",
    "\n",
    "tripdataV2.groupby([\"year_month\", \"member_casual\"]).aggregate({\"ride_length_s\":['count', 'median', \"mean\"]}).sort_values(\"year_month\")\n"
   ]
  },
  {
   "cell_type": "code",
   "execution_count": 60,
   "id": "f4100df8",
   "metadata": {
    "execution": {
     "iopub.execute_input": "2022-06-20T06:13:51.265433Z",
     "iopub.status.busy": "2022-06-20T06:13:51.264588Z",
     "iopub.status.idle": "2022-06-20T06:13:52.964273Z",
     "shell.execute_reply": "2022-06-20T06:13:52.963175Z"
    },
    "papermill": {
     "duration": 1.734122,
     "end_time": "2022-06-20T06:13:52.966448",
     "exception": false,
     "start_time": "2022-06-20T06:13:51.232326",
     "status": "completed"
    },
    "tags": []
   },
   "outputs": [
    {
     "data": {
      "text/html": [
       "<div>\n",
       "<style scoped>\n",
       "    .dataframe tbody tr th:only-of-type {\n",
       "        vertical-align: middle;\n",
       "    }\n",
       "\n",
       "    .dataframe tbody tr th {\n",
       "        vertical-align: top;\n",
       "    }\n",
       "\n",
       "    .dataframe thead tr th {\n",
       "        text-align: left;\n",
       "    }\n",
       "\n",
       "    .dataframe thead tr:last-of-type th {\n",
       "        text-align: right;\n",
       "    }\n",
       "</style>\n",
       "<table border=\"1\" class=\"dataframe\">\n",
       "  <thead>\n",
       "    <tr>\n",
       "      <th></th>\n",
       "      <th></th>\n",
       "      <th></th>\n",
       "      <th colspan=\"3\" halign=\"left\">ride_length_s</th>\n",
       "    </tr>\n",
       "    <tr>\n",
       "      <th></th>\n",
       "      <th></th>\n",
       "      <th></th>\n",
       "      <th>count</th>\n",
       "      <th>median</th>\n",
       "      <th>mean</th>\n",
       "    </tr>\n",
       "    <tr>\n",
       "      <th>year_month</th>\n",
       "      <th>member_casual</th>\n",
       "      <th>rideable_type</th>\n",
       "      <th></th>\n",
       "      <th></th>\n",
       "      <th></th>\n",
       "    </tr>\n",
       "  </thead>\n",
       "  <tbody>\n",
       "    <tr>\n",
       "      <th rowspan=\"4\" valign=\"top\">2020 - 10 (October)</th>\n",
       "      <th rowspan=\"2\" valign=\"top\">casual</th>\n",
       "      <th>docked_bike</th>\n",
       "      <td>79883</td>\n",
       "      <td>19.400000</td>\n",
       "      <td>41.855253</td>\n",
       "    </tr>\n",
       "    <tr>\n",
       "      <th>electric_bike</th>\n",
       "      <td>65129</td>\n",
       "      <td>13.000000</td>\n",
       "      <td>19.901330</td>\n",
       "    </tr>\n",
       "    <tr>\n",
       "      <th rowspan=\"2\" valign=\"top\">member</th>\n",
       "      <th>docked_bike</th>\n",
       "      <td>156594</td>\n",
       "      <td>10.533333</td>\n",
       "      <td>27.378862</td>\n",
       "    </tr>\n",
       "    <tr>\n",
       "      <th>electric_bike</th>\n",
       "      <td>87047</td>\n",
       "      <td>9.000000</td>\n",
       "      <td>12.538113</td>\n",
       "    </tr>\n",
       "    <tr>\n",
       "      <th rowspan=\"4\" valign=\"top\">2020 - 11 (November)</th>\n",
       "      <th rowspan=\"2\" valign=\"top\">casual</th>\n",
       "      <th>docked_bike</th>\n",
       "      <td>46013</td>\n",
       "      <td>20.666667</td>\n",
       "      <td>40.666289</td>\n",
       "    </tr>\n",
       "    <tr>\n",
       "      <th>electric_bike</th>\n",
       "      <td>42086</td>\n",
       "      <td>13.100000</td>\n",
       "      <td>20.719178</td>\n",
       "    </tr>\n",
       "    <tr>\n",
       "      <th rowspan=\"2\" valign=\"top\">member</th>\n",
       "      <th>docked_bike</th>\n",
       "      <td>105569</td>\n",
       "      <td>10.250000</td>\n",
       "      <td>23.107242</td>\n",
       "    </tr>\n",
       "    <tr>\n",
       "      <th>electric_bike</th>\n",
       "      <td>66048</td>\n",
       "      <td>8.750000</td>\n",
       "      <td>12.547033</td>\n",
       "    </tr>\n",
       "    <tr>\n",
       "      <th rowspan=\"6\" valign=\"top\">2020 - 12 (December)</th>\n",
       "      <th rowspan=\"3\" valign=\"top\">member</th>\n",
       "      <th>electric_bike</th>\n",
       "      <td>34160</td>\n",
       "      <td>8.483333</td>\n",
       "      <td>13.451815</td>\n",
       "    </tr>\n",
       "    <tr>\n",
       "      <th>docked_bike</th>\n",
       "      <td>7852</td>\n",
       "      <td>8.916667</td>\n",
       "      <td>21.537131</td>\n",
       "    </tr>\n",
       "    <tr>\n",
       "      <th>classic_bike</th>\n",
       "      <td>59297</td>\n",
       "      <td>9.283333</td>\n",
       "      <td>12.982165</td>\n",
       "    </tr>\n",
       "    <tr>\n",
       "      <th rowspan=\"3\" valign=\"top\">casual</th>\n",
       "      <th>electric_bike</th>\n",
       "      <td>13793</td>\n",
       "      <td>11.150000</td>\n",
       "      <td>18.038847</td>\n",
       "    </tr>\n",
       "    <tr>\n",
       "      <th>docked_bike</th>\n",
       "      <td>4943</td>\n",
       "      <td>21.516667</td>\n",
       "      <td>42.460533</td>\n",
       "    </tr>\n",
       "    <tr>\n",
       "      <th>classic_bike</th>\n",
       "      <td>11319</td>\n",
       "      <td>14.083333</td>\n",
       "      <td>23.878797</td>\n",
       "    </tr>\n",
       "    <tr>\n",
       "      <th rowspan=\"2\" valign=\"top\">2020 - 4 (April)</th>\n",
       "      <th>casual</th>\n",
       "      <th>docked_bike</th>\n",
       "      <td>23628</td>\n",
       "      <td>25.283333</td>\n",
       "      <td>43.147367</td>\n",
       "    </tr>\n",
       "    <tr>\n",
       "      <th>member</th>\n",
       "      <th>docked_bike</th>\n",
       "      <td>61148</td>\n",
       "      <td>13.716667</td>\n",
       "      <td>19.018361</td>\n",
       "    </tr>\n",
       "    <tr>\n",
       "      <th rowspan=\"2\" valign=\"top\">2020 - 5 (May)</th>\n",
       "      <th>casual</th>\n",
       "      <th>docked_bike</th>\n",
       "      <td>86909</td>\n",
       "      <td>26.600000</td>\n",
       "      <td>46.307785</td>\n",
       "    </tr>\n",
       "    <tr>\n",
       "      <th>member</th>\n",
       "      <th>docked_bike</th>\n",
       "      <td>113365</td>\n",
       "      <td>15.233333</td>\n",
       "      <td>20.744289</td>\n",
       "    </tr>\n",
       "    <tr>\n",
       "      <th rowspan=\"2\" valign=\"top\">2020 - 6 (June)</th>\n",
       "      <th>casual</th>\n",
       "      <th>docked_bike</th>\n",
       "      <td>154718</td>\n",
       "      <td>24.666667</td>\n",
       "      <td>44.751047</td>\n",
       "    </tr>\n",
       "    <tr>\n",
       "      <th>member</th>\n",
       "      <th>docked_bike</th>\n",
       "      <td>188287</td>\n",
       "      <td>14.350000</td>\n",
       "      <td>20.597896</td>\n",
       "    </tr>\n",
       "    <tr>\n",
       "      <th rowspan=\"4\" valign=\"top\">2020 - 7 (July)</th>\n",
       "      <th rowspan=\"2\" valign=\"top\">member</th>\n",
       "      <th>docked_bike</th>\n",
       "      <td>281089</td>\n",
       "      <td>13.450000</td>\n",
       "      <td>23.128277</td>\n",
       "    </tr>\n",
       "    <tr>\n",
       "      <th>electric_bike</th>\n",
       "      <td>1095</td>\n",
       "      <td>12.550000</td>\n",
       "      <td>16.809985</td>\n",
       "    </tr>\n",
       "    <tr>\n",
       "      <th rowspan=\"2\" valign=\"top\">casual</th>\n",
       "      <th>docked_bike</th>\n",
       "      <td>268456</td>\n",
       "      <td>25.516667</td>\n",
       "      <td>48.913078</td>\n",
       "    </tr>\n",
       "    <tr>\n",
       "      <th>electric_bike</th>\n",
       "      <td>840</td>\n",
       "      <td>15.900000</td>\n",
       "      <td>26.929663</td>\n",
       "    </tr>\n",
       "    <tr>\n",
       "      <th rowspan=\"4\" valign=\"top\">2020 - 8 (August)</th>\n",
       "      <th rowspan=\"2\" valign=\"top\">casual</th>\n",
       "      <th>docked_bike</th>\n",
       "      <td>261201</td>\n",
       "      <td>22.800000</td>\n",
       "      <td>44.649198</td>\n",
       "    </tr>\n",
       "    <tr>\n",
       "      <th>electric_bike</th>\n",
       "      <td>28460</td>\n",
       "      <td>17.350000</td>\n",
       "      <td>27.331165</td>\n",
       "    </tr>\n",
       "    <tr>\n",
       "      <th rowspan=\"2\" valign=\"top\">member</th>\n",
       "      <th>docked_bike</th>\n",
       "      <td>294965</td>\n",
       "      <td>12.416667</td>\n",
       "      <td>24.671719</td>\n",
       "    </tr>\n",
       "    <tr>\n",
       "      <th>electric_bike</th>\n",
       "      <td>37735</td>\n",
       "      <td>12.066667</td>\n",
       "      <td>16.667728</td>\n",
       "    </tr>\n",
       "    <tr>\n",
       "      <th rowspan=\"4\" valign=\"top\">2020 - 9 (September)</th>\n",
       "      <th rowspan=\"2\" valign=\"top\">casual</th>\n",
       "      <th>docked_bike</th>\n",
       "      <td>171774</td>\n",
       "      <td>21.050000</td>\n",
       "      <td>40.691220</td>\n",
       "    </tr>\n",
       "    <tr>\n",
       "      <th>electric_bike</th>\n",
       "      <td>58918</td>\n",
       "      <td>15.200000</td>\n",
       "      <td>23.374175</td>\n",
       "    </tr>\n",
       "    <tr>\n",
       "      <th rowspan=\"2\" valign=\"top\">member</th>\n",
       "      <th>docked_bike</th>\n",
       "      <td>232832</td>\n",
       "      <td>11.366667</td>\n",
       "      <td>24.448729</td>\n",
       "    </tr>\n",
       "    <tr>\n",
       "      <th>electric_bike</th>\n",
       "      <td>69434</td>\n",
       "      <td>10.466667</td>\n",
       "      <td>14.522758</td>\n",
       "    </tr>\n",
       "    <tr>\n",
       "      <th rowspan=\"6\" valign=\"top\">2021 - 1 (January)</th>\n",
       "      <th rowspan=\"3\" valign=\"top\">member</th>\n",
       "      <th>electric_bike</th>\n",
       "      <td>25275</td>\n",
       "      <td>8.133333</td>\n",
       "      <td>11.829096</td>\n",
       "    </tr>\n",
       "    <tr>\n",
       "      <th>docked_bike</th>\n",
       "      <td>1</td>\n",
       "      <td>2.633333</td>\n",
       "      <td>2.633333</td>\n",
       "    </tr>\n",
       "    <tr>\n",
       "      <th>classic_bike</th>\n",
       "      <td>53441</td>\n",
       "      <td>8.966667</td>\n",
       "      <td>13.149776</td>\n",
       "    </tr>\n",
       "    <tr>\n",
       "      <th rowspan=\"3\" valign=\"top\">casual</th>\n",
       "      <th>electric_bike</th>\n",
       "      <td>7753</td>\n",
       "      <td>10.383333</td>\n",
       "      <td>14.607292</td>\n",
       "    </tr>\n",
       "    <tr>\n",
       "      <th>classic_bike</th>\n",
       "      <td>8259</td>\n",
       "      <td>12.850000</td>\n",
       "      <td>22.394989</td>\n",
       "    </tr>\n",
       "    <tr>\n",
       "      <th>docked_bike</th>\n",
       "      <td>2105</td>\n",
       "      <td>22.950000</td>\n",
       "      <td>46.554473</td>\n",
       "    </tr>\n",
       "    <tr>\n",
       "      <th rowspan=\"5\" valign=\"top\">2021 - 2 (February)</th>\n",
       "      <th rowspan=\"3\" valign=\"top\">casual</th>\n",
       "      <th>classic_bike</th>\n",
       "      <td>5695</td>\n",
       "      <td>17.050000</td>\n",
       "      <td>32.464492</td>\n",
       "    </tr>\n",
       "    <tr>\n",
       "      <th>docked_bike</th>\n",
       "      <td>1271</td>\n",
       "      <td>27.400000</td>\n",
       "      <td>64.910097</td>\n",
       "    </tr>\n",
       "    <tr>\n",
       "      <th>electric_bike</th>\n",
       "      <td>3165</td>\n",
       "      <td>11.933333</td>\n",
       "      <td>17.596893</td>\n",
       "    </tr>\n",
       "    <tr>\n",
       "      <th rowspan=\"2\" valign=\"top\">member</th>\n",
       "      <th>classic_bike</th>\n",
       "      <td>29317</td>\n",
       "      <td>10.500000</td>\n",
       "      <td>16.603646</td>\n",
       "    </tr>\n",
       "    <tr>\n",
       "      <th>electric_bike</th>\n",
       "      <td>10174</td>\n",
       "      <td>9.133333</td>\n",
       "      <td>13.758704</td>\n",
       "    </tr>\n",
       "    <tr>\n",
       "      <th rowspan=\"5\" valign=\"top\">2021 - 3 (March)</th>\n",
       "      <th>member</th>\n",
       "      <th>classic_bike</th>\n",
       "      <td>107017</td>\n",
       "      <td>10.250000</td>\n",
       "      <td>14.068661</td>\n",
       "    </tr>\n",
       "    <tr>\n",
       "      <th rowspan=\"3\" valign=\"top\">casual</th>\n",
       "      <th>classic_bike</th>\n",
       "      <td>45528</td>\n",
       "      <td>18.100000</td>\n",
       "      <td>29.546785</td>\n",
       "    </tr>\n",
       "    <tr>\n",
       "      <th>docked_bike</th>\n",
       "      <td>15657</td>\n",
       "      <td>30.466667</td>\n",
       "      <td>55.157054</td>\n",
       "    </tr>\n",
       "    <tr>\n",
       "      <th>electric_bike</th>\n",
       "      <td>22848</td>\n",
       "      <td>13.633333</td>\n",
       "      <td>21.549047</td>\n",
       "    </tr>\n",
       "    <tr>\n",
       "      <th>member</th>\n",
       "      <th>electric_bike</th>\n",
       "      <td>37446</td>\n",
       "      <td>9.300000</td>\n",
       "      <td>13.341765</td>\n",
       "    </tr>\n",
       "  </tbody>\n",
       "</table>\n",
       "</div>"
      ],
      "text/plain": [
       "                                                 ride_length_s             \\\n",
       "                                                         count     median   \n",
       "year_month           member_casual rideable_type                            \n",
       "2020 - 10 (October)  casual        docked_bike           79883  19.400000   \n",
       "                                   electric_bike         65129  13.000000   \n",
       "                     member        docked_bike          156594  10.533333   \n",
       "                                   electric_bike         87047   9.000000   \n",
       "2020 - 11 (November) casual        docked_bike           46013  20.666667   \n",
       "                                   electric_bike         42086  13.100000   \n",
       "                     member        docked_bike          105569  10.250000   \n",
       "                                   electric_bike         66048   8.750000   \n",
       "2020 - 12 (December) member        electric_bike         34160   8.483333   \n",
       "                                   docked_bike            7852   8.916667   \n",
       "                                   classic_bike          59297   9.283333   \n",
       "                     casual        electric_bike         13793  11.150000   \n",
       "                                   docked_bike            4943  21.516667   \n",
       "                                   classic_bike          11319  14.083333   \n",
       "2020 - 4 (April)     casual        docked_bike           23628  25.283333   \n",
       "                     member        docked_bike           61148  13.716667   \n",
       "2020 - 5 (May)       casual        docked_bike           86909  26.600000   \n",
       "                     member        docked_bike          113365  15.233333   \n",
       "2020 - 6 (June)      casual        docked_bike          154718  24.666667   \n",
       "                     member        docked_bike          188287  14.350000   \n",
       "2020 - 7 (July)      member        docked_bike          281089  13.450000   \n",
       "                                   electric_bike          1095  12.550000   \n",
       "                     casual        docked_bike          268456  25.516667   \n",
       "                                   electric_bike           840  15.900000   \n",
       "2020 - 8 (August)    casual        docked_bike          261201  22.800000   \n",
       "                                   electric_bike         28460  17.350000   \n",
       "                     member        docked_bike          294965  12.416667   \n",
       "                                   electric_bike         37735  12.066667   \n",
       "2020 - 9 (September) casual        docked_bike          171774  21.050000   \n",
       "                                   electric_bike         58918  15.200000   \n",
       "                     member        docked_bike          232832  11.366667   \n",
       "                                   electric_bike         69434  10.466667   \n",
       "2021 - 1 (January)   member        electric_bike         25275   8.133333   \n",
       "                                   docked_bike               1   2.633333   \n",
       "                                   classic_bike          53441   8.966667   \n",
       "                     casual        electric_bike          7753  10.383333   \n",
       "                                   classic_bike           8259  12.850000   \n",
       "                                   docked_bike            2105  22.950000   \n",
       "2021 - 2 (February)  casual        classic_bike           5695  17.050000   \n",
       "                                   docked_bike            1271  27.400000   \n",
       "                                   electric_bike          3165  11.933333   \n",
       "                     member        classic_bike          29317  10.500000   \n",
       "                                   electric_bike         10174   9.133333   \n",
       "2021 - 3 (March)     member        classic_bike         107017  10.250000   \n",
       "                     casual        classic_bike          45528  18.100000   \n",
       "                                   docked_bike           15657  30.466667   \n",
       "                                   electric_bike         22848  13.633333   \n",
       "                     member        electric_bike         37446   9.300000   \n",
       "\n",
       "                                                             \n",
       "                                                       mean  \n",
       "year_month           member_casual rideable_type             \n",
       "2020 - 10 (October)  casual        docked_bike    41.855253  \n",
       "                                   electric_bike  19.901330  \n",
       "                     member        docked_bike    27.378862  \n",
       "                                   electric_bike  12.538113  \n",
       "2020 - 11 (November) casual        docked_bike    40.666289  \n",
       "                                   electric_bike  20.719178  \n",
       "                     member        docked_bike    23.107242  \n",
       "                                   electric_bike  12.547033  \n",
       "2020 - 12 (December) member        electric_bike  13.451815  \n",
       "                                   docked_bike    21.537131  \n",
       "                                   classic_bike   12.982165  \n",
       "                     casual        electric_bike  18.038847  \n",
       "                                   docked_bike    42.460533  \n",
       "                                   classic_bike   23.878797  \n",
       "2020 - 4 (April)     casual        docked_bike    43.147367  \n",
       "                     member        docked_bike    19.018361  \n",
       "2020 - 5 (May)       casual        docked_bike    46.307785  \n",
       "                     member        docked_bike    20.744289  \n",
       "2020 - 6 (June)      casual        docked_bike    44.751047  \n",
       "                     member        docked_bike    20.597896  \n",
       "2020 - 7 (July)      member        docked_bike    23.128277  \n",
       "                                   electric_bike  16.809985  \n",
       "                     casual        docked_bike    48.913078  \n",
       "                                   electric_bike  26.929663  \n",
       "2020 - 8 (August)    casual        docked_bike    44.649198  \n",
       "                                   electric_bike  27.331165  \n",
       "                     member        docked_bike    24.671719  \n",
       "                                   electric_bike  16.667728  \n",
       "2020 - 9 (September) casual        docked_bike    40.691220  \n",
       "                                   electric_bike  23.374175  \n",
       "                     member        docked_bike    24.448729  \n",
       "                                   electric_bike  14.522758  \n",
       "2021 - 1 (January)   member        electric_bike  11.829096  \n",
       "                                   docked_bike     2.633333  \n",
       "                                   classic_bike   13.149776  \n",
       "                     casual        electric_bike  14.607292  \n",
       "                                   classic_bike   22.394989  \n",
       "                                   docked_bike    46.554473  \n",
       "2021 - 2 (February)  casual        classic_bike   32.464492  \n",
       "                                   docked_bike    64.910097  \n",
       "                                   electric_bike  17.596893  \n",
       "                     member        classic_bike   16.603646  \n",
       "                                   electric_bike  13.758704  \n",
       "2021 - 3 (March)     member        classic_bike   14.068661  \n",
       "                     casual        classic_bike   29.546785  \n",
       "                                   docked_bike    55.157054  \n",
       "                                   electric_bike  21.549047  \n",
       "                     member        electric_bike  13.341765  "
      ]
     },
     "execution_count": 60,
     "metadata": {},
     "output_type": "execute_result"
    }
   ],
   "source": [
    "# A deeper analysis to the differences between members and casuals by rideable type over the year and months.\n",
    "\n",
    "\n",
    "tripdataV2.groupby([\"year_month\", \"member_casual\", \"rideable_type\"]).aggregate({\"ride_length_s\":['count', 'median', \"mean\"]}).sort_values(\"year_month\")\n"
   ]
  },
  {
   "cell_type": "code",
   "execution_count": 61,
   "id": "cb15a7ff",
   "metadata": {
    "execution": {
     "iopub.execute_input": "2022-06-20T06:13:53.031111Z",
     "iopub.status.busy": "2022-06-20T06:13:53.030750Z",
     "iopub.status.idle": "2022-06-20T06:13:54.381647Z",
     "shell.execute_reply": "2022-06-20T06:13:54.380794Z"
    },
    "papermill": {
     "duration": 1.385604,
     "end_time": "2022-06-20T06:13:54.383731",
     "exception": false,
     "start_time": "2022-06-20T06:13:52.998127",
     "status": "completed"
    },
    "tags": []
   },
   "outputs": [
    {
     "data": {
      "text/html": [
       "<div>\n",
       "<style scoped>\n",
       "    .dataframe tbody tr th:only-of-type {\n",
       "        vertical-align: middle;\n",
       "    }\n",
       "\n",
       "    .dataframe tbody tr th {\n",
       "        vertical-align: top;\n",
       "    }\n",
       "\n",
       "    .dataframe thead tr th {\n",
       "        text-align: left;\n",
       "    }\n",
       "\n",
       "    .dataframe thead tr:last-of-type th {\n",
       "        text-align: right;\n",
       "    }\n",
       "</style>\n",
       "<table border=\"1\" class=\"dataframe\">\n",
       "  <thead>\n",
       "    <tr>\n",
       "      <th></th>\n",
       "      <th></th>\n",
       "      <th>ride_length_s</th>\n",
       "    </tr>\n",
       "    <tr>\n",
       "      <th></th>\n",
       "      <th></th>\n",
       "      <th>count</th>\n",
       "    </tr>\n",
       "    <tr>\n",
       "      <th>year_month</th>\n",
       "      <th>member_casual</th>\n",
       "      <th></th>\n",
       "    </tr>\n",
       "  </thead>\n",
       "  <tbody>\n",
       "    <tr>\n",
       "      <th rowspan=\"2\" valign=\"top\">2020 - 10 (October)</th>\n",
       "      <th>casual</th>\n",
       "      <td>4.155621</td>\n",
       "    </tr>\n",
       "    <tr>\n",
       "      <th>member</th>\n",
       "      <td>6.982040</td>\n",
       "    </tr>\n",
       "    <tr>\n",
       "      <th rowspan=\"2\" valign=\"top\">2020 - 11 (November)</th>\n",
       "      <th>casual</th>\n",
       "      <td>2.524660</td>\n",
       "    </tr>\n",
       "    <tr>\n",
       "      <th>member</th>\n",
       "      <td>4.918042</td>\n",
       "    </tr>\n",
       "    <tr>\n",
       "      <th rowspan=\"2\" valign=\"top\">2020 - 12 (December)</th>\n",
       "      <th>casual</th>\n",
       "      <td>0.861289</td>\n",
       "    </tr>\n",
       "    <tr>\n",
       "      <th>member</th>\n",
       "      <td>2.903220</td>\n",
       "    </tr>\n",
       "    <tr>\n",
       "      <th rowspan=\"2\" valign=\"top\">2020 - 4 (April)</th>\n",
       "      <th>casual</th>\n",
       "      <td>0.677109</td>\n",
       "    </tr>\n",
       "    <tr>\n",
       "      <th>member</th>\n",
       "      <td>1.752323</td>\n",
       "    </tr>\n",
       "    <tr>\n",
       "      <th rowspan=\"2\" valign=\"top\">2020 - 5 (May)</th>\n",
       "      <th>casual</th>\n",
       "      <td>2.490558</td>\n",
       "    </tr>\n",
       "    <tr>\n",
       "      <th>member</th>\n",
       "      <td>3.248710</td>\n",
       "    </tr>\n",
       "    <tr>\n",
       "      <th rowspan=\"2\" valign=\"top\">2020 - 6 (June)</th>\n",
       "      <th>casual</th>\n",
       "      <td>4.433766</td>\n",
       "    </tr>\n",
       "    <tr>\n",
       "      <th>member</th>\n",
       "      <td>5.395756</td>\n",
       "    </tr>\n",
       "    <tr>\n",
       "      <th rowspan=\"2\" valign=\"top\">2020 - 7 (July)</th>\n",
       "      <th>casual</th>\n",
       "      <td>7.717237</td>\n",
       "    </tr>\n",
       "    <tr>\n",
       "      <th>member</th>\n",
       "      <td>8.086570</td>\n",
       "    </tr>\n",
       "    <tr>\n",
       "      <th rowspan=\"2\" valign=\"top\">2020 - 8 (August)</th>\n",
       "      <th>casual</th>\n",
       "      <td>8.300839</td>\n",
       "    </tr>\n",
       "    <tr>\n",
       "      <th>member</th>\n",
       "      <td>9.534211</td>\n",
       "    </tr>\n",
       "    <tr>\n",
       "      <th rowspan=\"2\" valign=\"top\">2020 - 9 (September)</th>\n",
       "      <th>casual</th>\n",
       "      <td>6.610959</td>\n",
       "    </tr>\n",
       "    <tr>\n",
       "      <th>member</th>\n",
       "      <td>8.662061</td>\n",
       "    </tr>\n",
       "    <tr>\n",
       "      <th rowspan=\"2\" valign=\"top\">2021 - 1 (January)</th>\n",
       "      <th>casual</th>\n",
       "      <td>0.519180</td>\n",
       "    </tr>\n",
       "    <tr>\n",
       "      <th>member</th>\n",
       "      <td>2.255799</td>\n",
       "    </tr>\n",
       "    <tr>\n",
       "      <th rowspan=\"2\" valign=\"top\">2021 - 2 (February)</th>\n",
       "      <th>casual</th>\n",
       "      <td>0.290325</td>\n",
       "    </tr>\n",
       "    <tr>\n",
       "      <th>member</th>\n",
       "      <td>1.131697</td>\n",
       "    </tr>\n",
       "    <tr>\n",
       "      <th rowspan=\"2\" valign=\"top\">2021 - 3 (March)</th>\n",
       "      <th>casual</th>\n",
       "      <td>2.408140</td>\n",
       "    </tr>\n",
       "    <tr>\n",
       "      <th>member</th>\n",
       "      <td>4.139888</td>\n",
       "    </tr>\n",
       "  </tbody>\n",
       "</table>\n",
       "</div>"
      ],
      "text/plain": [
       "                                   ride_length_s\n",
       "                                           count\n",
       "year_month           member_casual              \n",
       "2020 - 10 (October)  casual             4.155621\n",
       "                     member             6.982040\n",
       "2020 - 11 (November) casual             2.524660\n",
       "                     member             4.918042\n",
       "2020 - 12 (December) casual             0.861289\n",
       "                     member             2.903220\n",
       "2020 - 4 (April)     casual             0.677109\n",
       "                     member             1.752323\n",
       "2020 - 5 (May)       casual             2.490558\n",
       "                     member             3.248710\n",
       "2020 - 6 (June)      casual             4.433766\n",
       "                     member             5.395756\n",
       "2020 - 7 (July)      casual             7.717237\n",
       "                     member             8.086570\n",
       "2020 - 8 (August)    casual             8.300839\n",
       "                     member             9.534211\n",
       "2020 - 9 (September) casual             6.610959\n",
       "                     member             8.662061\n",
       "2021 - 1 (January)   casual             0.519180\n",
       "                     member             2.255799\n",
       "2021 - 2 (February)  casual             0.290325\n",
       "                     member             1.131697\n",
       "2021 - 3 (March)     casual             2.408140\n",
       "                     member             4.139888"
      ]
     },
     "execution_count": 61,
     "metadata": {},
     "output_type": "execute_result"
    }
   ],
   "source": [
    "# doing the analysis by percentage\n",
    "\n",
    "tripdataV2.groupby([ \"year_month\", \"member_casual\"]).aggregate({\"ride_length_s\":['count']}) / len(tripdataV2) * 100\n"
   ]
  },
  {
   "cell_type": "markdown",
   "id": "27245d72",
   "metadata": {
    "papermill": {
     "duration": 0.031694,
     "end_time": "2022-06-20T06:13:54.447165",
     "exception": false,
     "start_time": "2022-06-20T06:13:54.415471",
     "status": "completed"
    },
    "tags": []
   },
   "source": [
    "# Displaying Visuals"
   ]
  },
  {
   "cell_type": "code",
   "execution_count": 62,
   "id": "b080384d",
   "metadata": {
    "execution": {
     "iopub.execute_input": "2022-06-20T06:13:54.513126Z",
     "iopub.status.busy": "2022-06-20T06:13:54.512261Z",
     "iopub.status.idle": "2022-06-20T06:13:54.968889Z",
     "shell.execute_reply": "2022-06-20T06:13:54.967498Z"
    },
    "papermill": {
     "duration": 0.491896,
     "end_time": "2022-06-20T06:13:54.971294",
     "exception": false,
     "start_time": "2022-06-20T06:13:54.479398",
     "status": "completed"
    },
    "tags": []
   },
   "outputs": [
    {
     "data": {
      "text/plain": [
       "Text(0.5, 1.0, 'Most used bike')"
      ]
     },
     "execution_count": 62,
     "metadata": {},
     "output_type": "execute_result"
    },
    {
     "data": {
      "image/png": "[encoded data removed]",
      "text/plain": [
       "<Figure size 432x288 with 1 Axes>"
      ]
     },
     "metadata": {
      "needs_background": "light"
     },
     "output_type": "display_data"
    }
   ],
   "source": [
    "plt.plot(tripdataV2.groupby(\"rideable_type\").aggregate({\"ride_length_s\":['count']}) / len(compare_ride_length) * 100, marker=\"o\")\n",
    "plt.title(\"Most used bike\")"
   ]
  },
  {
   "cell_type": "markdown",
   "id": "4d1ffa58",
   "metadata": {
    "papermill": {
     "duration": 0.031913,
     "end_time": "2022-06-20T06:13:55.036674",
     "exception": false,
     "start_time": "2022-06-20T06:13:55.004761",
     "status": "completed"
    },
    "tags": []
   },
   "source": [
    "**We can easily see that the most used bike was the docked_bike**"
   ]
  },
  {
   "cell_type": "code",
   "execution_count": 63,
   "id": "851a5ae1",
   "metadata": {
    "execution": {
     "iopub.execute_input": "2022-06-20T06:13:55.103720Z",
     "iopub.status.busy": "2022-06-20T06:13:55.103116Z",
     "iopub.status.idle": "2022-06-20T06:13:56.126499Z",
     "shell.execute_reply": "2022-06-20T06:13:56.125462Z"
    },
    "papermill": {
     "duration": 1.059178,
     "end_time": "2022-06-20T06:13:56.128540",
     "exception": false,
     "start_time": "2022-06-20T06:13:55.069362",
     "status": "completed"
    },
    "tags": []
   },
   "outputs": [
    {
     "data": {
      "text/html": [
       "<div>\n",
       "<style scoped>\n",
       "    .dataframe tbody tr th:only-of-type {\n",
       "        vertical-align: middle;\n",
       "    }\n",
       "\n",
       "    .dataframe tbody tr th {\n",
       "        vertical-align: top;\n",
       "    }\n",
       "\n",
       "    .dataframe thead tr th {\n",
       "        text-align: left;\n",
       "    }\n",
       "\n",
       "    .dataframe thead tr:last-of-type th {\n",
       "        text-align: right;\n",
       "    }\n",
       "</style>\n",
       "<table border=\"1\" class=\"dataframe\">\n",
       "  <thead>\n",
       "    <tr>\n",
       "      <th></th>\n",
       "      <th colspan=\"3\" halign=\"left\">ride_length_s</th>\n",
       "    </tr>\n",
       "    <tr>\n",
       "      <th></th>\n",
       "      <th>count</th>\n",
       "      <th>median</th>\n",
       "      <th>mean</th>\n",
       "    </tr>\n",
       "    <tr>\n",
       "      <th>weekday</th>\n",
       "      <th></th>\n",
       "      <th></th>\n",
       "      <th></th>\n",
       "    </tr>\n",
       "  </thead>\n",
       "  <tbody>\n",
       "    <tr>\n",
       "      <th>Monday</th>\n",
       "      <td>419556</td>\n",
       "      <td>13.450000</td>\n",
       "      <td>26.286407</td>\n",
       "    </tr>\n",
       "    <tr>\n",
       "      <th>Tuesday</th>\n",
       "      <td>431083</td>\n",
       "      <td>12.983333</td>\n",
       "      <td>25.640836</td>\n",
       "    </tr>\n",
       "    <tr>\n",
       "      <th>Wednesday</th>\n",
       "      <td>464804</td>\n",
       "      <td>13.000000</td>\n",
       "      <td>25.054509</td>\n",
       "    </tr>\n",
       "    <tr>\n",
       "      <th>Thursday</th>\n",
       "      <td>467993</td>\n",
       "      <td>13.150000</td>\n",
       "      <td>25.023554</td>\n",
       "    </tr>\n",
       "    <tr>\n",
       "      <th>Friday</th>\n",
       "      <td>516802</td>\n",
       "      <td>14.066667</td>\n",
       "      <td>28.536724</td>\n",
       "    </tr>\n",
       "    <tr>\n",
       "      <th>Saturday</th>\n",
       "      <td>660184</td>\n",
       "      <td>17.450000</td>\n",
       "      <td>32.968669</td>\n",
       "    </tr>\n",
       "    <tr>\n",
       "      <th>Sunday</th>\n",
       "      <td>529117</td>\n",
       "      <td>17.733333</td>\n",
       "      <td>33.466815</td>\n",
       "    </tr>\n",
       "  </tbody>\n",
       "</table>\n",
       "</div>"
      ],
      "text/plain": [
       "          ride_length_s                      \n",
       "                  count     median       mean\n",
       "weekday                                      \n",
       "Monday           419556  13.450000  26.286407\n",
       "Tuesday          431083  12.983333  25.640836\n",
       "Wednesday        464804  13.000000  25.054509\n",
       "Thursday         467993  13.150000  25.023554\n",
       "Friday           516802  14.066667  28.536724\n",
       "Saturday         660184  17.450000  32.968669\n",
       "Sunday           529117  17.733333  33.466815"
      ]
     },
     "execution_count": 63,
     "metadata": {},
     "output_type": "execute_result"
    }
   ],
   "source": [
    "tripdataV2.groupby(\"weekday\").aggregate({\"ride_length_s\":['count', 'median', \"mean\"]}).reindex(new_index)\n"
   ]
  },
  {
   "cell_type": "markdown",
   "id": "d6342689",
   "metadata": {
    "papermill": {
     "duration": 0.032572,
     "end_time": "2022-06-20T06:13:56.193725",
     "exception": false,
     "start_time": "2022-06-20T06:13:56.161153",
     "status": "completed"
    },
    "tags": []
   },
   "source": [
    "**We will display the count of the ride length in seconds by the weedays**"
   ]
  },
  {
   "cell_type": "code",
   "execution_count": 64,
   "id": "ea018e7b",
   "metadata": {
    "execution": {
     "iopub.execute_input": "2022-06-20T06:13:56.262386Z",
     "iopub.status.busy": "2022-06-20T06:13:56.261106Z",
     "iopub.status.idle": "2022-06-20T06:13:57.300851Z",
     "shell.execute_reply": "2022-06-20T06:13:57.300126Z"
    },
    "papermill": {
     "duration": 1.076533,
     "end_time": "2022-06-20T06:13:57.302591",
     "exception": false,
     "start_time": "2022-06-20T06:13:56.226058",
     "status": "completed"
    },
    "tags": []
   },
   "outputs": [
    {
     "data": {
      "text/plain": [
       "Text(0.5, 1.0, 'count of ride length in sec by weekday')"
      ]
     },
     "execution_count": 64,
     "metadata": {},
     "output_type": "execute_result"
    },
    {
     "data": {
      "image/png": "[encoded data removed]",
      "text/plain": [
       "<Figure size 432x288 with 1 Axes>"
      ]
     },
     "metadata": {
      "needs_background": "light"
     },
     "output_type": "display_data"
    }
   ],
   "source": [
    "\n",
    "plt.plot(tripdataV2.groupby(\"weekday\").aggregate({\"ride_length_s\":['count']}).reindex(new_index), marker=\"o\")\n",
    "plt.title(\"count of ride length in sec by weekday\")"
   ]
  },
  {
   "cell_type": "markdown",
   "id": "9d257a16",
   "metadata": {
    "papermill": {
     "duration": 0.032798,
     "end_time": "2022-06-20T06:13:57.368737",
     "exception": false,
     "start_time": "2022-06-20T06:13:57.335939",
     "status": "completed"
    },
    "tags": []
   },
   "source": [
    "* **There are more rides on saturday than the rest of the day From the chart we can see that dorked_bikes are the preferred bike and mostly used ridable_bike**"
   ]
  },
  {
   "cell_type": "markdown",
   "id": "b45e3a33",
   "metadata": {
    "papermill": {
     "duration": 0.032383,
     "end_time": "2022-06-20T06:13:57.433975",
     "exception": false,
     "start_time": "2022-06-20T06:13:57.401592",
     "status": "completed"
    },
    "tags": []
   },
   "source": [
    "**Now the same but analyzing the the mean**"
   ]
  },
  {
   "cell_type": "code",
   "execution_count": 65,
   "id": "522c5403",
   "metadata": {
    "execution": {
     "iopub.execute_input": "2022-06-20T06:13:57.501693Z",
     "iopub.status.busy": "2022-06-20T06:13:57.501095Z",
     "iopub.status.idle": "2022-06-20T06:13:58.532394Z",
     "shell.execute_reply": "2022-06-20T06:13:58.531280Z"
    },
    "papermill": {
     "duration": 1.067696,
     "end_time": "2022-06-20T06:13:58.534676",
     "exception": false,
     "start_time": "2022-06-20T06:13:57.466980",
     "status": "completed"
    },
    "tags": []
   },
   "outputs": [
    {
     "data": {
      "text/plain": [
       "Text(0.5, 1.0, 'avg ride length in sec by weekday')"
      ]
     },
     "execution_count": 65,
     "metadata": {},
     "output_type": "execute_result"
    },
    {
     "data": {
      "image/png": "[encoded data removed]",
      "text/plain": [
       "<Figure size 432x288 with 1 Axes>"
      ]
     },
     "metadata": {
      "needs_background": "light"
     },
     "output_type": "display_data"
    }
   ],
   "source": [
    "plt.plot(tripdataV2.groupby(\"weekday\").aggregate({\"ride_length_s\":['mean']}).reindex(new_index), marker=\"o\")\n",
    "plt.title(\"avg ride length in sec by weekday\")\n",
    "\n"
   ]
  },
  {
   "cell_type": "markdown",
   "id": "56d1bae7",
   "metadata": {
    "papermill": {
     "duration": 0.032981,
     "end_time": "2022-06-20T06:13:58.602125",
     "exception": false,
     "start_time": "2022-06-20T06:13:58.569144",
     "status": "completed"
    },
    "tags": []
   },
   "source": [
    "**Now we are going to use a viz to show the ride length in seconds in percentage between members and casuals**"
   ]
  },
  {
   "cell_type": "code",
   "execution_count": 66,
   "id": "5325d021",
   "metadata": {
    "execution": {
     "iopub.execute_input": "2022-06-20T06:13:58.671294Z",
     "iopub.status.busy": "2022-06-20T06:13:58.670602Z",
     "iopub.status.idle": "2022-06-20T06:13:59.060846Z",
     "shell.execute_reply": "2022-06-20T06:13:59.059522Z"
    },
    "papermill": {
     "duration": 0.428788,
     "end_time": "2022-06-20T06:13:59.064514",
     "exception": false,
     "start_time": "2022-06-20T06:13:58.635726",
     "status": "completed"
    },
    "tags": []
   },
   "outputs": [
    {
     "data": {
      "text/plain": [
       "<matplotlib.legend.Legend at 0x7ff315a87190>"
      ]
     },
     "execution_count": 66,
     "metadata": {},
     "output_type": "execute_result"
    },
    {
     "data": {
      "image/png": "[encoded data removed]",
      "text/plain": [
       "<Figure size 432x288 with 1 Axes>"
      ]
     },
     "metadata": {
      "needs_background": "light"
     },
     "output_type": "display_data"
    }
   ],
   "source": [
    "plt.plot(compare_ride_length.groupby(\"member_casual\").count() / len(compare_ride_length) * 100, label=\"member is 19% higher\", marker=\"o\")\n",
    "\n",
    "plt.yticks([30, 40, 50, 60, 70])\n",
    "\n",
    "plt.title(\"ride length % in sec (member X casual)\")\n",
    "plt.legend()\n"
   ]
  },
  {
   "cell_type": "markdown",
   "id": "ac233fa2",
   "metadata": {
    "papermill": {
     "duration": 0.033394,
     "end_time": "2022-06-20T06:13:59.165274",
     "exception": false,
     "start_time": "2022-06-20T06:13:59.131880",
     "status": "completed"
    },
    "tags": []
   },
   "source": [
    "* **We see that member perform a higher length than casuals**"
   ]
  },
  {
   "cell_type": "code",
   "execution_count": 67,
   "id": "20205e18",
   "metadata": {
    "execution": {
     "iopub.execute_input": "2022-06-20T06:13:59.234806Z",
     "iopub.status.busy": "2022-06-20T06:13:59.234381Z",
     "iopub.status.idle": "2022-06-20T06:13:59.967845Z",
     "shell.execute_reply": "2022-06-20T06:13:59.966633Z"
    },
    "papermill": {
     "duration": 0.772471,
     "end_time": "2022-06-20T06:13:59.971369",
     "exception": false,
     "start_time": "2022-06-20T06:13:59.198898",
     "status": "completed"
    },
    "tags": []
   },
   "outputs": [
    {
     "data": {
      "text/plain": [
       "Text(0.5, 1.0, 'median and mean(member X casual)')"
      ]
     },
     "execution_count": 67,
     "metadata": {},
     "output_type": "execute_result"
    },
    {
     "data": {
      "image/png": "[encoded data removed]",
      "text/plain": [
       "<Figure size 432x288 with 1 Axes>"
      ]
     },
     "metadata": {
      "needs_background": "light"
     },
     "output_type": "display_data"
    }
   ],
   "source": [
    "plt.plot(tripdataV2.groupby(tripdataV2[\"member_casual\"]).aggregate({\"ride_length_s\":[ 'median']}), marker=\"o\", label=\"median\")\n",
    "\n",
    "plt.plot(tripdataV2.groupby(tripdataV2[\"member_casual\"]).aggregate({\"ride_length_s\":['mean']}), marker=\"o\", label=\"mean\")\n",
    "\n",
    "plt.yticks([0, 10, 20, 30, 40, 50])\n",
    "plt.legend()\n",
    "plt.title(\"median and mean(member X casual)\")\n"
   ]
  },
  {
   "cell_type": "markdown",
   "id": "95119356",
   "metadata": {
    "papermill": {
     "duration": 0.034496,
     "end_time": "2022-06-20T06:14:00.071616",
     "exception": false,
     "start_time": "2022-06-20T06:14:00.037120",
     "status": "completed"
    },
    "tags": []
   },
   "source": [
    "* **Even though members have a higher ride lengh the average ride length by casuals are higher**"
   ]
  },
  {
   "cell_type": "markdown",
   "id": "39fbfba2",
   "metadata": {
    "papermill": {
     "duration": 0.033876,
     "end_time": "2022-06-20T06:14:00.140273",
     "exception": false,
     "start_time": "2022-06-20T06:14:00.106397",
     "status": "completed"
    },
    "tags": []
   },
   "source": [
    "## **Bar charts**"
   ]
  },
  {
   "cell_type": "code",
   "execution_count": 68,
   "id": "fd8549d7",
   "metadata": {
    "execution": {
     "iopub.execute_input": "2022-06-20T06:14:00.212395Z",
     "iopub.status.busy": "2022-06-20T06:14:00.212012Z",
     "iopub.status.idle": "2022-06-20T06:14:01.356883Z",
     "shell.execute_reply": "2022-06-20T06:14:01.355464Z"
    },
    "papermill": {
     "duration": 1.183145,
     "end_time": "2022-06-20T06:14:01.358975",
     "exception": false,
     "start_time": "2022-06-20T06:14:00.175830",
     "status": "completed"
    },
    "tags": []
   },
   "outputs": [
    {
     "data": {
      "text/plain": [
       "<AxesSubplot:xlabel='weekday'>"
      ]
     },
     "execution_count": 68,
     "metadata": {},
     "output_type": "execute_result"
    },
    {
     "data": {
      "image/png": "[encoded data removed]",
      "text/plain": [
       "<Figure size 432x288 with 1 Axes>"
      ]
     },
     "metadata": {
      "needs_background": "light"
     },
     "output_type": "display_data"
    }
   ],
   "source": [
    "tripdataV2.groupby([\"weekday\"]).aggregate({\"ride_length_s\":[\"count\"]}).reindex(new_index).plot.bar()"
   ]
  },
  {
   "cell_type": "code",
   "execution_count": 69,
   "id": "e095ec63",
   "metadata": {
    "execution": {
     "iopub.execute_input": "2022-06-20T06:14:01.430278Z",
     "iopub.status.busy": "2022-06-20T06:14:01.429875Z",
     "iopub.status.idle": "2022-06-20T06:14:02.689753Z",
     "shell.execute_reply": "2022-06-20T06:14:02.688617Z"
    },
    "papermill": {
     "duration": 1.298274,
     "end_time": "2022-06-20T06:14:02.692081",
     "exception": false,
     "start_time": "2022-06-20T06:14:01.393807",
     "status": "completed"
    },
    "tags": []
   },
   "outputs": [
    {
     "data": {
      "text/plain": [
       "<AxesSubplot:xlabel='year_month'>"
      ]
     },
     "execution_count": 69,
     "metadata": {},
     "output_type": "execute_result"
    },
    {
     "data": {
      "image/png": "[encoded data removed]",
      "text/plain": [
       "<Figure size 432x288 with 1 Axes>"
      ]
     },
     "metadata": {
      "needs_background": "light"
     },
     "output_type": "display_data"
    }
   ],
   "source": [
    "tripdataV2.groupby([\"year_month\"]).aggregate({\"ride_length_s\":[\"count\"]}).plot.bar()"
   ]
  },
  {
   "cell_type": "markdown",
   "id": "078cb456",
   "metadata": {
    "papermill": {
     "duration": 0.038277,
     "end_time": "2022-06-20T06:14:02.768444",
     "exception": false,
     "start_time": "2022-06-20T06:14:02.730167",
     "status": "completed"
    },
    "tags": []
   },
   "source": [
    "* **There are more rides on the August month than the rest of the months From the chart**"
   ]
  },
  {
   "cell_type": "markdown",
   "id": "d0550cda",
   "metadata": {
    "papermill": {
     "duration": 0.034919,
     "end_time": "2022-06-20T06:14:02.840836",
     "exception": false,
     "start_time": "2022-06-20T06:14:02.805917",
     "status": "completed"
    },
    "tags": []
   },
   "source": [
    "### Visuals with heatmaps"
   ]
  },
  {
   "cell_type": "code",
   "execution_count": 70,
   "id": "3bc204ca",
   "metadata": {
    "execution": {
     "iopub.execute_input": "2022-06-20T06:14:02.915138Z",
     "iopub.status.busy": "2022-06-20T06:14:02.914778Z",
     "iopub.status.idle": "2022-06-20T06:14:04.830654Z",
     "shell.execute_reply": "2022-06-20T06:14:04.829849Z"
    },
    "papermill": {
     "duration": 1.954879,
     "end_time": "2022-06-20T06:14:04.832601",
     "exception": false,
     "start_time": "2022-06-20T06:14:02.877722",
     "status": "completed"
    },
    "tags": []
   },
   "outputs": [
    {
     "data": {
      "text/plain": [
       "Text(0.5, 104.09375, 'Avg ride length in sec')"
      ]
     },
     "execution_count": 70,
     "metadata": {},
     "output_type": "execute_result"
    },
    {
     "data": {
      "image/png": "[encoded data removed]",
      "text/plain": [
       "<Figure size 1008x1008 with 2 Axes>"
      ]
     },
     "metadata": {
      "needs_background": "light"
     },
     "output_type": "display_data"
    }
   ],
   "source": [
    "# Set the width and height of the figure\n",
    "plt.figure(figsize=(14,14))\n",
    "\n",
    "# Add title\n",
    "plt.title(\"Avg ride length in sec by member_casual and year_month\")\n",
    "\n",
    "# Heatmap showing average arrival delay for each airline by month\n",
    "sn.heatmap(data=tripdataV2.groupby([\"year_month\", 'member_casual']).aggregate({\"ride_length_s\":[\"mean\"]}), annot=True)\n",
    "\n",
    "# Add label for horizontal axis\n",
    "plt.xlabel(\"Avg ride length in sec\")"
   ]
  },
  {
   "cell_type": "markdown",
   "id": "664a395a",
   "metadata": {
    "papermill": {
     "duration": 0.036713,
     "end_time": "2022-06-20T06:14:04.906619",
     "exception": false,
     "start_time": "2022-06-20T06:14:04.869906",
     "status": "completed"
    },
    "tags": []
   },
   "source": [
    "**Now using the count**"
   ]
  },
  {
   "cell_type": "code",
   "execution_count": 71,
   "id": "f7b78eed",
   "metadata": {
    "execution": {
     "iopub.execute_input": "2022-06-20T06:14:04.982164Z",
     "iopub.status.busy": "2022-06-20T06:14:04.980947Z",
     "iopub.status.idle": "2022-06-20T06:14:06.921962Z",
     "shell.execute_reply": "2022-06-20T06:14:06.921290Z"
    },
    "papermill": {
     "duration": 1.980788,
     "end_time": "2022-06-20T06:14:06.923850",
     "exception": false,
     "start_time": "2022-06-20T06:14:04.943062",
     "status": "completed"
    },
    "tags": []
   },
   "outputs": [
    {
     "data": {
      "text/plain": [
       "Text(0.5, 104.09375, 'total ride length in sec')"
      ]
     },
     "execution_count": 71,
     "metadata": {},
     "output_type": "execute_result"
    },
    {
     "data": {
      "image/png": "[encoded data removed]",
      "text/plain": [
       "<Figure size 1008x1008 with 2 Axes>"
      ]
     },
     "metadata": {
      "needs_background": "light"
     },
     "output_type": "display_data"
    }
   ],
   "source": [
    "# Set the width and height of the figure\n",
    "plt.figure(figsize=(14,14))\n",
    "\n",
    "# Add title\n",
    "plt.title(\"total ride length in sec by member_casual and year_month\")\n",
    "\n",
    "# Heatmap showing average arrival delay for each airline by month\n",
    "sn.heatmap(data=tripdataV2.groupby([\"year_month\", 'member_casual']).aggregate({\"ride_length_s\":[\"count\"]}), annot=True)\n",
    "\n",
    "# Add label for horizontal axis\n",
    "plt.xlabel(\"total ride length in sec\")"
   ]
  },
  {
   "cell_type": "markdown",
   "id": "291c05b4",
   "metadata": {
    "papermill": {
     "duration": 0.040583,
     "end_time": "2022-06-20T06:14:07.004041",
     "exception": false,
     "start_time": "2022-06-20T06:14:06.963458",
     "status": "completed"
    },
    "tags": []
   },
   "source": [
    "* **We will see the avg ride length per weekday between members and casuals**"
   ]
  },
  {
   "cell_type": "code",
   "execution_count": 72,
   "id": "e5ae6641",
   "metadata": {
    "execution": {
     "iopub.execute_input": "2022-06-20T06:14:07.105331Z",
     "iopub.status.busy": "2022-06-20T06:14:07.104663Z",
     "iopub.status.idle": "2022-06-20T06:14:08.766515Z",
     "shell.execute_reply": "2022-06-20T06:14:08.765808Z"
    },
    "papermill": {
     "duration": 1.719781,
     "end_time": "2022-06-20T06:14:08.768530",
     "exception": false,
     "start_time": "2022-06-20T06:14:07.048749",
     "status": "completed"
    },
    "tags": []
   },
   "outputs": [
    {
     "data": {
      "text/plain": [
       "Text(0.5, 59.09375, 'Avg ride length in sec')"
      ]
     },
     "execution_count": 72,
     "metadata": {},
     "output_type": "execute_result"
    },
    {
     "data": {
      "image/png": "[encoded data removed]",
      "text/plain": [
       "<Figure size 1080x648 with 2 Axes>"
      ]
     },
     "metadata": {
      "needs_background": "light"
     },
     "output_type": "display_data"
    }
   ],
   "source": [
    "# Set the width and height of the figure\n",
    "plt.figure(figsize=(15,9))\n",
    "\n",
    "# Add title\n",
    "plt.title(\"Avg ride length in sec by member_casual and weekday\")\n",
    "\n",
    "# Heatmap showing average arrival delay for each airline by month\n",
    "sn.heatmap(data=tripdataV2.groupby([\"dayofweek_weekday\", 'member_casual']).aggregate({\"ride_length_s\":[\"mean\"]}).sort_values(\"dayofweek_weekday\"), annot=True)\n",
    "\n",
    "# Add label for horizontal axis\n",
    "plt.xlabel(\"Avg ride length in sec\")\n",
    "\n",
    "\n"
   ]
  },
  {
   "cell_type": "markdown",
   "id": "7c6413a2",
   "metadata": {
    "papermill": {
     "duration": 0.039336,
     "end_time": "2022-06-20T06:14:08.847135",
     "exception": false,
     "start_time": "2022-06-20T06:14:08.807799",
     "status": "completed"
    },
    "tags": []
   },
   "source": [
    "* **We will see the total ride length per weekday between members and casuals**"
   ]
  },
  {
   "cell_type": "code",
   "execution_count": 73,
   "id": "008041eb",
   "metadata": {
    "execution": {
     "iopub.execute_input": "2022-06-20T06:14:08.927781Z",
     "iopub.status.busy": "2022-06-20T06:14:08.927403Z",
     "iopub.status.idle": "2022-06-20T06:14:10.602068Z",
     "shell.execute_reply": "2022-06-20T06:14:10.601142Z"
    },
    "papermill": {
     "duration": 1.716952,
     "end_time": "2022-06-20T06:14:10.604011",
     "exception": false,
     "start_time": "2022-06-20T06:14:08.887059",
     "status": "completed"
    },
    "tags": []
   },
   "outputs": [
    {
     "data": {
      "text/plain": [
       "Text(0.5, 59.09375, 'total ride length in sec')"
      ]
     },
     "execution_count": 73,
     "metadata": {},
     "output_type": "execute_result"
    },
    {
     "data": {
      "image/png": "[encoded data removed]",
      "text/plain": [
       "<Figure size 1080x648 with 2 Axes>"
      ]
     },
     "metadata": {
      "needs_background": "light"
     },
     "output_type": "display_data"
    }
   ],
   "source": [
    "# Set the width and height of the figure\n",
    "plt.figure(figsize=(15,9))\n",
    "\n",
    "# Add title\n",
    "plt.title(\"total ride length in sec by member_casual and weekday\")\n",
    "\n",
    "# Heatmap showing average arrival delay for each airline by month\n",
    "sn.heatmap(data=tripdataV2.groupby([\"dayofweek_weekday\", 'member_casual']).aggregate({\"ride_length_s\":[\"count\"]}).sort_values(\"dayofweek_weekday\"), annot=True)\n",
    "\n",
    "# Add label for horizontal axis\n",
    "plt.xlabel(\"total ride length in sec\")\n",
    "\n"
   ]
  },
  {
   "cell_type": "markdown",
   "id": "f4ffeef5",
   "metadata": {
    "papermill": {
     "duration": 0.040239,
     "end_time": "2022-06-20T06:14:10.685191",
     "exception": false,
     "start_time": "2022-06-20T06:14:10.644952",
     "status": "completed"
    },
    "tags": []
   },
   "source": [
    "# Share"
   ]
  },
  {
   "cell_type": "markdown",
   "id": "29d1ff40",
   "metadata": {
    "papermill": {
     "duration": 0.039774,
     "end_time": "2022-06-20T06:14:10.765109",
     "exception": false,
     "start_time": "2022-06-20T06:14:10.725335",
     "status": "completed"
    },
    "tags": []
   },
   "source": [
    "**From our analysis we could gain insights some insights as:**"
   ]
  },
  {
   "cell_type": "markdown",
   "id": "3df6fa90",
   "metadata": {
    "papermill": {
     "duration": 0.040081,
     "end_time": "2022-06-20T06:14:10.845159",
     "exception": false,
     "start_time": "2022-06-20T06:14:10.805078",
     "status": "completed"
    },
    "tags": []
   },
   "source": [
    "1. Members make up approximately 59% of the dataset while the Casuals make up 41%\n",
    "2. August had the highest number of rides and the weekday with the highest number of rides is Saturday\n",
    "3. In each month there are more member riders than casual riders\n",
    "4. The weekend had more ridership data than the rest of the week being saturday the highest\n",
    "5. Casual riders have more ride duration than member riders\n",
    "6. The labor days have more members than casuals even though the ride length from casuals are higher even in this days"
   ]
  },
  {
   "cell_type": "markdown",
   "id": "12a52e12",
   "metadata": {
    "papermill": {
     "duration": 0.040495,
     "end_time": "2022-06-20T06:14:10.925678",
     "exception": false,
     "start_time": "2022-06-20T06:14:10.885183",
     "status": "completed"
    },
    "tags": []
   },
   "source": [
    "# Recommendation"
   ]
  },
  {
   "cell_type": "markdown",
   "id": "1255a0b4",
   "metadata": {
    "papermill": {
     "duration": 0.039237,
     "end_time": "2022-06-20T06:14:11.004473",
     "exception": false,
     "start_time": "2022-06-20T06:14:10.965236",
     "status": "completed"
    },
    "tags": []
   },
   "source": [
    "\n",
    "* **The duration of rides for members should be increased**\n",
    "* **New attracted marketing campaigns for casual riders should be launched**\n",
    "* **It should have special discounts for those months and days where there are less riders**"
   ]
  },
  {
   "cell_type": "markdown",
   "id": "a7c2227e",
   "metadata": {
    "papermill": {
     "duration": 0.039926,
     "end_time": "2022-06-20T06:14:11.084236",
     "exception": false,
     "start_time": "2022-06-20T06:14:11.044310",
     "status": "completed"
    },
    "tags": []
   },
   "source": [
    "# Thank you\n",
    "\n",
    "how to contact me\n",
    "> ladislauandre98@gmail.com"
   ]
  }
 ],
 "metadata": {
  "kernelspec": {
   "display_name": "Python 3",
   "language": "python",
   "name": "python3"
  },
  "language_info": {
   "codemirror_mode": {
    "name": "ipython",
    "version": 3
   },
   "file_extension": ".py",
   "mimetype": "text/x-python",
   "name": "python",
   "nbconvert_exporter": "python",
   "pygments_lexer": "ipython3",
   "version": "3.7.12"
  },
  "papermill": {
   "default_parameters": {},
   "duration": 159.553193,
   "end_time": "2022-06-20T06:14:13.642101",
   "environment_variables": {},
   "exception": null,
   "input_path": "__notebook__.ipynb",
   "output_path": "__notebook__.ipynb",
   "parameters": {},
   "start_time": "2022-06-20T06:11:34.088908",
   "version": "2.3.4"
  }
 },
 "nbformat": 4,
 "nbformat_minor": 5
}
